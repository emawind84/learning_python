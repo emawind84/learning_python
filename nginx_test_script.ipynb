{
 "cells": [
  {
   "cell_type": "code",
   "execution_count": 3,
   "metadata": {
    "collapsed": false,
    "scrolled": true
   },
   "outputs": [
    {
     "name": "stdout",
     "output_type": "stream",
     "text": [
      "Starting request: 0 ...\n",
      "Starting request: 1 ...\n",
      "  % Total    % Received % Xferd  Average Speed   Time    Time     Time  Current\n",
      "                                 Dload  Upload   Total   Spent    Left  Speed\n",
      "100  100M  100   123  100  100M      5  4403k  0:00:24  0:00:23  0:00:01 4437k\n",
      "{\"fileId\":\"0000000045\",\"fileEdmsId\":\"\",\"filePath\":\"/tmp/0000000045\",\"contentType\":\"application/octet-stream;charset=UTF-8\"}\n",
      "  % Total    % Received % Xferd  Average Speed   Time    Time     Time  Current\n",
      "                                 Dload  Upload   Total   Spent    Left  Speed\n",
      "100  100M  100   123  100  100M      4  3954k  0:00:30  0:00:25  0:00:05 5730k\n",
      "{\"fileId\":\"0000000046\",\"fileEdmsId\":\"\",\"filePath\":\"/tmp/0000000046\",\"contentType\":\"application/octet-stream;charset=UTF-8\"}\n"
     ]
    }
   ],
   "source": [
    "import os\n",
    "from threading import Thread, Event\n",
    "\n",
    "if not os.path.isfile('/tmp/test100M.tmp'):\n",
    "    os.popen('dd if=/dev/zero of=/tmp/test100M.tmp bs=512k count=200')\n",
    "\n",
    "def doRequest(i):\n",
    "    print 'Starting request: %s ...' % i\n",
    "    F = os.popen(cmd)\n",
    "    for line in F:\n",
    "        #pass\n",
    "        print line.rstrip()\n",
    "\n",
    "cmd = \"curl --data-binary '@/tmp/test100M.tmp' http://dev.sangah.com:9080/upload 2>&1\"\n",
    "for i in range(2):\n",
    "    Thread(target=doRequest, args=(i,)).start()"
   ]
  },
  {
   "cell_type": "code",
   "execution_count": null,
   "metadata": {
    "collapsed": true
   },
   "outputs": [],
   "source": []
  }
 ],
 "metadata": {
  "kernelspec": {
   "display_name": "Python 2",
   "language": "python",
   "name": "python2"
  },
  "language_info": {
   "codemirror_mode": {
    "name": "ipython",
    "version": 2
   },
   "file_extension": ".py",
   "mimetype": "text/x-python",
   "name": "python",
   "nbconvert_exporter": "python",
   "pygments_lexer": "ipython2",
   "version": "2.7.9"
  }
 },
 "nbformat": 4,
 "nbformat_minor": 0
}
