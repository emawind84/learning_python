{
 "cells": [
  {
   "cell_type": "code",
   "execution_count": 4,
   "metadata": {
    "collapsed": false,
    "scrolled": true
   },
   "outputs": [
    {
     "name": "stdout",
     "output_type": "stream",
     "text": [
      "Starting request: 0 ...\n",
      "Starting request: 1 ...\n",
      "  % Total    % Received % Xferd  Average Speed   Time    Time     Time  Current\n",
      "                                 Dload  Upload   Total   Spent    Left  Speed\n",
      "\n",
      "  % Total    % Received % Xferd  Average Speed   Time    Time     Time  Current\n",
      "                                 Dload  Upload   Total   Spent    Left  Speed\n",
      "\n",
      "  0     0    0     0    0     0      0      0 --:--:-- --:--:-- --:--:--     0\n",
      "  0     0    0     0    0     0      0      0 --:--:-- --:--:-- --:--:--     0\n",
      "  6  100M    0     0    6 6256k      0  13.2M  0:00:07 --:--:--  0:00:07 13.2M\n",
      " 35  100M    0     0   35 35.3M      0  23.7M  0:00:04  0:00:01  0:00:03 23.7M\n",
      " 59  100M    0     0   59 59.8M      0  24.3M  0:00:04  0:00:02  0:00:02 24.3M\n",
      " 75  100M    0     0   75 75.8M      0  21.9M  0:00:04  0:00:03  0:00:01 21.9M\n",
      " 91  100M    0     0   91 91.1M      0  20.3M  0:00:04  0:00:04 --:--:-- 20.4M\n",
      "100  100M    0     0  100  100M      0  16.6M  0:00:06  0:00:06 --:--:-- 16.9M\n",
      "100  100M    0     0  100  100M      0  14.2M  0:00:07  0:00:07 --:--:-- 11.6M\n",
      "100  100M    0     0  100  100M      0  12.4M  0:00:08  0:00:08 --:--:-- 7395k\n",
      "100  100M    0     0  100  100M      0  11.0M  0:00:09  0:00:09 --:--:-- 4447k\n",
      "100  100M    0     0  100  100M      0   9.9M  0:00:10  0:00:10 --:--:-- 1627k\n",
      "100  100M    0     0  100  100M      0  9288k  0:00:11  0:00:11 --:--:--     0\n",
      "100  100M    0     0  100  100M      0  8515k  0:00:12  0:00:12 --:--:--     0\n",
      "  5  100M    0     0    5 5584k      0  11.8M  0:00:08 --:--:--  0:00:08 11.8M\n",
      " 18  100M    0     0   18 18.2M      0  8253k  0:00:12  0:00:02  0:00:10 8258k\n",
      " 18  100M    0     0   18 18.2M      0  5722k  0:00:17  0:00:03  0:00:14 5723k\n",
      " 18  100M    0     0   18 18.2M      0  4379k  0:00:23  0:00:04  0:00:19 4380k\n",
      " 18  100M    0     0   18 18.2M      0  3547k  0:00:28  0:00:05  0:00:23 3548k\n",
      " 18  100M    0     0   18 18.2M      0  2980k  0:00:34  0:00:06  0:00:28 2255k\n",
      " 18  100M    0     0   18 18.2M      0  2765k  0:00:37  0:00:06  0:00:31  3641\n",
      " 29  100M    0     0   29 29.3M      0  3973k  0:00:25  0:00:07  0:00:18 2643k\n",
      " 55  100M    0     0   55 55.1M      0  6680k  0:00:15  0:00:08  0:00:07 9020k\n",
      " 73  100M    0     0   73 73.1M      0  7895k  0:00:12  0:00:09  0:00:03 13.0M\n",
      " 89  100M    0     0   89 89.1M      0  8713k  0:00:11  0:00:10  0:00:01 16.8M\n",
      " 93  100M    0     0   93 93.3M      0  8265k  0:00:12  0:00:11  0:00:01 15.6M\n",
      "100  100M    0     0  100  100M      0  8070k  0:00:12  0:00:12 --:--:-- 13.7M\n",
      "100  100M    0     0  100  100M      0  7860k  0:00:13  0:00:13 --:--:--     0\n",
      "100  100M  100    65  100  100M      4  7367k  0:00:16  0:00:13  0:00:03     0\n",
      "100  100M  100    65  100  100M      4  7367k  0:00:16  0:00:13  0:00:03     0\n",
      "100  100M    0     0  100  100M      0  7480k  0:00:13  0:00:13 --:--:-- 8775k\n",
      "100  100M  100    65  100  100M      4  7352k  0:00:16  0:00:13  0:00:03 6190k\n",
      "{\"filePath\":\"/tmp/0000001282\",\"fileId\":\"0000001282\",\"fileSize\":0}\n",
      "{\"filePath\":\"/tmp/0000001283\",\"fileId\":\"0000001283\",\"fileSize\":0}\n"
     ]
    }
   ],
   "source": [
    "import os\n",
    "from __future__ import print_function\n",
    "from threading import Thread, Event\n",
    "\n",
    "if not os.path.isfile('/tmp/test100M.tmp'):\n",
    "    os.popen('dd if=/dev/zero of=/tmp/test100M.tmp bs=512k count=200')\n",
    "\n",
    "def doRequest(i):\n",
    "    print('Starting request: %s ...' % i)\n",
    "    F = os.popen(cmd)\n",
    "    for line in F:\n",
    "        #pass\n",
    "        print(line.rstrip())\n",
    "\n",
    "cmd = \"curl -upi:hotsails --data-binary '@/tmp/test100M.tmp' http://upload.emawind.com/upload 2>&1\"\n",
    "for i in range(2):\n",
    "    Thread(target=doRequest, args=(i,)).start()"
   ]
  },
  {
   "cell_type": "code",
   "execution_count": null,
   "metadata": {
    "collapsed": true
   },
   "outputs": [],
   "source": []
  }
 ],
 "metadata": {
  "kernelspec": {
   "display_name": "Python 3",
   "language": "python",
   "name": "python3"
  },
  "language_info": {
   "codemirror_mode": {
    "name": "ipython",
    "version": 3
   },
   "file_extension": ".py",
   "mimetype": "text/x-python",
   "name": "python",
   "nbconvert_exporter": "python",
   "pygments_lexer": "ipython3",
   "version": "3.4.2"
  }
 },
 "nbformat": 4,
 "nbformat_minor": 0
}
