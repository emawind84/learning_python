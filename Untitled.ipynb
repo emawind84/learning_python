{
 "cells": [
  {
   "cell_type": "code",
   "execution_count": 8,
   "metadata": {
    "collapsed": true
   },
   "outputs": [],
   "source": [
    "T = '낭영'"
   ]
  },
  {
   "cell_type": "code",
   "execution_count": 9,
   "metadata": {},
   "outputs": [
    {
     "data": {
      "text/plain": [
       "b'\\xeb\\x82\\xad\\xec\\x98\\x81'"
      ]
     },
     "execution_count": 9,
     "metadata": {},
     "output_type": "execute_result"
    }
   ],
   "source": [
    "T.encode()"
   ]
  },
  {
   "cell_type": "code",
   "execution_count": 11,
   "metadata": {},
   "outputs": [
    {
     "name": "stdout",
     "output_type": "stream",
     "text": [
      "6\n"
     ]
    }
   ],
   "source": [
    "print(len(T.encode()))"
   ]
  },
  {
   "cell_type": "code",
   "execution_count": 15,
   "metadata": {},
   "outputs": [
    {
     "data": {
      "text/plain": [
       "'낭'"
      ]
     },
     "execution_count": 15,
     "metadata": {},
     "output_type": "execute_result"
    }
   ],
   "source": [
    "(T.encode()[:3]).decode('utf-8')"
   ]
  },
  {
   "cell_type": "code",
   "execution_count": 83,
   "metadata": {},
   "outputs": [
    {
     "name": "stdout",
     "output_type": "stream",
     "text": [
      "yellow open .kibana     u6az6OcDRTSkQViKezdFFA 1 1     26  1  64.7kb  64.7kb\n",
      "yellow open sense_acc   s69tcYSZQSmyDStnqVUJCQ 5 1  26464  0   4.1mb   4.1mb\n",
      "yellow open doc         4l0t663bRTmSA5NUlf8Ryg 5 1  13416 43   4.6mb   4.6mb\n",
      "yellow open sense_v2    Ewo96vklTiGaR2xp1975OA 5 1 260691  0   183mb   183mb\n",
      "yellow open rrwebtv-dev 5Yll8mHUTjKRtMxW83k5_g 5 1      1  0   9.3kb   9.3kb\n",
      "yellow open microblog   aG51TIqBQZKMA2tpJnXOFg 5 1      3  0    13kb    13kb\n",
      "yellow open bestmarket  0CpsJSd7SaWxoomvf0rIYg 5 1   1000  0 691.7kb 691.7kb\n",
      "yellow open aws-vault   XepnIrsKQVKwKBzk-KFIfg 5 1     24  0   134kb   134kb\n",
      "yellow open rrwebtv     6nlVMyMlTB2iVWMWQoXYig 5 1     77  1 246.1kb 246.1kb\n",
      "\n"
     ]
    }
   ],
   "source": [
    "import requests\n",
    "import json\n",
    "r = requests.get('http://127.0.0.1:9200/_cat/indices')\n",
    "print(r.text)"
   ]
  },
  {
   "cell_type": "code",
   "execution_count": 85,
   "metadata": {},
   "outputs": [
    {
     "name": "stdout",
     "output_type": "stream",
     "text": [
      "{\"took\":54,\"timed_out\":false,\"_shards\":{\"total\":5,\"successful\":5,\"skipped\":0,\"failed\":0},\"hits\":{\"total\":77,\"max_score\":1.0,\"hits\":[{\"_index\":\"rrwebtv\",\"_type\":\"doc\",\"_id\":\"19\",\"_score\":1.0,\"_source\":{\"track\": \"Kormoran II\", \"id\": 19, \"team\": \"Trussound\", \"time\": \"\", \"youtube_id\": \"J12UQXzEbbA\", \"rally\": \"RALLY POLAND\", \"featured\": false, \"note\": \"Punti interessanti: 3:00, 6:00, 6:30, 7:00\", \"stage_number\": \"03\", \"car\": \"Swift R1\", \"pilot\": \"nardocorse\", \"category\": \"R1\", \"uploaded_at\": \"2019-07-15T07:08:18.000Z\"}},{\"_index\":\"rrwebtv\",\"_type\":\"doc\",\"_id\":\"22\",\"_score\":1.0,\"_source\":{\"track\": \"Mustaselka Gravel\", \"id\": 22, \"team\": \"DR Racing\", \"time\": \"\", \"youtube_id\": \"5Fl5yItW6dQ\", \"rally\": \"RALLY POLAND\", \"featured\": false, \"note\": \"\", \"stage_number\": \"12\", \"car\": \"Renault Clio R3C\", \"pilot\": \"bormat27\", \"category\": \"R3C\", \"uploaded_at\": \"2019-07-15T07:08:19.000Z\"}},{\"_index\":\"rrwebtv\",\"_type\":\"doc\",\"_id\":\"25\",\"_score\":1.0,\"_source\":{\"track\": \"Kormoran I\", \"id\": 25, \"team\": \"D.R.R. Team\", \"time\": \"\", \"youtube_id\": \"6wjvpshd3RE\", \"rally\": \"RALLY ITALIA\", \"featured\": false, \"note\": \"\", \"stage_number\": \"15\", \"car\": \"Renault Clio R3C\", \"pilot\": \"Paolo\", \"category\": \"R3C\", \"uploaded_at\": \"2019-07-15T07:08:19.000Z\"}},{\"_index\":\"rrwebtv\",\"_type\":\"doc\",\"_id\":\"26\",\"_score\":1.0,\"_source\":{\"track\": \"Mineshaft\", \"id\": 26, \"team\": \"TRINACRIA CORSE 2\", \"time\": \"\", \"youtube_id\": \"pm2sinJxApI\", \"rally\": \"RALLY PORTOGALLO\", \"featured\": false, \"note\": \"\", \"stage_number\": \"11\", \"car\": \"Renault Clio R3C\", \"pilot\": \"PippoMatiz\", \"category\": \"R3C\", \"uploaded_at\": \"2019-07-15T07:08:19.000Z\"}},{\"_index\":\"rrwebtv\",\"_type\":\"doc\",\"_id\":\"29\",\"_score\":1.0,\"_source\":{\"track\": \"Bisanne Gravel\", \"id\": 29, \"team\": \"DR Racing\", \"time\": \"\", \"youtube_id\": \"zlpZBfb2-6A\", \"rally\": \"RALLY ITALIA 2019\", \"featured\": false, \"note\": \"\", \"stage_number\": \"04\", \"car\": \"Citroen C3 WRC17\", \"pilot\": \"ziofabri\", \"category\": \"WRC\", \"uploaded_at\": \"2019-07-15T07:08:19.000Z\"}},{\"_index\":\"rrwebtv\",\"_type\":\"doc\",\"_id\":\"40\",\"_score\":1.0,\"_source\":{\"track\": \"Prospect Ridge\", \"id\": 40, \"team\": \"D.R.R. Team\", \"time\": \"\", \"youtube_id\": \"znB-o66Fkhc\", \"rally\": \"RALLY DEL MESSICO\", \"featured\": false, \"note\": \"Messico 2019\", \"stage_number\": \"07\", \"car\": \"Ford Fiesta R5 16\", \"pilot\": \"trimma\", \"category\": \"R5\", \"uploaded_at\": \"2019-07-15T07:08:22.000Z\"}},{\"_index\":\"rrwebtv\",\"_type\":\"doc\",\"_id\":\"41\",\"_score\":1.0,\"_source\":{\"track\": \"Shurdin\", \"id\": 41, \"team\": \"Private\", \"time\": \"\", \"youtube_id\": \"tTx9okDkyy4\", \"rally\": \"RALLY MESSICO 2019\", \"featured\": false, \"note\": \"\", \"stage_number\": \"2\", \"car\": \"Peugeot 208 R2\", \"pilot\": \"Emanuele Disco\", \"category\": \"R2\", \"uploaded_at\": \"2019-07-15T07:08:22.000Z\"}},{\"_index\":\"rrwebtv\",\"_type\":\"doc\",\"_id\":\"44\",\"_score\":1.0,\"_source\":{\"track\": \"Red Bull HC\", \"id\": 44, \"team\": \"Private\", \"time\": \"\", \"youtube_id\": \"lGpribnGfJU\", \"rally\": \"RALLY MESSICO 2019\", \"featured\": false, \"note\": \"\", \"stage_number\": \"10\", \"car\": \"Peugeot 208 R2\", \"pilot\": \"Emanuele Disco\", \"category\": \"R2\", \"uploaded_at\": \"2019-07-15T07:08:22.000Z\"}},{\"_index\":\"rrwebtv\",\"_type\":\"doc\",\"_id\":\"48\",\"_score\":1.0,\"_source\":{\"track\": \"Waste Management\", \"id\": 48, \"team\": \"TRINACRIA CORSE\", \"time\": \"\", \"youtube_id\": \"OlWHm-XixN4\", \"rally\": \"RALLY ARGENTINA\", \"featured\": false, \"note\": \"\", \"stage_number\": \"09\", \"car\": \"Opel Corsa S1600\", \"pilot\": \"ANDREA CONTENTO\", \"category\": \"S1600\", \"uploaded_at\": \"2019-07-15T07:08:23.000Z\"}},{\"_index\":\"rrwebtv\",\"_type\":\"doc\",\"_id\":\"52\",\"_score\":1.0,\"_source\":{\"track\": \"SS Berica\", \"id\": 52, \"team\": \"VP14\", \"time\": \"\", \"youtube_id\": \"eq8wt5Fj_2o\", \"rally\": \"RALLY ARGENTINA\", \"featured\": false, \"note\": \"\", \"stage_number\": \"17\", \"car\": \"Skoda Fabia S2000 Evo\", \"pilot\": \"walterx87\", \"category\": \"S2000\", \"uploaded_at\": \"2019-07-15T07:08:23.000Z\"}}]}}\n",
      "[{'rally': 'RALLY POLAND', 'id': 19, 'stage_number': '03', 'team': 'Trussound', 'uploaded_at': '2019-07-15T07:08:18.000Z', 'featured': False, 'youtube_id': 'J12UQXzEbbA', 'category': 'R1', 'note': 'Punti interessanti: 3:00, 6:00, 6:30, 7:00', 'track': 'Kormoran II', 'car': 'Swift R1', 'pilot': 'nardocorse', 'time': ''}, {'rally': 'RALLY POLAND', 'id': 22, 'stage_number': '12', 'team': 'DR Racing', 'uploaded_at': '2019-07-15T07:08:19.000Z', 'featured': False, 'youtube_id': '5Fl5yItW6dQ', 'category': 'R3C', 'note': '', 'track': 'Mustaselka Gravel', 'car': 'Renault Clio R3C', 'pilot': 'bormat27', 'time': ''}, {'rally': 'RALLY ITALIA', 'id': 25, 'stage_number': '15', 'team': 'D.R.R. Team', 'uploaded_at': '2019-07-15T07:08:19.000Z', 'featured': False, 'youtube_id': '6wjvpshd3RE', 'category': 'R3C', 'note': '', 'track': 'Kormoran I', 'car': 'Renault Clio R3C', 'pilot': 'Paolo', 'time': ''}, {'rally': 'RALLY PORTOGALLO', 'id': 26, 'stage_number': '11', 'team': 'TRINACRIA CORSE 2', 'uploaded_at': '2019-07-15T07:08:19.000Z', 'featured': False, 'youtube_id': 'pm2sinJxApI', 'category': 'R3C', 'note': '', 'track': 'Mineshaft', 'car': 'Renault Clio R3C', 'pilot': 'PippoMatiz', 'time': ''}, {'rally': 'RALLY ITALIA 2019', 'id': 29, 'stage_number': '04', 'team': 'DR Racing', 'uploaded_at': '2019-07-15T07:08:19.000Z', 'featured': False, 'youtube_id': 'zlpZBfb2-6A', 'category': 'WRC', 'note': '', 'track': 'Bisanne Gravel', 'car': 'Citroen C3 WRC17', 'pilot': 'ziofabri', 'time': ''}, {'rally': 'RALLY DEL MESSICO', 'id': 40, 'stage_number': '07', 'team': 'D.R.R. Team', 'uploaded_at': '2019-07-15T07:08:22.000Z', 'featured': False, 'youtube_id': 'znB-o66Fkhc', 'category': 'R5', 'note': 'Messico 2019', 'track': 'Prospect Ridge', 'car': 'Ford Fiesta R5 16', 'pilot': 'trimma', 'time': ''}, {'rally': 'RALLY MESSICO 2019', 'id': 41, 'stage_number': '2', 'team': 'Private', 'uploaded_at': '2019-07-15T07:08:22.000Z', 'featured': False, 'youtube_id': 'tTx9okDkyy4', 'category': 'R2', 'note': '', 'track': 'Shurdin', 'car': 'Peugeot 208 R2', 'pilot': 'Emanuele Disco', 'time': ''}, {'rally': 'RALLY MESSICO 2019', 'id': 44, 'stage_number': '10', 'team': 'Private', 'uploaded_at': '2019-07-15T07:08:22.000Z', 'featured': False, 'youtube_id': 'lGpribnGfJU', 'category': 'R2', 'note': '', 'track': 'Red Bull HC', 'car': 'Peugeot 208 R2', 'pilot': 'Emanuele Disco', 'time': ''}, {'rally': 'RALLY ARGENTINA', 'id': 48, 'stage_number': '09', 'team': 'TRINACRIA CORSE', 'uploaded_at': '2019-07-15T07:08:23.000Z', 'featured': False, 'youtube_id': 'OlWHm-XixN4', 'category': 'S1600', 'note': '', 'track': 'Waste Management', 'car': 'Opel Corsa S1600', 'pilot': 'ANDREA CONTENTO', 'time': ''}, {'rally': 'RALLY ARGENTINA', 'id': 52, 'stage_number': '17', 'team': 'VP14', 'uploaded_at': '2019-07-15T07:08:23.000Z', 'featured': False, 'youtube_id': 'eq8wt5Fj_2o', 'category': 'S2000', 'note': '', 'track': 'SS Berica', 'car': 'Skoda Fabia S2000 Evo', 'pilot': 'walterx87', 'time': ''}]\n"
     ]
    }
   ],
   "source": [
    "fromdate = '2019-01-01'\n",
    "todate = '2019-12-01'\n",
    "\n",
    "query = {\"query\": {\"bool\": {\"must\": [], \"must_not\": [], \"should\": [{\"query_string\": {\n",
    "        \"default_field\": \"_all\", \"query\": \"*\"}}]}}, \"from\": 0, \"size\": 10, \"sort\": [], \"aggs\": {}}\n",
    "r = requests.get('http://127.0.0.1:9200/rrwebtv/_search', data=json.dumps(query))\n",
    "print(r.text)\n",
    "data = json.loads(r.text)\n",
    "#print(data['hits']['hits'])\n",
    "result = [d['_source'] for d in data['hits']['hits']]\n",
    "print(result)"
   ]
  },
  {
   "cell_type": "code",
   "execution_count": 84,
   "metadata": {},
   "outputs": [
    {
     "name": "stdout",
     "output_type": "stream",
     "text": [
      "{'sort': [], 'size': 10, 'query': {'bool': {'must': [], 'should': [{'query_string': {'default_field': '_all', 'query': '*'}}], 'must_not': []}}, 'aggs': {}, 'from': 0}\n"
     ]
    }
   ],
   "source": [
    "query = {\"query\": {\"bool\": {\"must\": [], \"must_not\": [], \"should\": []}}, \"from\": 0, \"size\": 10, \"sort\": [], \"aggs\": {}}\n",
    "\n",
    "query['query']['bool']['should'].append({\n",
    "    \"query_string\": {\n",
    "        \"default_field\": \"_all\",\n",
    "        \"query\": '*'\n",
    "    }\n",
    "})\n",
    "print(query)"
   ]
  },
  {
   "cell_type": "code",
   "execution_count": 75,
   "metadata": {},
   "outputs": [
    {
     "name": "stdout",
     "output_type": "stream",
     "text": [
      "{\"error\":{\"root_cause\":[{\"type\":\"invalid_type_name_exception\",\"reason\":\"Document mapping type name can't start with '_', found: [_doc]\"}],\"type\":\"invalid_type_name_exception\",\"reason\":\"Document mapping type name can't start with '_', found: [_doc]\"},\"status\":400}\n"
     ]
    }
   ],
   "source": [
    "r = requests.put('http://127.0.0.1:9200/rrwebtv/_doc/2?op_type=create', data=json.dumps({'test': '1'}))\n",
    "print(r.text)"
   ]
  },
  {
   "cell_type": "code",
   "execution_count": 65,
   "metadata": {
    "collapsed": true
   },
   "outputs": [],
   "source": [
    "import re\n",
    "p = re.compile('.*(?P<category>R3C|WRC).*')"
   ]
  },
  {
   "cell_type": "code",
   "execution_count": 66,
   "metadata": {},
   "outputs": [
    {
     "data": {
      "text/plain": [
       "'R3C'"
      ]
     },
     "execution_count": 66,
     "metadata": {},
     "output_type": "execute_result"
    }
   ],
   "source": [
    "p.sub('\\g<category>', 'R3C-asdasd')"
   ]
  },
  {
   "cell_type": "code",
   "execution_count": 79,
   "metadata": {},
   "outputs": [
    {
     "name": "stdout",
     "output_type": "stream",
     "text": [
      "{\"found\":true,\"_index\":\"rrwebtv\",\"_type\":\"doc\",\"_id\":\"28\",\"_version\":2,\"result\":\"deleted\",\"_shards\":{\"total\":2,\"successful\":1,\"failed\":0}}\n"
     ]
    }
   ],
   "source": [
    "r = requests.delete('http://127.0.0.1:9200/rrwebtv/doc/28')\n",
    "print(r.text)"
   ]
  },
  {
   "cell_type": "code",
   "execution_count": 120,
   "metadata": {},
   "outputs": [
    {
     "name": "stdout",
     "output_type": "stream",
     "text": [
      "2019-07-16 11:15:27.757530\n"
     ]
    }
   ],
   "source": [
    "from dateutil.parser import parse\n",
    "from datetime import timezone, datetime\n",
    "import pytz\n",
    "print(datetime.today())"
   ]
  },
  {
   "cell_type": "code",
   "execution_count": 108,
   "metadata": {},
   "outputs": [
    {
     "ename": "ImportError",
     "evalue": "No module named 'pytz'",
     "output_type": "error",
     "traceback": [
      "\u001b[0;31m---------------------------------------------------------------------------\u001b[0m",
      "\u001b[0;31mImportError\u001b[0m                               Traceback (most recent call last)",
      "\u001b[0;32m<ipython-input-108-3ba3552bb6a1>\u001b[0m in \u001b[0;36m<module>\u001b[0;34m()\u001b[0m\n\u001b[0;32m----> 1\u001b[0;31m \u001b[0;32mimport\u001b[0m \u001b[0mpytz\u001b[0m\u001b[0;34m\u001b[0m\u001b[0m\n\u001b[0m\u001b[1;32m      2\u001b[0m \u001b[0;32mfrom\u001b[0m \u001b[0mdatetime\u001b[0m \u001b[0;32mimport\u001b[0m \u001b[0mdatetime\u001b[0m\u001b[0;34m\u001b[0m\u001b[0m\n\u001b[1;32m      3\u001b[0m \u001b[0mdatetime\u001b[0m\u001b[0;34m.\u001b[0m\u001b[0mutcnow\u001b[0m\u001b[0;34m(\u001b[0m\u001b[0;34m)\u001b[0m\u001b[0;34m.\u001b[0m\u001b[0mreplace\u001b[0m\u001b[0;34m(\u001b[0m\u001b[0mtzinfo\u001b[0m\u001b[0;34m=\u001b[0m\u001b[0mpytz\u001b[0m\u001b[0;34m.\u001b[0m\u001b[0mutc\u001b[0m\u001b[0;34m)\u001b[0m\u001b[0;34m\u001b[0m\u001b[0m\n",
      "\u001b[0;31mImportError\u001b[0m: No module named 'pytz'"
     ]
    }
   ],
   "source": []
  },
  {
   "cell_type": "code",
   "execution_count": null,
   "metadata": {
    "collapsed": true
   },
   "outputs": [],
   "source": []
  }
 ],
 "metadata": {
  "kernelspec": {
   "display_name": "Python 3",
   "language": "python",
   "name": "python3"
  },
  "language_info": {
   "codemirror_mode": {
    "name": "ipython",
    "version": 3
   },
   "file_extension": ".py",
   "mimetype": "text/x-python",
   "name": "python",
   "nbconvert_exporter": "python",
   "pygments_lexer": "ipython3",
   "version": "3.4.2"
  }
 },
 "nbformat": 4,
 "nbformat_minor": 2
}
