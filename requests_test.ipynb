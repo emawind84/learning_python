{
 "cells": [
  {
   "cell_type": "code",
   "execution_count": 13,
   "metadata": {
    "collapsed": true
   },
   "outputs": [],
   "source": [
    "import requests\n",
    "from sense_hat import SenseHat"
   ]
  },
  {
   "cell_type": "code",
   "execution_count": 2,
   "metadata": {
    "collapsed": true
   },
   "outputs": [],
   "source": [
    "sense = SenseHat()"
   ]
  },
  {
   "cell_type": "code",
   "execution_count": 3,
   "metadata": {
    "collapsed": true,
    "scrolled": true
   },
   "outputs": [],
   "source": [
    "t = sense.get_temperature()\n",
    "p = sense.get_pressure()\n",
    "h = sense.get_humidity()"
   ]
  },
  {
   "cell_type": "code",
   "execution_count": 4,
   "metadata": {},
   "outputs": [
    {
     "data": {
      "text/plain": [
       "u\"Congratulations! You've fired the sensor_data_fetched event\""
      ]
     },
     "execution_count": 4,
     "metadata": {},
     "output_type": "execute_result"
    }
   ],
   "source": [
    "# https://maker.ifttt.com/trigger/{event}/with/key/nmr2BnBoPJPDkNvfz3bk0\n",
    "params = {'value1': round(t,1), 'value2': round(h,1), 'value3': round(p)}\n",
    "r = requests.get(\"https://maker.ifttt.com/trigger/sensor_data_fetched/with/key/<key>\", data=params)\n",
    "r.text"
   ]
  },
  {
   "cell_type": "code",
   "execution_count": 9,
   "metadata": {},
   "outputs": [
    {
     "data": {
      "text/plain": [
       "u'{\\n  \"name\" : \"Spirit of \\'76\",\\n  \"cluster_name\" : \"elasticsearch\",\\n  \"version\" : {\\n    \"number\" : \"2.3.4\",\\n    \"build_hash\" : \"e455fd0c13dceca8dbbdbb1665d068ae55dabe3f\",\\n    \"build_timestamp\" : \"2016-06-30T11:24:31Z\",\\n    \"build_snapshot\" : false,\\n    \"lucene_version\" : \"5.5.0\"\\n  },\\n  \"tagline\" : \"You Know, for Search\"\\n}\\n'"
      ]
     },
     "execution_count": 9,
     "metadata": {},
     "output_type": "execute_result"
    }
   ],
   "source": [
    "r = requests.get(\"http://203.239.21.69:9200\")\n",
    "r.text"
   ]
  },
  {
   "cell_type": "code",
   "execution_count": 12,
   "metadata": {},
   "outputs": [
    {
     "data": {
      "text/plain": [
       "u'{\"_index\":\"tweeter\",\"_type\":\"tweet\",\"_id\":\"1\",\"_version\":2,\"_shards\":{\"total\":2,\"successful\":1,\"failed\":0},\"created\":false}'"
      ]
     },
     "execution_count": 12,
     "metadata": {},
     "output_type": "execute_result"
    }
   ],
   "source": [
    "import json\n",
    "\n",
    "params = {\n",
    "    \"user\" : \"ccc\",\n",
    "    \"post_date\" : \"2009-11-15T14:12:12\",\n",
    "    \"message\" : \"test4\"\n",
    "}\n",
    "r = requests.put(\"http://203.239.21.69:9200/tweeter/tweet/1\", data=json.dumps(params))\n",
    "r.text"
   ]
  },
  {
   "cell_type": "code",
   "execution_count": 14,
   "metadata": {
    "collapsed": true
   },
   "outputs": [],
   "source": [
    "s = requests.session()"
   ]
  },
  {
   "cell_type": "markdown",
   "metadata": {
    "collapsed": true
   },
   "source": [
    "--------------"
   ]
  },
  {
   "cell_type": "code",
   "execution_count": null,
   "metadata": {
    "collapsed": true
   },
   "outputs": [],
   "source": [
    "import requests\n",
    "from requests.auth import HTTPBasicAuth\n",
    "requests.Session()\n",
    "\n",
    "for i in range(100):\n",
    "    r = requests.get(\"https://pmis.shinhwaworld.com/Main/Token.action\", auth=HTTPBasicAuth('kspmisadmin', '<pwd>'))\n",
    "    print(r.text)"
   ]
  },
  {
   "cell_type": "code",
   "execution_count": null,
   "metadata": {
    "collapsed": true,
    "scrolled": true
   },
   "outputs": [],
   "source": [
    "import requests, json\n",
    "from requests.auth import HTTPBasicAuth\n",
    "#requests.Session()\n",
    "r = requests.get(\"https://pmis.shinhwaworld.com/Main/Token.action\", auth=HTTPBasicAuth('kspmisadmin', '<pwd>'))\n",
    "token = json.loads(r.text)\n",
    "print(token)\n",
    "for i in range(10):\n",
    "    requests.get(\"https://pmis.shinhwaworld.com/Main/Main.action?access_token=\" + token['access_token'])"
   ]
  },
  {
   "cell_type": "code",
   "execution_count": 17,
   "metadata": {},
   "outputs": [
    {
     "name": "stdout",
     "output_type": "stream",
     "text": [
      "{'error': {'message': 'User is disabled', 'type': 'org.springframework.security.authentication.DisabledException'}}\n",
      "None\n"
     ]
    }
   ],
   "source": [
    "import requests, json\n",
    "from requests.auth import HTTPBasicAuth\n",
    "auth_args = { '__RESPONSE_TYPE__': 'json' }\n",
    "r = requests.post(\"https://pmis.oc.sangah.com/Main/Token.action\", data=auth_args, auth=HTTPBasicAuth('asd', 'asd'))\n",
    "token = json.loads(r.text)\n",
    "print(token)\n",
    "print(token.get('access_token'))"
   ]
  },
  {
   "cell_type": "code",
   "execution_count": 31,
   "metadata": {},
   "outputs": [
    {
     "name": "stdout",
     "output_type": "stream",
     "text": [
      "{'user': {'userCode': 'disco1234', 'profilePictureId': '1601213702998831', 'organizationCode': '115-21-10325', 'email': 'emanuele.disco@sangah.com', 'organizationName': 'SangAh Management Consulting', 'phone': '010-5916-8095', 'userName': 'Disco Emanuele'}}\n"
     ]
    }
   ],
   "source": [
    "r = requests.post(\"https://pmis.oc.sangah.com/System/User/findUser.action\", headers={ 'REMOTE_USER': 'disco1234' }, data=auth_args, auth=HTTPBasicAuth('disco1234', 'disco1234'))\n",
    "token = json.loads(r.text)\n",
    "print(token)"
   ]
  },
  {
   "cell_type": "code",
   "execution_count": 41,
   "metadata": {},
   "outputs": [
    {
     "name": "stdout",
     "output_type": "stream",
     "text": [
      "{\"error\":{\"type\":\"org.springframework.security.core.userdetails.UsernameNotFoundException\",\"message\":\"User not found\"}}\n"
     ]
    }
   ],
   "source": [
    "auth_args = { '__RESPONSE_TYPE__': 'json', 'forward': '/common/empty.jsp' }\n",
    "r = requests.post(\"https://pmis.oc.sangah.com/Main/Login.action\", data=auth_args, auth=HTTPBasicAuth('disaco1234', 'disco1234'))\n",
    "print(r.text)"
   ]
  },
  {
   "cell_type": "code",
   "execution_count": 39,
   "metadata": {},
   "outputs": [
    {
     "data": {
      "text/plain": [
       "'bubba'"
      ]
     },
     "execution_count": 39,
     "metadata": {},
     "output_type": "execute_result"
    }
   ],
   "source": [
    "import os\n",
    "os.environ.get('PATssH', 'bubba')"
   ]
  },
  {
   "cell_type": "code",
   "execution_count": null,
   "metadata": {
    "collapsed": true
   },
   "outputs": [],
   "source": []
  }
 ],
 "metadata": {
  "kernelspec": {
   "display_name": "Python 3",
   "language": "python",
   "name": "python3"
  },
  "language_info": {
   "codemirror_mode": {
    "name": "ipython",
    "version": 3
   },
   "file_extension": ".py",
   "mimetype": "text/x-python",
   "name": "python",
   "nbconvert_exporter": "python",
   "pygments_lexer": "ipython3",
   "version": "3.4.2"
  }
 },
 "nbformat": 4,
 "nbformat_minor": 1
}
