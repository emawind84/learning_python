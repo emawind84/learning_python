{
 "cells": [
  {
   "cell_type": "code",
   "execution_count": 9,
   "metadata": {},
   "outputs": [
    {
     "data": {
      "text/plain": [
       "b'aws-cli/1.11.65 Python/2.7.9 Linux/4.4.32v7-aufs botocore/1.5.28\\n'"
      ]
     },
     "execution_count": 9,
     "metadata": {},
     "output_type": "execute_result"
    }
   ],
   "source": [
    "import subprocess\n",
    "subprocess.check_output([\"/home/pi/bin/aws\", \"--version\"], stderr=subprocess.STDOUT)"
   ]
  },
  {
   "cell_type": "code",
   "execution_count": 52,
   "metadata": {},
   "outputs": [],
   "source": [
    "import requests, argparse, json, logging, sys, os, sha256_tree_hash\n",
    "import subprocess\n",
    "\n",
    "BACKUP_TEMP_FOLDER='/media/usb2/backup'\n",
    "PART_SIZE=67108864\n",
    "AWS_VAULT='raspi'\n",
    "\n",
    "ARCHIVE_PREFIX='/tmp/archive.gz.part_'\n",
    "_args = {}\n",
    "logging.basicConfig(format='%(asctime)s - %(levelname)s: %(message)s')\n",
    "_logger = logging.getLogger(__name__)\n",
    "_logger.setLevel(logging.INFO)\n",
    "\n",
    "def _start_request():\n",
    "    out = subprocess.check_output([\"/home/pi/bin/aws\", \n",
    "                        \"glacier\", \n",
    "                        \"initiate-multipart-upload\", \n",
    "                        \"--vault-name=raspi\", \n",
    "                        \"--account-id=-\", \n",
    "                        \"--archive-description=test\", \n",
    "                        \"--part-size=%s\" % PART_SIZE ])\n",
    "    \n",
    "    return json.load(out)['uploadId']\n",
    "\n",
    "def _complete_request(upload_id, checksum):\n",
    "    stats = os.stat(_args.file)\n",
    "    archive_size = stats.st_size\n",
    "    out = subprocess.check_output([\"/home/pi/bin/aws\", \n",
    "                        \"glacier\", \n",
    "                        \"complete-multipart-upload\", \n",
    "                        \"--vault-name=raspi\", \n",
    "                        \"--account-id=-\",\n",
    "                        \"--checksum=%s\" % checksum,\n",
    "                        \"--upload-id=%s\" % upload_id,\n",
    "                        \"--archive-size=%s\" % archive_size ])\n",
    "    return out\n",
    "\n",
    "def multi_upload(filename, upload_id):\n",
    "    stats = os.stat(_args.file)\n",
    "    archive_size = stats.st_size\n",
    "    parts = archive_size // PART_SIZE\n",
    "    if archive_size % PART_SIZE > 0:\n",
    "        parts += 1\n",
    "        \n",
    "    sha256_parts = []\n",
    "    dd = subprocess.Popen(['dd', \n",
    "          'if=%s' % filename, \n",
    "          'bs=2M']\n",
    "         , stdout=subprocess.PIPE )\n",
    "    \n",
    "    out = subprocess.check_output(['split', \n",
    "          '--suffix-length=1', \n",
    "          '--numeric-suffixes=0', \n",
    "          '--bytes=%s' % PART_SIZE, \n",
    "          '-', \n",
    "          ARCHIVE_PREFIX]\n",
    "         , stdin = dd.stdout )\n",
    "    \n",
    "    start=0\n",
    "    end=0\n",
    "    for i in range(parts):\n",
    "        part_filename = ARCHIVE_PREFIX + str(i)\n",
    "        start = start * PART_SIZE\n",
    "        stats = os.stat(part_filename)\n",
    "        end = start + stats.st_size - 1\n",
    "        _logger.info(start)\n",
    "        _logger.info(end)\n",
    "        \n",
    "        chunks = sha256_tree_hash.get_chunks_sha256_hashes(part_filename)\n",
    "        checksum = sha256_tree_hash.compute_sha256_tree_hash(chunks)\n",
    "        sha256_parts.append(checksum)\n",
    "        \n",
    "        call(['/home/pi/bin/aws',\n",
    "              'glacier', \n",
    "              'upload-multipart-part',\n",
    "              '--vault-name=raspi',\n",
    "              '--account-id=-',\n",
    "              '--body', part_filename,\n",
    "              '--upload-id', upload_id,\n",
    "              '--checksum', checksum,\n",
    "              '--range', 'bytes {}-{}/*'.format(start, end)])\n",
    "        start += 1\n",
    "\n",
    "    complete_checksum = sha256_tree_hash.compute_sha256_tree_hash( sha256_parts )\n",
    "    return complete_checksum\n",
    "    \n",
    "def _main():\n",
    "    pass\n",
    "\n",
    "if __name__=='__main__':   \n",
    "    _parser = argparse.ArgumentParser()\n",
    "    _parser.add_argument('-f', action='store', dest='file', type=str, help='File to upload')\n",
    "    _parser.add_argument('-m', action='store', dest='descr', type=str, help='Description')\n",
    "    _parser.add_argument('-d', '--debug', action='store_true', dest='debug', help='More logging on console')\n",
    "    _args = _parser.parse_args()\n",
    "    \n",
    "    if _args.debug:\n",
    "        _logger.setLevel(logging.DEBUG)\n",
    "    \n",
    "    _main()"
   ]
  },
  {
   "cell_type": "code",
   "execution_count": 53,
   "metadata": {},
   "outputs": [
    {
     "ename": "TypeError",
     "evalue": "Can't convert 'int' object to str implicitly",
     "output_type": "error",
     "traceback": [
      "\u001b[1;31m---------------------------------------------------------------------------\u001b[0m",
      "\u001b[1;31mTypeError\u001b[0m                                 Traceback (most recent call last)",
      "\u001b[1;32m<ipython-input-53-4d80dd7aca73>\u001b[0m in \u001b[0;36m<module>\u001b[1;34m()\u001b[0m\n\u001b[1;32m----> 1\u001b[1;33m \u001b[0mmulti_upload\u001b[0m\u001b[1;33m(\u001b[0m\u001b[1;34m'/home/pi/script/test.tmp'\u001b[0m\u001b[1;33m,\u001b[0m \u001b[1;36m123\u001b[0m\u001b[1;33m)\u001b[0m\u001b[1;33m\u001b[0m\u001b[0m\n\u001b[0m",
      "\u001b[1;32m<ipython-input-52-3d2fb7bac5d0>\u001b[0m in \u001b[0;36mmulti_upload\u001b[1;34m(filename, upload_id)\u001b[0m\n\u001b[0;32m     79\u001b[0m               \u001b[1;34m'--upload-id'\u001b[0m\u001b[1;33m,\u001b[0m \u001b[0mupload_id\u001b[0m\u001b[1;33m,\u001b[0m\u001b[1;33m\u001b[0m\u001b[0m\n\u001b[0;32m     80\u001b[0m               \u001b[1;34m'--checksum'\u001b[0m\u001b[1;33m,\u001b[0m \u001b[0mchecksum\u001b[0m\u001b[1;33m,\u001b[0m\u001b[1;33m\u001b[0m\u001b[0m\n\u001b[1;32m---> 81\u001b[1;33m               '--range', 'bytes {}-{}/*'.format(start, end)])\n\u001b[0m\u001b[0;32m     82\u001b[0m         \u001b[0mstart\u001b[0m \u001b[1;33m+=\u001b[0m \u001b[1;36m1\u001b[0m\u001b[1;33m\u001b[0m\u001b[0m\n\u001b[0;32m     83\u001b[0m \u001b[1;33m\u001b[0m\u001b[0m\n",
      "\u001b[1;32m/usr/lib/python3.4/subprocess.py\u001b[0m in \u001b[0;36mcall\u001b[1;34m(timeout, *popenargs, **kwargs)\u001b[0m\n\u001b[0;32m    535\u001b[0m     \u001b[0mretcode\u001b[0m \u001b[1;33m=\u001b[0m \u001b[0mcall\u001b[0m\u001b[1;33m(\u001b[0m\u001b[1;33m[\u001b[0m\u001b[1;34m\"ls\"\u001b[0m\u001b[1;33m,\u001b[0m \u001b[1;34m\"-l\"\u001b[0m\u001b[1;33m]\u001b[0m\u001b[1;33m)\u001b[0m\u001b[1;33m\u001b[0m\u001b[0m\n\u001b[0;32m    536\u001b[0m     \"\"\"\n\u001b[1;32m--> 537\u001b[1;33m     \u001b[1;32mwith\u001b[0m \u001b[0mPopen\u001b[0m\u001b[1;33m(\u001b[0m\u001b[1;33m*\u001b[0m\u001b[0mpopenargs\u001b[0m\u001b[1;33m,\u001b[0m \u001b[1;33m**\u001b[0m\u001b[0mkwargs\u001b[0m\u001b[1;33m)\u001b[0m \u001b[1;32mas\u001b[0m \u001b[0mp\u001b[0m\u001b[1;33m:\u001b[0m\u001b[1;33m\u001b[0m\u001b[0m\n\u001b[0m\u001b[0;32m    538\u001b[0m         \u001b[1;32mtry\u001b[0m\u001b[1;33m:\u001b[0m\u001b[1;33m\u001b[0m\u001b[0m\n\u001b[0;32m    539\u001b[0m             \u001b[1;32mreturn\u001b[0m \u001b[0mp\u001b[0m\u001b[1;33m.\u001b[0m\u001b[0mwait\u001b[0m\u001b[1;33m(\u001b[0m\u001b[0mtimeout\u001b[0m\u001b[1;33m=\u001b[0m\u001b[0mtimeout\u001b[0m\u001b[1;33m)\u001b[0m\u001b[1;33m\u001b[0m\u001b[0m\n",
      "\u001b[1;32m/usr/lib/python3.4/subprocess.py\u001b[0m in \u001b[0;36m__init__\u001b[1;34m(self, args, bufsize, executable, stdin, stdout, stderr, preexec_fn, close_fds, shell, cwd, env, universal_newlines, startupinfo, creationflags, restore_signals, start_new_session, pass_fds)\u001b[0m\n\u001b[0;32m    857\u001b[0m                                 \u001b[0mc2pread\u001b[0m\u001b[1;33m,\u001b[0m \u001b[0mc2pwrite\u001b[0m\u001b[1;33m,\u001b[0m\u001b[1;33m\u001b[0m\u001b[0m\n\u001b[0;32m    858\u001b[0m                                 \u001b[0merrread\u001b[0m\u001b[1;33m,\u001b[0m \u001b[0merrwrite\u001b[0m\u001b[1;33m,\u001b[0m\u001b[1;33m\u001b[0m\u001b[0m\n\u001b[1;32m--> 859\u001b[1;33m                                 restore_signals, start_new_session)\n\u001b[0m\u001b[0;32m    860\u001b[0m         \u001b[1;32mexcept\u001b[0m\u001b[1;33m:\u001b[0m\u001b[1;33m\u001b[0m\u001b[0m\n\u001b[0;32m    861\u001b[0m             \u001b[1;31m# Cleanup if the child failed starting.\u001b[0m\u001b[1;33m\u001b[0m\u001b[1;33m\u001b[0m\u001b[0m\n",
      "\u001b[1;32m/usr/lib/python3.4/subprocess.py\u001b[0m in \u001b[0;36m_execute_child\u001b[1;34m(self, args, executable, preexec_fn, close_fds, pass_fds, cwd, env, startupinfo, creationflags, shell, p2cread, p2cwrite, c2pread, c2pwrite, errread, errwrite, restore_signals, start_new_session)\u001b[0m\n\u001b[0;32m   1393\u001b[0m                             \u001b[0merrread\u001b[0m\u001b[1;33m,\u001b[0m \u001b[0merrwrite\u001b[0m\u001b[1;33m,\u001b[0m\u001b[1;33m\u001b[0m\u001b[0m\n\u001b[0;32m   1394\u001b[0m                             \u001b[0merrpipe_read\u001b[0m\u001b[1;33m,\u001b[0m \u001b[0merrpipe_write\u001b[0m\u001b[1;33m,\u001b[0m\u001b[1;33m\u001b[0m\u001b[0m\n\u001b[1;32m-> 1395\u001b[1;33m                             restore_signals, start_new_session, preexec_fn)\n\u001b[0m\u001b[0;32m   1396\u001b[0m                     \u001b[0mself\u001b[0m\u001b[1;33m.\u001b[0m\u001b[0m_child_created\u001b[0m \u001b[1;33m=\u001b[0m \u001b[1;32mTrue\u001b[0m\u001b[1;33m\u001b[0m\u001b[0m\n\u001b[0;32m   1397\u001b[0m                 \u001b[1;32mfinally\u001b[0m\u001b[1;33m:\u001b[0m\u001b[1;33m\u001b[0m\u001b[0m\n",
      "\u001b[1;31mTypeError\u001b[0m: Can't convert 'int' object to str implicitly"
     ]
    }
   ],
   "source": [
    "multi_upload('/home/pi/script/test.tmp', 123)"
   ]
  },
  {
   "cell_type": "code",
   "execution_count": 36,
   "metadata": {},
   "outputs": [
    {
     "data": {
      "text/plain": [
       "['.X11-unix',\n",
       " 'archive.gz.part_01',\n",
       " '.Test-unix',\n",
       " '.ICE-unix',\n",
       " '.font-unix',\n",
       " 'pulse-PKdhtXMmr18n',\n",
       " '.XIM-unix',\n",
       " 'jna-3577',\n",
       " 'systemstats.pid',\n",
       " 'hsperfdata_pi',\n",
       " 'archive.gz.part_00',\n",
       " 'owncloud-server-oc1zmxlq1b4f-cron.lock',\n",
       " 'marketbest',\n",
       " 'tmux-1000',\n",
       " 'awscli.response']"
      ]
     },
     "execution_count": 36,
     "metadata": {},
     "output_type": "execute_result"
    }
   ],
   "source": [
    "import os\n",
    "os.listdir('/tmp')"
   ]
  },
  {
   "cell_type": "code",
   "execution_count": 51,
   "metadata": {},
   "outputs": [
    {
     "data": {
      "text/plain": [
       "'1'"
      ]
     },
     "execution_count": 51,
     "metadata": {},
     "output_type": "execute_result"
    }
   ],
   "source": [
    "'{}'.format(1)"
   ]
  },
  {
   "cell_type": "code",
   "execution_count": 67,
   "metadata": {},
   "outputs": [
    {
     "data": {
      "text/plain": [
       "b'0\\xe1IU\\xeb\\xf15\"f\\xdc/\\xf8\\x06~h\\x10F\\x07\\xe7P\\xab\\xb9\\xd3\\xb3e\\x82\\xb8\\xaf\\x90\\x9f\\xcbX'"
      ]
     },
     "execution_count": 67,
     "metadata": {},
     "output_type": "execute_result"
    }
   ],
   "source": [
    "import sha256_tree_hash, codecs\n",
    "\n",
    "C = sha256_tree_hash.get_chunks_sha256_hashes('/home/pi/script/test.tmp')\n",
    "C[0]"
   ]
  },
  {
   "cell_type": "code",
   "execution_count": 66,
   "metadata": {},
   "outputs": [
    {
     "data": {
      "text/plain": [
       "b'0\\xe1IU\\xeb\\xf15\"f\\xdc/\\xf8\\x06~h\\x10F\\x07\\xe7P\\xab\\xb9\\xd3\\xb3e\\x82\\xb8\\xaf\\x90\\x9f\\xcbX'"
      ]
     },
     "execution_count": 66,
     "metadata": {},
     "output_type": "execute_result"
    }
   ],
   "source": [
    "codecs.getdecoder('hex')('30e14955ebf1352266dc2ff8067e68104607e750abb9d3b36582b8af909fcb58')[0]"
   ]
  },
  {
   "cell_type": "code",
   "execution_count": 1,
   "metadata": {},
   "outputs": [
    {
     "name": "stdout",
     "output_type": "stream",
     "text": [
      "b''\n"
     ]
    }
   ],
   "source": [
    "import subprocess\n",
    "gzip = subprocess.Popen([\"gzip\", \"-1c\", '/tmp/test100M.tmp'], stdout=subprocess.PIPE)\n",
    "out = subprocess.Popen(['dd', 'of=/tmp/test100M.gz', 'bs=2M'], stdin=gzip.stdout, stdout=subprocess.PIPE)\n",
    "out.wait()\n",
    "gzip.stdout.close()\n",
    "print(out.communicate()[0])"
   ]
  },
  {
   "cell_type": "code",
   "execution_count": null,
   "metadata": {
    "collapsed": true
   },
   "outputs": [],
   "source": []
  }
 ],
 "metadata": {
  "kernelspec": {
   "display_name": "Python 3",
   "language": "python",
   "name": "python3"
  },
  "language_info": {
   "codemirror_mode": {
    "name": "ipython",
    "version": 3
   },
   "file_extension": ".py",
   "mimetype": "text/x-python",
   "name": "python",
   "nbconvert_exporter": "python",
   "pygments_lexer": "ipython3",
   "version": "3.4.2"
  }
 },
 "nbformat": 4,
 "nbformat_minor": 1
}
