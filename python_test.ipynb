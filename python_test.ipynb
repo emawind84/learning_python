{
 "cells": [
  {
   "cell_type": "code",
   "execution_count": 1,
   "metadata": {
    "collapsed": false
   },
   "outputs": [
    {
     "data": {
      "text/plain": [
       "[0, 0, 0, 0, 0, 0, 0, 0, 0, 0]"
      ]
     },
     "execution_count": 1,
     "metadata": {},
     "output_type": "execute_result"
    }
   ],
   "source": [
    "N = [0 for r in range(10)]\n",
    "N"
   ]
  },
  {
   "cell_type": "code",
   "execution_count": 2,
   "metadata": {
    "collapsed": false
   },
   "outputs": [
    {
     "data": {
      "text/plain": [
       "[None, None, None, None, None, None, None, None, None, None]"
      ]
     },
     "execution_count": 2,
     "metadata": {},
     "output_type": "execute_result"
    }
   ],
   "source": [
    "N = [None for r in range(10)]\n",
    "N"
   ]
  },
  {
   "cell_type": "code",
   "execution_count": 3,
   "metadata": {
    "collapsed": false
   },
   "outputs": [
    {
     "name": "stdout",
     "output_type": "stream",
     "text": [
      "4\n",
      "6\n",
      "8\n",
      "10\n",
      "10\n",
      "\n",
      "4\n",
      "6\n",
      "8\n",
      "8\n",
      "10\n",
      "\n",
      "4\n",
      "6\n",
      "6\n",
      "8\n",
      "10\n",
      "\n",
      "4\n",
      "5\n",
      "6\n",
      "8\n",
      "10\n",
      "\n"
     ]
    }
   ],
   "source": [
    "s = 5\n",
    "ar = '4 6 8 10 5'\n",
    "ar = [int(v) for v in ar.split()]\n",
    "v = ar[len(ar)-1]\n",
    "\n",
    "def printAr():\n",
    "    for r in ar: print(r),\n",
    "    print('')\n",
    "\n",
    "for i in range(len(ar)-2, -1, -1):\n",
    "    if ar[i] <= v:\n",
    "        ar[i+1] = v\n",
    "        printAr()\n",
    "        break\n",
    "        \n",
    "    if ar[i] > v:\n",
    "        ar[i+1] = ar[i]\n",
    "        \n",
    "    printAr()"
   ]
  },
  {
   "cell_type": "code",
   "execution_count": 4,
   "metadata": {
    "collapsed": false,
    "scrolled": true
   },
   "outputs": [
    {
     "data": {
      "text/plain": [
       "[1, 2, 3, 4, 10]"
      ]
     },
     "execution_count": 4,
     "metadata": {},
     "output_type": "execute_result"
    }
   ],
   "source": [
    "N = [1, 2, 3, 4]\n",
    "N[5:6] = [10]\n",
    "N"
   ]
  },
  {
   "cell_type": "raw",
   "metadata": {},
   "source": [
    "Insertion Sort\n",
    "--------------------------------"
   ]
  },
  {
   "cell_type": "code",
   "execution_count": 5,
   "metadata": {
    "collapsed": false
   },
   "outputs": [
    {
     "data": {
      "text/plain": [
       "[1, 2.5, 3, 3, 7]"
      ]
     },
     "execution_count": 5,
     "metadata": {},
     "output_type": "execute_result"
    }
   ],
   "source": [
    "def sort(ar):\n",
    "    v = ar[-1]\n",
    "    \n",
    "    for i in range(len(ar)-2, -1, -1):\n",
    "        if ar[i] <= v:\n",
    "            ar[i+1] = v\n",
    "\n",
    "        if ar[i] > v:\n",
    "            ar[i+1] = ar[i]\n",
    "\n",
    "        if ar[i] <= v:\n",
    "            break\n",
    "\n",
    "    if ar[0] > v:\n",
    "        ar[0] = v\n",
    "        \n",
    "    return ar\n",
    "\n",
    "sort([1,3,3,7,2.5])"
   ]
  },
  {
   "cell_type": "code",
   "execution_count": 6,
   "metadata": {
    "collapsed": false,
    "scrolled": false
   },
   "outputs": [
    {
     "data": {
      "text/plain": [
       "[1]"
      ]
     },
     "execution_count": 6,
     "metadata": {},
     "output_type": "execute_result"
    }
   ],
   "source": [
    "N = [1, 2, 3]\n",
    "N[0:1]"
   ]
  },
  {
   "cell_type": "code",
   "execution_count": null,
   "metadata": {
    "collapsed": true
   },
   "outputs": [],
   "source": []
  },
  {
   "cell_type": "code",
   "execution_count": 7,
   "metadata": {
    "collapsed": true
   },
   "outputs": [],
   "source": [
    "def printAr(ar):\n",
    "    # print array as space separated string value\n",
    "    print(\" \".join(map(str,ar)))"
   ]
  },
  {
   "cell_type": "code",
   "execution_count": 8,
   "metadata": {
    "collapsed": false,
    "scrolled": false
   },
   "outputs": [
    {
     "name": "stdout",
     "output_type": "stream",
     "text": [
      "2 4 3 6 5 1\n",
      "2 3 4 6 5 1\n",
      "2 3 4 6 5 1\n",
      "2 3 4 5 6 1\n",
      "1 2 3 4 5 6\n"
     ]
    }
   ],
   "source": [
    "N = [2, 4, 3, 6, 5, 1]\n",
    "for i in range(1, len(N)):\n",
    "    N = sort(N[:i+1]) + N[i+1:]\n",
    "    printAr(N)"
   ]
  },
  {
   "cell_type": "raw",
   "metadata": {},
   "source": [
    "Correctness and the Loop Invariant\n",
    "-------------------------------------"
   ]
  },
  {
   "cell_type": "code",
   "execution_count": 9,
   "metadata": {
    "collapsed": false
   },
   "outputs": [],
   "source": [
    "# input compatibility statement\n",
    "import sys\n",
    "if sys.version[0] == '2': input = raw_input # for compatibility with 2.X"
   ]
  },
  {
   "cell_type": "code",
   "execution_count": 10,
   "metadata": {
    "collapsed": false
   },
   "outputs": [
    {
     "ename": "KeyboardInterrupt",
     "evalue": "",
     "output_type": "error",
     "traceback": [
      "\u001b[1;31m---------------------------------------------------------------------------\u001b[0m",
      "\u001b[1;31mKeyboardInterrupt\u001b[0m                         Traceback (most recent call last)",
      "\u001b[1;32m/home/pi/jupyter/env/lib/python3.4/site-packages/ipykernel/kernelbase.py\u001b[0m in \u001b[0;36m_input_request\u001b[1;34m(self, prompt, ident, parent, password)\u001b[0m\n\u001b[0;32m    713\u001b[0m             \u001b[1;32mtry\u001b[0m\u001b[1;33m:\u001b[0m\u001b[1;33m\u001b[0m\u001b[0m\n\u001b[1;32m--> 714\u001b[1;33m                 \u001b[0mident\u001b[0m\u001b[1;33m,\u001b[0m \u001b[0mreply\u001b[0m \u001b[1;33m=\u001b[0m \u001b[0mself\u001b[0m\u001b[1;33m.\u001b[0m\u001b[0msession\u001b[0m\u001b[1;33m.\u001b[0m\u001b[0mrecv\u001b[0m\u001b[1;33m(\u001b[0m\u001b[0mself\u001b[0m\u001b[1;33m.\u001b[0m\u001b[0mstdin_socket\u001b[0m\u001b[1;33m,\u001b[0m \u001b[1;36m0\u001b[0m\u001b[1;33m)\u001b[0m\u001b[1;33m\u001b[0m\u001b[0m\n\u001b[0m\u001b[0;32m    715\u001b[0m             \u001b[1;32mexcept\u001b[0m \u001b[0mException\u001b[0m\u001b[1;33m:\u001b[0m\u001b[1;33m\u001b[0m\u001b[0m\n",
      "\u001b[1;32m/home/pi/jupyter/env/lib/python3.4/site-packages/jupyter_client/session.py\u001b[0m in \u001b[0;36mrecv\u001b[1;34m(self, socket, mode, content, copy)\u001b[0m\n\u001b[0;32m    738\u001b[0m         \u001b[1;32mtry\u001b[0m\u001b[1;33m:\u001b[0m\u001b[1;33m\u001b[0m\u001b[0m\n\u001b[1;32m--> 739\u001b[1;33m             \u001b[0mmsg_list\u001b[0m \u001b[1;33m=\u001b[0m \u001b[0msocket\u001b[0m\u001b[1;33m.\u001b[0m\u001b[0mrecv_multipart\u001b[0m\u001b[1;33m(\u001b[0m\u001b[0mmode\u001b[0m\u001b[1;33m,\u001b[0m \u001b[0mcopy\u001b[0m\u001b[1;33m=\u001b[0m\u001b[0mcopy\u001b[0m\u001b[1;33m)\u001b[0m\u001b[1;33m\u001b[0m\u001b[0m\n\u001b[0m\u001b[0;32m    740\u001b[0m         \u001b[1;32mexcept\u001b[0m \u001b[0mzmq\u001b[0m\u001b[1;33m.\u001b[0m\u001b[0mZMQError\u001b[0m \u001b[1;32mas\u001b[0m \u001b[0me\u001b[0m\u001b[1;33m:\u001b[0m\u001b[1;33m\u001b[0m\u001b[0m\n",
      "\u001b[1;32m/home/pi/jupyter/env/lib/python3.4/site-packages/zmq/sugar/socket.py\u001b[0m in \u001b[0;36mrecv_multipart\u001b[1;34m(self, flags, copy, track)\u001b[0m\n\u001b[0;32m    357\u001b[0m         \"\"\"\n\u001b[1;32m--> 358\u001b[1;33m         \u001b[0mparts\u001b[0m \u001b[1;33m=\u001b[0m \u001b[1;33m[\u001b[0m\u001b[0mself\u001b[0m\u001b[1;33m.\u001b[0m\u001b[0mrecv\u001b[0m\u001b[1;33m(\u001b[0m\u001b[0mflags\u001b[0m\u001b[1;33m,\u001b[0m \u001b[0mcopy\u001b[0m\u001b[1;33m=\u001b[0m\u001b[0mcopy\u001b[0m\u001b[1;33m,\u001b[0m \u001b[0mtrack\u001b[0m\u001b[1;33m=\u001b[0m\u001b[0mtrack\u001b[0m\u001b[1;33m)\u001b[0m\u001b[1;33m]\u001b[0m\u001b[1;33m\u001b[0m\u001b[0m\n\u001b[0m\u001b[0;32m    359\u001b[0m         \u001b[1;31m# have first part already, only loop while more to receive\u001b[0m\u001b[1;33m\u001b[0m\u001b[1;33m\u001b[0m\u001b[0m\n",
      "\u001b[1;32mzmq/backend/cython/socket.pyx\u001b[0m in \u001b[0;36mzmq.backend.cython.socket.Socket.recv (zmq/backend/cython/socket.c:6971)\u001b[1;34m()\u001b[0m\n",
      "\u001b[1;32mzmq/backend/cython/socket.pyx\u001b[0m in \u001b[0;36mzmq.backend.cython.socket.Socket.recv (zmq/backend/cython/socket.c:6763)\u001b[1;34m()\u001b[0m\n",
      "\u001b[1;32mzmq/backend/cython/socket.pyx\u001b[0m in \u001b[0;36mzmq.backend.cython.socket._recv_copy (zmq/backend/cython/socket.c:1931)\u001b[1;34m()\u001b[0m\n",
      "\u001b[1;32m/home/pi/jupyter/env/lib/python3.4/site-packages/zmq/backend/cython/checkrc.pxd\u001b[0m in \u001b[0;36mzmq.backend.cython.checkrc._check_rc (zmq/backend/cython/socket.c:7222)\u001b[1;34m()\u001b[0m\n\u001b[0;32m     11\u001b[0m     \u001b[0mcdef\u001b[0m \u001b[0mint\u001b[0m \u001b[0merrno\u001b[0m \u001b[1;33m=\u001b[0m \u001b[0mzmq_errno\u001b[0m\u001b[1;33m(\u001b[0m\u001b[1;33m)\u001b[0m\u001b[1;33m\u001b[0m\u001b[0m\n\u001b[1;32m---> 12\u001b[1;33m     \u001b[0mPyErr_CheckSignals\u001b[0m\u001b[1;33m(\u001b[0m\u001b[1;33m)\u001b[0m\u001b[1;33m\u001b[0m\u001b[0m\n\u001b[0m\u001b[0;32m     13\u001b[0m     \u001b[1;32mif\u001b[0m \u001b[0mrc\u001b[0m \u001b[1;33m==\u001b[0m \u001b[1;33m-\u001b[0m\u001b[1;36m1\u001b[0m\u001b[1;33m:\u001b[0m \u001b[1;31m# if rc < -1, it's a bug in libzmq. Should we warn?\u001b[0m\u001b[1;33m\u001b[0m\u001b[0m\n",
      "\u001b[1;31mKeyboardInterrupt\u001b[0m: ",
      "\nDuring handling of the above exception, another exception occurred:\n",
      "\u001b[1;31mKeyboardInterrupt\u001b[0m                         Traceback (most recent call last)",
      "\u001b[1;32m<ipython-input-10-2844f11a4cb0>\u001b[0m in \u001b[0;36m<module>\u001b[1;34m()\u001b[0m\n\u001b[0;32m     11\u001b[0m \u001b[1;31m#m = int(input().strip())\u001b[0m\u001b[1;33m\u001b[0m\u001b[1;33m\u001b[0m\u001b[0m\n\u001b[0;32m     12\u001b[0m \u001b[1;31m#ar = [int(i) for i in input().strip().split()]\u001b[0m\u001b[1;33m\u001b[0m\u001b[1;33m\u001b[0m\u001b[0m\n\u001b[1;32m---> 13\u001b[1;33m \u001b[0mm\u001b[0m \u001b[1;33m=\u001b[0m \u001b[0mint\u001b[0m\u001b[1;33m(\u001b[0m\u001b[0minput\u001b[0m\u001b[1;33m(\u001b[0m\u001b[1;33m)\u001b[0m\u001b[1;33m.\u001b[0m\u001b[0mstrip\u001b[0m\u001b[1;33m(\u001b[0m\u001b[1;33m)\u001b[0m\u001b[1;33m)\u001b[0m\u001b[1;33m\u001b[0m\u001b[0m\n\u001b[0m\u001b[0;32m     14\u001b[0m \u001b[0mvals\u001b[0m \u001b[1;33m=\u001b[0m \u001b[0minput\u001b[0m\u001b[1;33m(\u001b[0m\u001b[1;33m)\u001b[0m\u001b[1;33m.\u001b[0m\u001b[0mstrip\u001b[0m\u001b[1;33m(\u001b[0m\u001b[1;33m)\u001b[0m\u001b[1;33m.\u001b[0m\u001b[0msplit\u001b[0m\u001b[1;33m(\u001b[0m\u001b[1;33m)\u001b[0m\u001b[1;33m\u001b[0m\u001b[0m\n\u001b[0;32m     15\u001b[0m \u001b[0mar\u001b[0m \u001b[1;33m=\u001b[0m \u001b[1;33m[\u001b[0m\u001b[0mint\u001b[0m\u001b[1;33m(\u001b[0m\u001b[0mi\u001b[0m\u001b[1;33m)\u001b[0m \u001b[1;32mfor\u001b[0m \u001b[0mi\u001b[0m \u001b[1;32min\u001b[0m \u001b[0mvals\u001b[0m\u001b[1;33m]\u001b[0m\u001b[1;33m\u001b[0m\u001b[0m\n",
      "\u001b[1;32m/home/pi/jupyter/env/lib/python3.4/site-packages/ipykernel/kernelbase.py\u001b[0m in \u001b[0;36mraw_input\u001b[1;34m(self, prompt)\u001b[0m\n\u001b[0;32m    687\u001b[0m             \u001b[0mself\u001b[0m\u001b[1;33m.\u001b[0m\u001b[0m_parent_ident\u001b[0m\u001b[1;33m,\u001b[0m\u001b[1;33m\u001b[0m\u001b[0m\n\u001b[0;32m    688\u001b[0m             \u001b[0mself\u001b[0m\u001b[1;33m.\u001b[0m\u001b[0m_parent_header\u001b[0m\u001b[1;33m,\u001b[0m\u001b[1;33m\u001b[0m\u001b[0m\n\u001b[1;32m--> 689\u001b[1;33m             \u001b[0mpassword\u001b[0m\u001b[1;33m=\u001b[0m\u001b[1;32mFalse\u001b[0m\u001b[1;33m,\u001b[0m\u001b[1;33m\u001b[0m\u001b[0m\n\u001b[0m\u001b[0;32m    690\u001b[0m         )\n\u001b[0;32m    691\u001b[0m \u001b[1;33m\u001b[0m\u001b[0m\n",
      "\u001b[1;32m/home/pi/jupyter/env/lib/python3.4/site-packages/ipykernel/kernelbase.py\u001b[0m in \u001b[0;36m_input_request\u001b[1;34m(self, prompt, ident, parent, password)\u001b[0m\n\u001b[0;32m    717\u001b[0m             \u001b[1;32mexcept\u001b[0m \u001b[0mKeyboardInterrupt\u001b[0m\u001b[1;33m:\u001b[0m\u001b[1;33m\u001b[0m\u001b[0m\n\u001b[0;32m    718\u001b[0m                 \u001b[1;31m# re-raise KeyboardInterrupt, to truncate traceback\u001b[0m\u001b[1;33m\u001b[0m\u001b[1;33m\u001b[0m\u001b[0m\n\u001b[1;32m--> 719\u001b[1;33m                 \u001b[1;32mraise\u001b[0m \u001b[0mKeyboardInterrupt\u001b[0m\u001b[1;33m\u001b[0m\u001b[0m\n\u001b[0m\u001b[0;32m    720\u001b[0m             \u001b[1;32melse\u001b[0m\u001b[1;33m:\u001b[0m\u001b[1;33m\u001b[0m\u001b[0m\n\u001b[0;32m    721\u001b[0m                 \u001b[1;32mbreak\u001b[0m\u001b[1;33m\u001b[0m\u001b[0m\n",
      "\u001b[1;31mKeyboardInterrupt\u001b[0m: "
     ]
    }
   ],
   "source": [
    "def insertion_sort(l):\n",
    "    for i in range(1, len(l)):\n",
    "        j = i-1\n",
    "        key = l[i]\n",
    "        while (j >= 0) and (l[j] > key):\n",
    "           l[j+1] = l[j]\n",
    "           j -= 1\n",
    "        l[j+1] = key\n",
    "\n",
    "\n",
    "#m = int(input().strip())\n",
    "#ar = [int(i) for i in input().strip().split()]\n",
    "m = int(input().strip())\n",
    "vals = input().strip().split()\n",
    "ar = [int(i) for i in vals]\n",
    "insertion_sort(ar)\n",
    "print(\" \".join(map(str,ar)))"
   ]
  },
  {
   "cell_type": "raw",
   "metadata": {},
   "source": [
    "Quick Sort\n",
    "----------------------------------"
   ]
  },
  {
   "cell_type": "code",
   "execution_count": null,
   "metadata": {
    "collapsed": false
   },
   "outputs": [],
   "source": [
    "N = [3, 4]\n",
    "N.insert(0, 2)\n",
    "N"
   ]
  },
  {
   "cell_type": "code",
   "execution_count": null,
   "metadata": {
    "collapsed": false
   },
   "outputs": [],
   "source": [
    "N[0:0] = [1]; N"
   ]
  },
  {
   "cell_type": "code",
   "execution_count": null,
   "metadata": {
    "collapsed": false
   },
   "outputs": [],
   "source": [
    "N[-1]"
   ]
  },
  {
   "cell_type": "code",
   "execution_count": null,
   "metadata": {
    "collapsed": false
   },
   "outputs": [],
   "source": [
    "#!/bin/python\n",
    "def partition(ar):\n",
    "    key = ar[0]\n",
    "    \n",
    "    ret = [key]\n",
    "    \n",
    "    for i in range(1, len(ar)):\n",
    "        if ar[i] > key:\n",
    "            ret.append(ar[i])\n",
    "        else:\n",
    "            ret.insert(0, ar[i])\n",
    "    \n",
    "    return ret\n",
    "\n",
    "m = input()\n",
    "ar = [int(i) for i in raw_input().strip().split()]\n",
    "P = partition(ar)\n",
    "print(' '.join(map(str, P)))"
   ]
  },
  {
   "cell_type": "code",
   "execution_count": null,
   "metadata": {
    "collapsed": false
   },
   "outputs": [],
   "source": [
    "# METHOD 1\n",
    "\n",
    "#!/bin/python\n",
    "def quickSort(ar):\n",
    "    \n",
    "    if (len(ar) == 1) or (len(ar) == 0):\n",
    "        return ar\n",
    "    \n",
    "    key = ar[0]\n",
    "    nr = [key]\n",
    "    for i in range(1, len(ar)):\n",
    "        if ar[i] > key:\n",
    "            nr.append(ar[i])\n",
    "        else:\n",
    "            nr.insert(0, ar[i])\n",
    "    \n",
    "    ret = quickSort(nr[:nr.index(key)]) + [key] + quickSort(nr[nr.index(key)+1:])\n",
    "    print(' '.join(map(str, ret)))\n",
    "    \n",
    "    return ret\n",
    "\n",
    "m = input()\n",
    "ar = [int(i) for i in raw_input().strip().split()]\n",
    "P = quickSort(ar)"
   ]
  },
  {
   "cell_type": "code",
   "execution_count": null,
   "metadata": {
    "collapsed": false,
    "scrolled": true
   },
   "outputs": [],
   "source": [
    "# METHOD 2\n",
    "\n",
    "#!/bin/python\n",
    "def quickSort(ar):\n",
    "    \n",
    "    if (len(ar) == 1) or (len(ar) == 0):\n",
    "        return ar\n",
    "    \n",
    "    key = ar[0]\n",
    "    nl = []\n",
    "    nr = []\n",
    "    for i in xrange(1, len(ar)):\n",
    "        if ar[i] > key:\n",
    "            nr.append(ar[i])\n",
    "        else:\n",
    "            nl.append(ar[i])\n",
    "    \n",
    "    ret = quickSort(nl) + [key] + quickSort(nr)\n",
    "    print(' '.join(map(str, ret)))\n",
    "    \n",
    "    return ret\n",
    "\n",
    "m = input()\n",
    "ar = [int(i) for i in raw_input().strip().split()]\n",
    "P = quickSort(ar)"
   ]
  },
  {
   "cell_type": "code",
   "execution_count": null,
   "metadata": {
    "collapsed": false,
    "scrolled": true
   },
   "outputs": [],
   "source": [
    "N = []\n",
    "N[-1:]"
   ]
  },
  {
   "cell_type": "raw",
   "metadata": {},
   "source": [
    "Quicksort with Lomuto partition\n",
    "------------------------------------"
   ]
  },
  {
   "cell_type": "code",
   "execution_count": null,
   "metadata": {
    "collapsed": false
   },
   "outputs": [],
   "source": [
    "def swap(ar, i, j):\n",
    "    t = ar[i]\n",
    "    ar[i] = ar[j]\n",
    "    ar[j] = t\n",
    "    \n",
    "def partition(ar, si, ei):\n",
    "    p = ar[ei]\n",
    "    j = si\n",
    "    for i in xrange(si, ei):\n",
    "        if (ar[i] < p):\n",
    "            swap(ar, i, j)\n",
    "            \n",
    "            j += 1\n",
    "\n",
    "    swap(ar, j, ei)\n",
    "              \n",
    "    return j\n",
    "\n",
    "def quickSort(ar, lo, hi):\n",
    "    if hi > lo:\n",
    "        pi = partition(ar, lo, hi)\n",
    "        print(' '.join(map(str, ar)))\n",
    "        quickSort(ar, lo, pi - 1)\n",
    "        quickSort(ar, pi + 1, hi)\n",
    "\n",
    "m = input()\n",
    "ar = [int(i) for i in raw_input().strip().split()]\n",
    "quickSort(ar, 0, len(ar) - 1)"
   ]
  },
  {
   "cell_type": "code",
   "execution_count": null,
   "metadata": {
    "collapsed": false,
    "scrolled": true
   },
   "outputs": [],
   "source": [
    "def sort(ar):\n",
    "    global shift_cnt\n",
    "    v = ar[len(ar)-1]\n",
    "    \n",
    "    for i in range(len(ar)-2, -1, -1):\n",
    "        if ar[i] < v:\n",
    "            ar[i+1] = v\n",
    "\n",
    "        if ar[i] > v:\n",
    "            ar[i+1] = ar[i]\n",
    "            shift_cnt += 1\n",
    "\n",
    "        if ar[i] <= v:\n",
    "            break\n",
    "\n",
    "    if ar[0] > v:\n",
    "        ar[0] = v\n",
    "        \n",
    "    return ar\n",
    "\n",
    "def insertionSort(N):\n",
    "    for i in range(1, len(N)):\n",
    "        N = sort(N[:i+1]) + N[i+1:]\n",
    "\n",
    "shift_cnt = 0\n",
    "ar = [int(i) for i in raw_input().strip().split()]\n",
    "insertionSort(ar)\n",
    "\n",
    "print(shift_cnt)"
   ]
  },
  {
   "cell_type": "raw",
   "metadata": {},
   "source": [
    "Counting Sort\n",
    "--------------------------"
   ]
  },
  {
   "cell_type": "code",
   "execution_count": null,
   "metadata": {
    "collapsed": false,
    "scrolled": false
   },
   "outputs": [],
   "source": [
    "# input compatibility statement\n",
    "import sys\n",
    "if sys.version[0] == '2': input = raw_input\n",
    "\n",
    "n = [0 for v in range(100)]\n",
    "\n",
    "def countSort(ar):\n",
    "    \n",
    "    for v in ar:\n",
    "        n[v] += 1\n",
    "\n",
    "#m = int(input().strip())\n",
    "ar = [int(i) for i in input().strip().split()]\n",
    "countSort(ar)\n",
    "print( ' '.join(map(str, n)) )"
   ]
  },
  {
   "cell_type": "code",
   "execution_count": null,
   "metadata": {
    "collapsed": false
   },
   "outputs": [],
   "source": [
    "t = []\n",
    "t.extend([1 for v in xrange(2)])\n",
    "t.extend([2 for v in xrange(2)])\n",
    "t"
   ]
  },
  {
   "cell_type": "code",
   "execution_count": null,
   "metadata": {
    "collapsed": false
   },
   "outputs": [],
   "source": [
    "n = [0 for v in range(100)]\n",
    "ar = [int(i) for i in input().strip().split()]\n",
    "countSort(ar)\n",
    "#print( ' '.join(map(str, n)) )\n",
    "\n",
    "ret = []\n",
    "for i in range(len(n)):\n",
    "    ret.extend([str(i) for v in xrange(n[i])])\n",
    "    \n",
    "print( ' '.join(map(str, ret)) )"
   ]
  },
  {
   "cell_type": "code",
   "execution_count": null,
   "metadata": {
    "collapsed": false
   },
   "outputs": [],
   "source": [
    "N = [(1, 'a'), (2, 'b'), (3, 'c')]\n",
    "[i for (i, v) in N]"
   ]
  },
  {
   "cell_type": "code",
   "execution_count": null,
   "metadata": {
    "collapsed": false
   },
   "outputs": [],
   "source": [
    "# Enter your code here. Read input from STDIN. Print output to STDOUT\n",
    "# input compatibility statement\n",
    "import sys\n",
    "if sys.version[0] == '2': input = raw_input\n",
    "    \n",
    "def countSort(ar):\n",
    "    n = [0 for v in range(100)]    \n",
    "    for v in ar:\n",
    "        n[v] += 1\n",
    "    return n\n",
    "\n",
    "# read input\n",
    "ar = []\n",
    "m = int(input().strip())\n",
    "for i in xrange(m):\n",
    "    v = input().strip().split()\n",
    "    ar.append( (int(v[0]), v[1]) )\n",
    "\n",
    "# do count\n",
    "n = countSort([i for (i, v) in ar])\n",
    "\n",
    "count = 0\n",
    "for i in range(len(n)):\n",
    "    count += n[i]\n",
    "    n[i] = count\n",
    "    \n",
    "# print output    \n",
    "print( ' '.join(map(str, n)) )"
   ]
  },
  {
   "cell_type": "raw",
   "metadata": {},
   "source": [
    "The Full Counting Sort\n",
    "---------------------------"
   ]
  },
  {
   "cell_type": "code",
   "execution_count": null,
   "metadata": {
    "collapsed": false
   },
   "outputs": [],
   "source": [
    "###### Enter your code here. Read input from STDIN. Print output to STDOUT\n",
    "# input compatibility statement\n",
    "import sys, time\n",
    "if sys.version[0] == '2': input = raw_input\n",
    "    \n",
    "def countSort(ar):\n",
    "    n = [0 for v in range(100)]\n",
    "    for i, v in ar:\n",
    "        n[i] += 1\n",
    "    return n\n",
    "\n",
    "# read input\n",
    "ar = []\n",
    "m = int(input().strip())\n",
    "for i in range(m):\n",
    "    j, v = input().strip().split()\n",
    "    ar.append( (int(j), v) )\n",
    "    \n",
    "# init var\n",
    "nn = [0 for i in range(100)]\n",
    "ret = [None for i in range(m)]\n",
    "\n",
    "# do count\n",
    "n = countSort(ar)\n",
    "\n",
    "count = 0\n",
    "for i in range(len(n)):\n",
    "    count += n[i]\n",
    "    nn[i] = count\n",
    "\n",
    "#t = time.time()\n",
    "\n",
    "i = 0\n",
    "for j, v in ar:\n",
    "    v = v if i > (m / 2) - 1 else '-'\n",
    "    ret[nn[j] - n[j]] = v\n",
    "    n[j] -= 1\n",
    "    \n",
    "    i += 1\n",
    "\n",
    "#print(\"%.5f\" % (time.time()-t))   \n",
    "\n",
    "print(' '.join(map(str,ret)))"
   ]
  },
  {
   "cell_type": "code",
   "execution_count": null,
   "metadata": {
    "collapsed": false
   },
   "outputs": [],
   "source": [
    "N = (0,) * 20\n",
    "N[3]"
   ]
  },
  {
   "cell_type": "code",
   "execution_count": null,
   "metadata": {
    "collapsed": false
   },
   "outputs": [],
   "source": [
    "'#'.rjust(5)"
   ]
  },
  {
   "cell_type": "code",
   "execution_count": null,
   "metadata": {
    "collapsed": false
   },
   "outputs": [],
   "source": [
    "m = 6\n",
    "for i in range(6 + 1):\n",
    "    print(('#' * i ).rjust(m))"
   ]
  },
  {
   "cell_type": "code",
   "execution_count": null,
   "metadata": {
    "collapsed": false
   },
   "outputs": [],
   "source": [
    "sum([1, 2, 3])"
   ]
  },
  {
   "cell_type": "code",
   "execution_count": null,
   "metadata": {
    "collapsed": false,
    "scrolled": true
   },
   "outputs": [],
   "source": [
    "[0 for i in range(10)]"
   ]
  },
  {
   "cell_type": "raw",
   "metadata": {},
   "source": [
    "Closest Numbers\n",
    "----------------------"
   ]
  },
  {
   "cell_type": "code",
   "execution_count": null,
   "metadata": {
    "collapsed": false,
    "scrolled": true
   },
   "outputs": [],
   "source": [
    "sorted((4, 2))"
   ]
  },
  {
   "cell_type": "code",
   "execution_count": null,
   "metadata": {
    "collapsed": true
   },
   "outputs": [],
   "source": [
    "# input compatibility statement\n",
    "import sys, time\n",
    "if sys.version[0] == '2': input = raw_input\n",
    "    \n",
    "def closestNum(ar):\n",
    "    k = None\n",
    "    T = []\n",
    "    \n",
    "    for i in range(len(ar)):\n",
    "        cur = ar[i]\n",
    "        for j in range(i + 1, len(ar)):\n",
    "            v = ar[j]\n",
    "            diff = abs(cur - v)\n",
    "            t = tuple(sorted((cur, v)))\n",
    "            if k == None or diff < k:\n",
    "                T = [t]\n",
    "                k = diff\n",
    "            elif diff == k:\n",
    "                T.append(t)\n",
    "    return T\n",
    "\n",
    "m = int(input().strip())\n",
    "ar = [int(i) for i in input().strip().split()]\n",
    "\n",
    "t = time.time()\n",
    "ret = closestNum(ar)\n",
    "print(\"%.5f\" % (time.time()-t))\n",
    "\n",
    "#print(' '.join(map(str, ['{} {}'.format(j, i) for j, i in ret])))"
   ]
  },
  {
   "cell_type": "code",
   "execution_count": null,
   "metadata": {
    "collapsed": false
   },
   "outputs": [],
   "source": [
    "tuple(sorted((4, 2)))"
   ]
  },
  {
   "cell_type": "code",
   "execution_count": null,
   "metadata": {
    "collapsed": false
   },
   "outputs": [],
   "source": [
    "ar = [(3, 4), (10, 20)]\n",
    "' '.join(map(str, ['{} {}'.format(j, i) for j, i in ar]))"
   ]
  },
  {
   "cell_type": "code",
   "execution_count": null,
   "metadata": {
    "collapsed": false
   },
   "outputs": [],
   "source": [
    "'%s %s' % ((5, 6))"
   ]
  },
  {
   "cell_type": "code",
   "execution_count": null,
   "metadata": {
    "collapsed": false
   },
   "outputs": [],
   "source": [
    "import sys, time\n",
    "if sys.version[0] == '2': input = raw_input\n",
    "    \n",
    "m = int(input())\n",
    "\n",
    "ar = []\n",
    "for i in range(m):\n",
    "    ar.append(tuple(input().strip().split()))\n",
    "\n",
    "def doSum(ar, lo, hi, inc):\n",
    "    s = 0\n",
    "    for i in range(0, m, inc):\n",
    "        s += int(ar[i][i])\n",
    "    return s\n",
    "    \n",
    "print(doSum(ar, 0, m, 1))"
   ]
  },
  {
   "cell_type": "code",
   "execution_count": null,
   "metadata": {
    "collapsed": false
   },
   "outputs": [],
   "source": [
    "print('\\n'.join('%.4f' % (v/10.0) for v in [4, 5, 6]))"
   ]
  },
  {
   "cell_type": "code",
   "execution_count": null,
   "metadata": {
    "collapsed": false
   },
   "outputs": [],
   "source": [
    "'{:->5}'.format('#')"
   ]
  },
  {
   "cell_type": "code",
   "execution_count": null,
   "metadata": {
    "collapsed": false
   },
   "outputs": [],
   "source": [
    "from datetime import datetime\n",
    "print(datetime.now())"
   ]
  },
  {
   "cell_type": "code",
   "execution_count": null,
   "metadata": {
    "collapsed": true
   },
   "outputs": [],
   "source": [
    "import pylog"
   ]
  },
  {
   "cell_type": "code",
   "execution_count": null,
   "metadata": {
    "collapsed": false
   },
   "outputs": [],
   "source": [
    "pylog.FILE_NAME = 'log2.log'\n",
    "pylog.set_header(['aaa', 'bbb', 'ccc'])"
   ]
  },
  {
   "cell_type": "code",
   "execution_count": null,
   "metadata": {
    "collapsed": false
   },
   "outputs": [],
   "source": [
    "a = { '1': 'a' }\n",
    "a.get('2', 'b')"
   ]
  },
  {
   "cell_type": "code",
   "execution_count": null,
   "metadata": {
    "collapsed": true
   },
   "outputs": [],
   "source": [
    "from threading import Thread, Event\n",
    "e = Event()"
   ]
  },
  {
   "cell_type": "code",
   "execution_count": null,
   "metadata": {
    "collapsed": false
   },
   "outputs": [],
   "source": [
    "e.is_set()"
   ]
  },
  {
   "cell_type": "code",
   "execution_count": null,
   "metadata": {
    "collapsed": false
   },
   "outputs": [],
   "source": [
    "e.set()\n",
    "e.is_set()"
   ]
  },
  {
   "cell_type": "code",
   "execution_count": null,
   "metadata": {
    "collapsed": false
   },
   "outputs": [],
   "source": [
    "e.clear()\n",
    "e.is_set()"
   ]
  },
  {
   "cell_type": "code",
   "execution_count": null,
   "metadata": {
    "collapsed": false
   },
   "outputs": [],
   "source": [
    "e.set()\n",
    "e.is_set()"
   ]
  },
  {
   "cell_type": "code",
   "execution_count": null,
   "metadata": {
    "collapsed": false
   },
   "outputs": [],
   "source": [
    "T = (1,)\n",
    "for t in T:\n",
    "    print t"
   ]
  },
  {
   "cell_type": "code",
   "execution_count": null,
   "metadata": {
    "collapsed": true
   },
   "outputs": [],
   "source": [
    "import pylog, sys"
   ]
  },
  {
   "cell_type": "code",
   "execution_count": null,
   "metadata": {
    "collapsed": false
   },
   "outputs": [],
   "source": [
    "pylog.FILE_NAME = 'log.log'\n",
    "pylog.WRITE_FREQ = 1\n",
    "tmp = sys.stdout\n",
    "sys.stdout = pylog.PyLog()\n",
    "print('ciao!')\n",
    "sys.stdout = tmp"
   ]
  },
  {
   "cell_type": "code",
   "execution_count": null,
   "metadata": {
    "collapsed": false
   },
   "outputs": [],
   "source": [
    "print('ciao!')"
   ]
  },
  {
   "cell_type": "code",
   "execution_count": null,
   "metadata": {
    "collapsed": false
   },
   "outputs": [],
   "source": [
    "pylog.FILE_NAME = 'log.log'\n",
    "pylog.WRITE_FREQ = 1\n",
    "pylog.log('test')"
   ]
  },
  {
   "cell_type": "code",
   "execution_count": null,
   "metadata": {
    "collapsed": false
   },
   "outputs": [],
   "source": [
    "log = pylog.PyLog()\n",
    "log"
   ]
  },
  {
   "cell_type": "code",
   "execution_count": null,
   "metadata": {
    "collapsed": true
   },
   "outputs": [],
   "source": [
    "from __future__ import print_function"
   ]
  },
  {
   "cell_type": "code",
   "execution_count": null,
   "metadata": {
    "collapsed": false
   },
   "outputs": [],
   "source": [
    "print('test2', file=log)"
   ]
  },
  {
   "cell_type": "code",
   "execution_count": null,
   "metadata": {
    "collapsed": false
   },
   "outputs": [],
   "source": [
    "log.write('111')"
   ]
  },
  {
   "cell_type": "code",
   "execution_count": null,
   "metadata": {
    "collapsed": false
   },
   "outputs": [],
   "source": [
    "sys.stdout = log\n",
    "print('2222')"
   ]
  },
  {
   "cell_type": "code",
   "execution_count": null,
   "metadata": {
    "collapsed": true
   },
   "outputs": [],
   "source": [
    "sys.__stdout__.write('test')"
   ]
  },
  {
   "cell_type": "code",
   "execution_count": null,
   "metadata": {
    "collapsed": false
   },
   "outputs": [],
   "source": [
    "sys.__stdout__"
   ]
  },
  {
   "cell_type": "code",
   "execution_count": null,
   "metadata": {
    "collapsed": false
   },
   "outputs": [],
   "source": [
    "sys.stdout"
   ]
  },
  {
   "cell_type": "code",
   "execution_count": null,
   "metadata": {
    "collapsed": false
   },
   "outputs": [],
   "source": [
    "sys.stdout.write('123')"
   ]
  },
  {
   "cell_type": "code",
   "execution_count": null,
   "metadata": {
    "collapsed": true
   },
   "outputs": [],
   "source": [
    "import logging\n",
    "#logger = logging.getLogger(__name__)"
   ]
  },
  {
   "cell_type": "code",
   "execution_count": null,
   "metadata": {
    "collapsed": false
   },
   "outputs": [],
   "source": [
    "logger.setLevel(logging.DEBUG)\n",
    "logger.debug(\"Testing logging module\")"
   ]
  },
  {
   "cell_type": "code",
   "execution_count": null,
   "metadata": {
    "collapsed": true
   },
   "outputs": [],
   "source": [
    "logging.basicConfig(level=logging.DEBUG)\n",
    "logging.debug(\"This is another test\")"
   ]
  },
  {
   "cell_type": "code",
   "execution_count": null,
   "metadata": {
    "collapsed": false
   },
   "outputs": [],
   "source": [
    "logging.log(logging.DEBUG, \"Another test\")"
   ]
  },
  {
   "cell_type": "code",
   "execution_count": null,
   "metadata": {
    "collapsed": false
   },
   "outputs": [],
   "source": [
    "1,"
   ]
  },
  {
   "cell_type": "code",
   "execution_count": null,
   "metadata": {
    "collapsed": false
   },
   "outputs": [],
   "source": [
    "300/0.2"
   ]
  },
  {
   "cell_type": "code",
   "execution_count": null,
   "metadata": {
    "collapsed": false
   },
   "outputs": [],
   "source": [
    "300//0.34"
   ]
  },
  {
   "cell_type": "code",
   "execution_count": null,
   "metadata": {
    "collapsed": false
   },
   "outputs": [],
   "source": [
    "a = []\n",
    "len(a)"
   ]
  },
  {
   "cell_type": "code",
   "execution_count": null,
   "metadata": {
    "collapsed": false,
    "scrolled": true
   },
   "outputs": [],
   "source": [
    "import time, re\n",
    "f = open('log/log.log')\n",
    "f.seek(0, 2)\n",
    "while True:\n",
    "    time.sleep(1)\n",
    "    where = f.tell()\n",
    "    print(where)\n",
    "    line = f.readline()\n",
    "    if not line:\n",
    "        f.seek(where)\n",
    "        time.sleep(1)\n",
    "    else:\n",
    "        match = re.match('Invalid user\\s(.*)\\sfrom\\s([\\d.]*)', line)\n",
    "        print(match.groups())"
   ]
  },
  {
   "cell_type": "code",
   "execution_count": null,
   "metadata": {
    "collapsed": false,
    "scrolled": true
   },
   "outputs": [],
   "source": [
    "import re, time\n",
    "\n",
    "f = open('log/log.log')\n",
    "\n",
    "def checkInvalidAuthentication(profile, last_pos):    \n",
    "    ret = [];\n",
    "    \n",
    "    if last_pos:\n",
    "        f.seek(last_pos, 0)\n",
    "    else:\n",
    "        f.seek(0, 2)\n",
    "    \n",
    "    while True:\n",
    "        last_pos = f.tell()\n",
    "        line = f.readline()\n",
    "\n",
    "        if not line:\n",
    "            return ret, last_pos\n",
    "        else:\n",
    "            match = re.match('Invalid user\\s(.*)\\sfrom\\s([\\d.]*)', line)\n",
    "            if match:\n",
    "                ret.append( dict( zip( ('user', 'ip'), match.groups() ) ) )\n",
    "    f.close()\n",
    "    \n",
    "    return ret, last_pos\n",
    "            \n",
    "handleAuthLog(0)"
   ]
  },
  {
   "cell_type": "code",
   "execution_count": null,
   "metadata": {
    "collapsed": false
   },
   "outputs": [],
   "source": [
    "handleAuthLog(738)"
   ]
  },
  {
   "cell_type": "code",
   "execution_count": null,
   "metadata": {
    "collapsed": false
   },
   "outputs": [],
   "source": [
    "d = {'ip': '213.96.119.230', 'user': 'guest'}\n",
    "d['ip'], d['user']"
   ]
  },
  {
   "cell_type": "code",
   "execution_count": null,
   "metadata": {
    "collapsed": false
   },
   "outputs": [],
   "source": [
    "import re\n",
    "line = 'Invalid user bread from 123.123.123.123'\n",
    "patterns = ['Failed password for (.*) from\\s([\\d.]*)',\n",
    "           'Invalid user\\s(.*)\\sfrom\\s([\\d.]*)']\n",
    "\n",
    "print [re.match(p, line) for p in patterns]"
   ]
  },
  {
   "cell_type": "code",
   "execution_count": null,
   "metadata": {
    "collapsed": false
   },
   "outputs": [],
   "source": [
    "from datetime import datetime\n",
    "str(datetime.now())"
   ]
  },
  {
   "cell_type": "code",
   "execution_count": null,
   "metadata": {
    "collapsed": false
   },
   "outputs": [],
   "source": [
    "import pylog\n",
    "dir(pylog)"
   ]
  },
  {
   "cell_type": "code",
   "execution_count": null,
   "metadata": {
    "collapsed": false
   },
   "outputs": [],
   "source": [
    "log = pylog.PyLog(create_new=False, filename='log2.log')\n",
    "log.log('test 123')"
   ]
  },
  {
   "cell_type": "code",
   "execution_count": null,
   "metadata": {
    "collapsed": false
   },
   "outputs": [],
   "source": [
    "log.write_on_file()"
   ]
  },
  {
   "cell_type": "code",
   "execution_count": null,
   "metadata": {
    "collapsed": false
   },
   "outputs": [],
   "source": [
    "pylog.log('another test 123')"
   ]
  },
  {
   "cell_type": "code",
   "execution_count": null,
   "metadata": {
    "collapsed": true
   },
   "outputs": [],
   "source": [
    "pylog.write_on_file()"
   ]
  },
  {
   "cell_type": "code",
   "execution_count": null,
   "metadata": {
    "collapsed": true
   },
   "outputs": [],
   "source": [
    "pylog.FILENAME = 'test.log'\n",
    "pylog.set_header(['aaa', 'bbbb'])"
   ]
  },
  {
   "cell_type": "raw",
   "metadata": {},
   "source": [
    "regular expression\n",
    "-----------------------"
   ]
  },
  {
   "cell_type": "code",
   "execution_count": null,
   "metadata": {
    "collapsed": true
   },
   "outputs": [],
   "source": [
    "import re\n",
    "p = '.*Invalid user\\s(.*)\\sfrom\\s([\\d.]*)'"
   ]
  },
  {
   "cell_type": "code",
   "execution_count": null,
   "metadata": {
    "collapsed": false
   },
   "outputs": [],
   "source": [
    "match = re.match(p, 'Jan 29 16:27:25 raspi sshd[18164]: Invalid user superadmin from 185.106.92.118')\n",
    "match.groups()"
   ]
  },
  {
   "cell_type": "code",
   "execution_count": null,
   "metadata": {
    "collapsed": false,
    "scrolled": false
   },
   "outputs": [],
   "source": [
    "bool(re.search(r'\\b(news|headline)\\b', \"NEWS\", re.IGNORECASE))"
   ]
  },
  {
   "cell_type": "code",
   "execution_count": null,
   "metadata": {
    "collapsed": true
   },
   "outputs": [],
   "source": []
  },
  {
   "cell_type": "raw",
   "metadata": {},
   "source": [
    "Testing pkgutil\n",
    "-------------------"
   ]
  },
  {
   "cell_type": "code",
   "execution_count": null,
   "metadata": {
    "collapsed": false
   },
   "outputs": [],
   "source": [
    "import pkgutil\n",
    "loader = pkgutil.get_loader('psutil')\n",
    "type(loader)"
   ]
  },
  {
   "cell_type": "code",
   "execution_count": null,
   "metadata": {
    "collapsed": false
   },
   "outputs": [],
   "source": [
    "loader.get_filename()"
   ]
  },
  {
   "cell_type": "code",
   "execution_count": null,
   "metadata": {
    "collapsed": false
   },
   "outputs": [],
   "source": [
    "import datetime\n",
    "d = datetime.datetime.strptime('2016-01-17 19:12:05.658471', '%Y-%m-%d %H:%M:%S.%f')\n",
    "print type(d)\n",
    "#print type(datetime.datetime.now())"
   ]
  },
  {
   "cell_type": "code",
   "execution_count": null,
   "metadata": {
    "collapsed": true
   },
   "outputs": [],
   "source": [
    "# -----------------------------------------------------------\n",
    "\n",
    "\n",
    "import sys\n",
    "if sys.version[0] == '2': input = raw_input\n",
    "\n",
    "#fast a = [int(v) for v in input().strip().split(' ')]\n",
    "#fast b = [int(v) for v in input().strip().split(' ')]\n",
    "a = input().strip().split(' ')\n",
    "a = list(map(int, a))\n",
    "b = input().strip().split(' ')\n",
    "b = list(map(int, b))\n",
    "print(a, b)\n",
    "\n",
    "t = zip(a, b)\n",
    "print(t)\n",
    "\n",
    "score = [0,0]\n",
    "\n",
    "for a,b in t:\n",
    "    print(a, b)\n",
    "    if a > b:\n",
    "        score[0] = score[0] + 1\n",
    "    if b > a:\n",
    "        score[1] = score[1] + 1\n",
    "        \n",
    "print( score )"
   ]
  },
  {
   "cell_type": "code",
   "execution_count": null,
   "metadata": {
    "collapsed": false
   },
   "outputs": [],
   "source": [
    "import dateutil.parser\n",
    "import datetime\n",
    "\n",
    "#datetime.datetime.now()\n",
    "now = dateutil.parser.parse(\"Sat Oct 11 17:13:46 +0900 2003\")\n",
    "now.strftime('%Y-%m-%dT%H:%M:%S.%f%z')"
   ]
  },
  {
   "cell_type": "code",
   "execution_count": null,
   "metadata": {
    "collapsed": false
   },
   "outputs": [],
   "source": [
    "a = 'abcde'\n",
    "a[2:]"
   ]
  },
  {
   "cell_type": "code",
   "execution_count": null,
   "metadata": {
    "collapsed": false
   },
   "outputs": [],
   "source": [
    "a = [1,2,3]\n",
    "1 in a"
   ]
  },
  {
   "cell_type": "code",
   "execution_count": null,
   "metadata": {
    "collapsed": false
   },
   "outputs": [],
   "source": [
    "5 in a"
   ]
  },
  {
   "cell_type": "code",
   "execution_count": null,
   "metadata": {
    "collapsed": false
   },
   "outputs": [],
   "source": [
    "'abc'.length"
   ]
  },
  {
   "cell_type": "code",
   "execution_count": null,
   "metadata": {
    "collapsed": false
   },
   "outputs": [],
   "source": [
    "def getAnagramIndices(haystack, needle):\n",
    "    # WRITE YOUR CODE HERE\n",
    "    output = []\n",
    "    findAnagram(haystack, needle, 0, output)\n",
    "\n",
    "    return output\n",
    "\n",
    "def findAnagram(haystack, needle, start_idx, output):\n",
    "    temp_needle = needle\n",
    "    print('start idx %s' % start_idx)\n",
    "    for i in range(start_idx, len(haystack)):\n",
    "        print('idx:' + str(i))\n",
    "        print(temp_needle)\n",
    "        \n",
    "        if haystack[i] in temp_needle:\n",
    "            print('found:' + haystack[i])\n",
    "            temp_needle = temp_needle.replace(haystack[i], \"\")\n",
    "        else:\n",
    "            if i == start_idx: \n",
    "                nextid = i + 1\n",
    "            else: nextid = i\n",
    "            return findAnagram(haystack, needle, nextid, output)\n",
    "        \n",
    "        if len(temp_needle) == 0:\n",
    "            print('call new start idx %s' % (start_idx+1))\n",
    "            output.append(start_idx)\n",
    "            return findAnagram(haystack, needle, start_idx+1, output)"
   ]
  },
  {
   "cell_type": "code",
   "execution_count": null,
   "metadata": {
    "collapsed": false
   },
   "outputs": [],
   "source": [
    "getAnagramIndices('baab', 'ab')"
   ]
  },
  {
   "cell_type": "code",
   "execution_count": null,
   "metadata": {
    "collapsed": false
   },
   "outputs": [],
   "source": [
    "# RETURN \"None\" IF THERE IS NO CLOSEST COMMON MANAGER \n",
    "# OR THE GIVEN EMPLOYEES ARE NOT THE PART OF THE COMPANY\n",
    "class Employee:\n",
    "    \n",
    "    r_id = None\n",
    "    name = None\n",
    "    reporters = []\n",
    "    \n",
    "    def __init__(self, r_id, name, reporters):\n",
    "        self.r_id = r_id\n",
    "        self.name = name\n",
    "        self.reporters = reporters\n",
    "        \n",
    "    def get_id(self):\n",
    "        return self.r_id\n",
    "    \n",
    "    def get_name(self):\n",
    "        return self.name\n",
    "    \n",
    "    def get_reports(self):\n",
    "        return self.reporters\n",
    "    \n",
    "def closestCommonManager(ceo, employee1, employee2):\n",
    "    m1 = findClosestManager(ceo, employee1)\n",
    "    m2 = findClosestManager(ceo, employee2)\n",
    "    \n",
    "    # THE GIVEN EMPLOYEES ARE NOT THE PART OF THE COMPANY\n",
    "    if m1 == None or m2 == None: return None\n",
    "    \n",
    "    if m1 == m2:  # employee1's manager is equal to employee2's manager\n",
    "        return m1\n",
    "    elif m1 == employee2:  # employee2 is equal to employee1's manager\n",
    "        return m1\n",
    "    elif m2 == employee1:  # employee1 is equal to employee2's manager\n",
    "        return m2\n",
    "    \n",
    "    if ceo != m1:\n",
    "        # traverse the tree along employee1's path\n",
    "        _m = closestCommonManager(ceo, m1, employee2)\n",
    "        if _m == None and ceo != m2:\n",
    "            # traverse the tree along employee2's path\n",
    "            _m = closestCommonManager(ceo, employee1, m2)\n",
    "            \n",
    "        if _m != None: return _m\n",
    "        \n",
    "    # traverse the tree using employee1's path and employee2'\n",
    "    return closestCommonManager(ceo, m1, m2)\n",
    "\n",
    "\n",
    "def findClosestManager(root, employee):\n",
    "    if root == employee or employee in root.get_reports():\n",
    "        return root\n",
    "    \n",
    "    for p in root.get_reports():\n",
    "        _manager = findClosestManager(p, employee)\n",
    "        if _manager != None: return _manager\n",
    "        \n",
    "    return None;"
   ]
  },
  {
   "cell_type": "code",
   "execution_count": null,
   "metadata": {
    "collapsed": false
   },
   "outputs": [],
   "source": [
    "luca = r6 = Employee(6, 'Luca', [])\n",
    "dario = r4 = Employee(4, 'Dario', [])\n",
    "pietro = Employee(9, 'Pietro', [])\n",
    "giulia = Employee(8, 'Giulia', [pietro])\n",
    "charlie = r5 = Employee(5, 'Charlie', [giulia])\n",
    "verdi = r3 = Employee(3, 'Verdi', [dario, charlie])\n",
    "rossi = r2 = Employee(2, 'Rossi', [luca])\n",
    "ceo = marco = r1 = Employee(1, 'Marco', [rossi, verdi])\n",
    "giuseppe = r7 = Employee(7, 'Giuseppe', [])\n"
   ]
  },
  {
   "cell_type": "code",
   "execution_count": null,
   "metadata": {
    "collapsed": false
   },
   "outputs": [],
   "source": [
    "p = findClosestManager(ceo, charlie)\n",
    "print(p.get_name())"
   ]
  },
  {
   "cell_type": "code",
   "execution_count": null,
   "metadata": {
    "collapsed": false
   },
   "outputs": [],
   "source": [
    "p = findClosestManager(ceo, luca)\n",
    "print(p.get_name())"
   ]
  },
  {
   "cell_type": "code",
   "execution_count": null,
   "metadata": {
    "collapsed": false
   },
   "outputs": [],
   "source": [
    "p = findClosestManager(ceo, rossi)\n",
    "print(p.get_name())"
   ]
  },
  {
   "cell_type": "code",
   "execution_count": null,
   "metadata": {
    "collapsed": false
   },
   "outputs": [],
   "source": [
    "p = findClosestManager(ceo, giuseppe)\n",
    "print(p)"
   ]
  },
  {
   "cell_type": "code",
   "execution_count": null,
   "metadata": {
    "collapsed": false
   },
   "outputs": [],
   "source": [
    "p = closestCommonManager(ceo, charlie, luca)\n",
    "print(p.get_name())"
   ]
  },
  {
   "cell_type": "code",
   "execution_count": null,
   "metadata": {
    "collapsed": false
   },
   "outputs": [],
   "source": [
    "p = findClosestManager(ceo, r1)\n",
    "print(p.get_name())"
   ]
  },
  {
   "cell_type": "code",
   "execution_count": null,
   "metadata": {
    "collapsed": false
   },
   "outputs": [],
   "source": [
    "p = closestCommonManager(ceo, pietro, luca)\n",
    "print(p.get_name())"
   ]
  },
  {
   "cell_type": "code",
   "execution_count": null,
   "metadata": {
    "collapsed": false
   },
   "outputs": [],
   "source": [
    "p = closestCommonManager(ceo, pietro, charlie)\n",
    "print(p.get_name())"
   ]
  },
  {
   "cell_type": "code",
   "execution_count": null,
   "metadata": {
    "collapsed": false
   },
   "outputs": [],
   "source": [
    "p = closestCommonManager(ceo, pietro, giulia)\n",
    "print(p.get_name())"
   ]
  },
  {
   "cell_type": "code",
   "execution_count": null,
   "metadata": {
    "collapsed": false
   },
   "outputs": [],
   "source": [
    "p = closestCommonManager(ceo, pietro, giuseppe)\n",
    "print(p)"
   ]
  },
  {
   "cell_type": "code",
   "execution_count": null,
   "metadata": {
    "collapsed": false
   },
   "outputs": [],
   "source": [
    "100 / 3"
   ]
  },
  {
   "cell_type": "code",
   "execution_count": null,
   "metadata": {
    "collapsed": false,
    "scrolled": true
   },
   "outputs": [],
   "source": [
    "f = open('data/data.txt')  # python 3\n",
    "help(f)"
   ]
  },
  {
   "cell_type": "code",
   "execution_count": null,
   "metadata": {
    "collapsed": false,
    "scrolled": false
   },
   "outputs": [],
   "source": [
    "f = open('data/data.txt')  # python 2\n",
    "help(f)"
   ]
  },
  {
   "cell_type": "code",
   "execution_count": null,
   "metadata": {
    "collapsed": false
   },
   "outputs": [],
   "source": [
    "d1 = {'a': 1, 'b': 2}\n",
    "d2 = {'a': 1, 'b': 2}\n",
    "d1 == d2"
   ]
  },
  {
   "cell_type": "code",
   "execution_count": null,
   "metadata": {
    "collapsed": false,
    "scrolled": true
   },
   "outputs": [],
   "source": [
    "d1 < d2 # not supported by Python 3"
   ]
  },
  {
   "cell_type": "code",
   "execution_count": null,
   "metadata": {
    "collapsed": false
   },
   "outputs": [],
   "source": [
    "bool(''), bool(' ')"
   ]
  },
  {
   "cell_type": "code",
   "execution_count": null,
   "metadata": {
    "collapsed": false
   },
   "outputs": [],
   "source": [
    "type(dict)"
   ]
  },
  {
   "cell_type": "code",
   "execution_count": null,
   "metadata": {
    "collapsed": false
   },
   "outputs": [],
   "source": [
    "type([1]) == type([])"
   ]
  },
  {
   "cell_type": "code",
   "execution_count": null,
   "metadata": {
    "collapsed": false
   },
   "outputs": [],
   "source": [
    "type([]) == list"
   ]
  },
  {
   "cell_type": "code",
   "execution_count": null,
   "metadata": {
    "collapsed": false
   },
   "outputs": [],
   "source": [
    "isinstance([], list)"
   ]
  },
  {
   "cell_type": "code",
   "execution_count": null,
   "metadata": {
    "collapsed": false
   },
   "outputs": [],
   "source": [
    "import types\n",
    "def f(): pass\n",
    "type(f) == types.FunctionType"
   ]
  },
  {
   "cell_type": "code",
   "execution_count": null,
   "metadata": {
    "collapsed": false
   },
   "outputs": [],
   "source": [
    "2 ** 16"
   ]
  },
  {
   "cell_type": "code",
   "execution_count": null,
   "metadata": {
    "collapsed": false
   },
   "outputs": [],
   "source": [
    "2/5, 2/5.0"
   ]
  },
  {
   "cell_type": "code",
   "execution_count": null,
   "metadata": {
    "collapsed": false
   },
   "outputs": [],
   "source": [
    "2//5"
   ]
  },
  {
   "cell_type": "code",
   "execution_count": null,
   "metadata": {
    "collapsed": false
   },
   "outputs": [],
   "source": [
    "\"spam\" + \"egg\""
   ]
  },
  {
   "cell_type": "code",
   "execution_count": null,
   "metadata": {
    "collapsed": false
   },
   "outputs": [],
   "source": [
    "S = \"ham\"\n",
    "\"eggs \" + S\n",
    "S * 5"
   ]
  },
  {
   "cell_type": "code",
   "execution_count": null,
   "metadata": {
    "collapsed": false
   },
   "outputs": [],
   "source": [
    "S[:0]"
   ]
  },
  {
   "cell_type": "code",
   "execution_count": null,
   "metadata": {
    "collapsed": false
   },
   "outputs": [],
   "source": [
    "\"green %s and %s\" % (\"eggs\", S)"
   ]
  },
  {
   "cell_type": "code",
   "execution_count": null,
   "metadata": {
    "collapsed": false
   },
   "outputs": [],
   "source": [
    "('x',)[0]"
   ]
  },
  {
   "cell_type": "code",
   "execution_count": null,
   "metadata": {
    "collapsed": false
   },
   "outputs": [],
   "source": [
    "('x', 'y')[1]"
   ]
  },
  {
   "cell_type": "code",
   "execution_count": null,
   "metadata": {
    "collapsed": false
   },
   "outputs": [],
   "source": [
    "L = [1,2,3] + [4,5,6]\n",
    "L, L[:], L[:0], L[-2], L[-2:]"
   ]
  },
  {
   "cell_type": "code",
   "execution_count": null,
   "metadata": {
    "collapsed": false
   },
   "outputs": [],
   "source": [
    "([1,2,3] + [4,5,6])[2:4]"
   ]
  },
  {
   "cell_type": "code",
   "execution_count": null,
   "metadata": {
    "collapsed": false
   },
   "outputs": [],
   "source": [
    "[L[2], L[3]]"
   ]
  },
  {
   "cell_type": "code",
   "execution_count": null,
   "metadata": {
    "collapsed": false
   },
   "outputs": [],
   "source": [
    "L.reverse();L"
   ]
  },
  {
   "cell_type": "code",
   "execution_count": null,
   "metadata": {
    "collapsed": false
   },
   "outputs": [],
   "source": [
    "L.sort(); L"
   ]
  },
  {
   "cell_type": "code",
   "execution_count": null,
   "metadata": {
    "collapsed": false
   },
   "outputs": [],
   "source": [
    "L.index(4)"
   ]
  },
  {
   "cell_type": "code",
   "execution_count": null,
   "metadata": {
    "collapsed": false
   },
   "outputs": [],
   "source": [
    "{'a':1, 'b':2}['b']"
   ]
  },
  {
   "cell_type": "code",
   "execution_count": null,
   "metadata": {
    "collapsed": false
   },
   "outputs": [],
   "source": [
    "D = {'x':1, 'y':2, 'z':3}\n",
    "D['w'] = 0\n",
    "D['x'] + D['w']"
   ]
  },
  {
   "cell_type": "code",
   "execution_count": null,
   "metadata": {
    "collapsed": false
   },
   "outputs": [],
   "source": [
    "D[(1,2,3)] = 4; D"
   ]
  },
  {
   "cell_type": "code",
   "execution_count": null,
   "metadata": {
    "collapsed": false
   },
   "outputs": [],
   "source": [
    "list(D.keys()), list(D.values()), (1,2,3) in D"
   ]
  },
  {
   "cell_type": "code",
   "execution_count": null,
   "metadata": {
    "collapsed": false
   },
   "outputs": [],
   "source": [
    "M = map(lambda x: 2 ** x, range(3))\n",
    "for i in M: print(i)"
   ]
  },
  {
   "cell_type": "code",
   "execution_count": null,
   "metadata": {
    "collapsed": true
   },
   "outputs": [],
   "source": [
    "for i in M: print(i) # one pass only"
   ]
  },
  {
   "cell_type": "code",
   "execution_count": null,
   "metadata": {
    "collapsed": false
   },
   "outputs": [],
   "source": [
    "a = None or '1'\n",
    "a"
   ]
  },
  {
   "cell_type": "code",
   "execution_count": null,
   "metadata": {
    "collapsed": true
   },
   "outputs": [],
   "source": [
    "a = None or None"
   ]
  },
  {
   "cell_type": "code",
   "execution_count": null,
   "metadata": {
    "collapsed": false
   },
   "outputs": [],
   "source": [
    "list(range(5, -1, -1))"
   ]
  },
  {
   "cell_type": "code",
   "execution_count": null,
   "metadata": {
    "collapsed": false
   },
   "outputs": [],
   "source": [
    "a = { \"a\": 1, \"b\": 2 }\n",
    "b = { \"c\": 3 }\n",
    "a.update(b)\n",
    "a"
   ]
  },
  {
   "cell_type": "code",
   "execution_count": null,
   "metadata": {
    "collapsed": false
   },
   "outputs": [],
   "source": [
    "S = {}\n",
    "{d for d in [1, 2, 1, 1, 1]}"
   ]
  },
  {
   "cell_type": "code",
   "execution_count": null,
   "metadata": {
    "collapsed": false
   },
   "outputs": [],
   "source": [
    "import sys\n",
    "sys.__stdout__"
   ]
  },
  {
   "cell_type": "code",
   "execution_count": null,
   "metadata": {
    "collapsed": false
   },
   "outputs": [],
   "source": [
    "print >> sys.__stdout__, \"Ciao!\""
   ]
  },
  {
   "cell_type": "code",
   "execution_count": null,
   "metadata": {
    "collapsed": false
   },
   "outputs": [],
   "source": [
    "D = { 'a': 1, 'b': 2 }\n",
    "help(D.keys)"
   ]
  },
  {
   "cell_type": "code",
   "execution_count": null,
   "metadata": {
    "collapsed": false
   },
   "outputs": [],
   "source": [
    "for d in D.keys():\n",
    "    print(d)"
   ]
  },
  {
   "cell_type": "code",
   "execution_count": null,
   "metadata": {
    "collapsed": false
   },
   "outputs": [],
   "source": [
    "S = 'asd'\n",
    "for s in S:\n",
    "    print(ord(s))"
   ]
  },
  {
   "cell_type": "code",
   "execution_count": null,
   "metadata": {
    "collapsed": false
   },
   "outputs": [],
   "source": [
    "for s in [ord(s) for s in S]:\n",
    "    print(s)"
   ]
  },
  {
   "cell_type": "code",
   "execution_count": null,
   "metadata": {
    "collapsed": false
   },
   "outputs": [],
   "source": [
    "list(map(ord, S))"
   ]
  },
  {
   "cell_type": "code",
   "execution_count": null,
   "metadata": {
    "collapsed": false
   },
   "outputs": [],
   "source": [
    "[ord(s) for s in S]"
   ]
  },
  {
   "cell_type": "code",
   "execution_count": null,
   "metadata": {
    "collapsed": false
   },
   "outputs": [],
   "source": [
    "sum = 0\n",
    "for s in S:\n",
    "    sum+= ord(s)\n",
    "sum"
   ]
  },
  {
   "cell_type": "code",
   "execution_count": null,
   "metadata": {
    "collapsed": false
   },
   "outputs": [],
   "source": [
    "for i in range(10):\n",
    "    print('hello %d\\n\\a' % i)"
   ]
  },
  {
   "cell_type": "code",
   "execution_count": null,
   "metadata": {
    "collapsed": false
   },
   "outputs": [],
   "source": [
    "D = { 'g': 2, 'v': 3, 'b': 1, 'a': 4 }\n",
    "K = list(D.keys())\n",
    "K.sort()\n",
    "for k in K:\n",
    "    print(k)"
   ]
  },
  {
   "cell_type": "code",
   "execution_count": null,
   "metadata": {
    "collapsed": false
   },
   "outputs": [],
   "source": [
    "D = { 'g': 2, 'v': 3, 'b': 1, 'a': 4 }\n",
    "K = D.keys()\n",
    "for k in sorted(K):\n",
    "    print(k)"
   ]
  },
  {
   "cell_type": "code",
   "execution_count": 12,
   "metadata": {
    "collapsed": false
   },
   "outputs": [
    {
     "name": "stdout",
     "output_type": "stream",
     "text": [
      "at index 5\n"
     ]
    }
   ],
   "source": [
    "L = [1, 2, 4, 8, 16, 32, 64]\n",
    "X = 5\n",
    "\n",
    "i=0\n",
    "while i<len(L):\n",
    "    if 2 ** X == L[i]:\n",
    "        print('at index', i)\n",
    "        break\n",
    "    i = i+1\n",
    "else:\n",
    "    print(X, 'not found')\n",
    "    "
   ]
  },
  {
   "cell_type": "code",
   "execution_count": 16,
   "metadata": {
    "collapsed": false
   },
   "outputs": [
    {
     "name": "stdout",
     "output_type": "stream",
     "text": [
      "at index 5\n"
     ]
    }
   ],
   "source": [
    "L = [1, 2, 4, 8, 16, 32, 64]\n",
    "X = 5\n",
    "\n",
    "for l in L:\n",
    "    if 2 ** X == l:\n",
    "        print('at index', L.index(l))\n",
    "        break\n",
    "else:\n",
    "    print(X, 'not found')"
   ]
  },
  {
   "cell_type": "code",
   "execution_count": 19,
   "metadata": {
    "collapsed": false
   },
   "outputs": [
    {
     "name": "stdout",
     "output_type": "stream",
     "text": [
      "at index 5\n"
     ]
    }
   ],
   "source": [
    "X = 5\n",
    "if 2 ** X in L:\n",
    "    print('at index', L.index(l))\n",
    "else:\n",
    "    print(X, 'not found')"
   ]
  },
  {
   "cell_type": "code",
   "execution_count": 21,
   "metadata": {
    "collapsed": false
   },
   "outputs": [
    {
     "data": {
      "text/plain": [
       "[1, 2, 4, 8, 16, 32, 64]"
      ]
     },
     "execution_count": 21,
     "metadata": {},
     "output_type": "execute_result"
    }
   ],
   "source": [
    "list(map(lambda x: 2 ** x, range(7)))"
   ]
  },
  {
   "cell_type": "code",
   "execution_count": 23,
   "metadata": {
    "collapsed": false
   },
   "outputs": [
    {
     "data": {
      "text/plain": [
       "[1, 2, 4, 8, 16, 32, 64]"
      ]
     },
     "execution_count": 23,
     "metadata": {},
     "output_type": "execute_result"
    }
   ],
   "source": [
    "L = []\n",
    "for i in range(7):\n",
    "    L.append(2 ** i)\n",
    "L"
   ]
  },
  {
   "cell_type": "code",
   "execution_count": 2,
   "metadata": {
    "collapsed": false
   },
   "outputs": [
    {
     "name": "stdout",
     "output_type": "stream",
     "text": [
      "88\n"
     ]
    }
   ],
   "source": [
    "x = 99\n",
    "def f1():\n",
    "    x = 88\n",
    "    def f2():\n",
    "        print x\n",
    "    f2()\n",
    "f1()"
   ]
  },
  {
   "cell_type": "markdown",
   "metadata": {},
   "source": [
    "### State with Function Attributes"
   ]
  },
  {
   "cell_type": "code",
   "execution_count": 2,
   "metadata": {
    "collapsed": false
   },
   "outputs": [
    {
     "name": "stdout",
     "output_type": "stream",
     "text": [
      "a 0\n",
      "b 1\n",
      "c 10\n",
      "d 2\n"
     ]
    }
   ],
   "source": [
    "def tester(start):\n",
    "    def nested(label):\n",
    "        print(label, nested.state)\n",
    "        nested.state += 1\n",
    "    nested.state = start\n",
    "    return nested\n",
    "\n",
    "G = tester(0)\n",
    "G('a')\n",
    "G('b')\n",
    "H = tester(10)\n",
    "H('c')\n",
    "G('d')"
   ]
  },
  {
   "cell_type": "code",
   "execution_count": 10,
   "metadata": {
    "collapsed": false
   },
   "outputs": [
    {
     "data": {
      "text/plain": [
       "[1, 2, 4, 5, 8, 10, 20]"
      ]
     },
     "execution_count": 10,
     "metadata": {},
     "output_type": "execute_result"
    }
   ],
   "source": [
    "[d for d in range(1, 39) if 40 % d == 0]"
   ]
  },
  {
   "cell_type": "code",
   "execution_count": 13,
   "metadata": {
    "collapsed": false
   },
   "outputs": [
    {
     "data": {
      "text/plain": [
       "'2017-07-22T10:39:34.373563'"
      ]
     },
     "execution_count": 13,
     "metadata": {},
     "output_type": "execute_result"
    }
   ],
   "source": [
    "from datetime import datetime\n",
    "D = datetime.now()\n",
    "D.strftime('%Y-%m-%dT%H:%M:%S.%f%z')"
   ]
  },
  {
   "cell_type": "code",
   "execution_count": 1,
   "metadata": {
    "collapsed": false
   },
   "outputs": [
    {
     "data": {
      "text/plain": [
       "'{\"_index\":\"aws-vault\",\"_type\":\"archive\",\"_id\":\"AV1oA3nGh8rNJLruXh_H\",\"_version\":1,\"_shards\":{\"total\":2,\"successful\":1,\"failed\":0},\"created\":true}'"
      ]
     },
     "execution_count": 1,
     "metadata": {},
     "output_type": "execute_result"
    }
   ],
   "source": [
    "import aws_multi_upload\n",
    "\n",
    "aws_multi_upload._import_to_es('''{\n",
    "    \"archiveId\": \"bbqX3V0T4qnKaioKRfl1FEWZ8lRfJfP4H5MM9lrw0Ggohil_hzT7-pB3yJxs3_ZgIyd3kP7Pzo7v_HMVcgLFd7srOy70zoytEr_PHk0kdxPVKYSI-uvk4sr5d0Ae8zLUWrZoQRywfg\",\n",
    "    \"checksum\": \"23e1a8c4abad02143a5276a92a5cd77f67f21507764b4da959d4097b1504cde2\",\n",
    "    \"location\": \"/604648603747/vaults/raspi/archives/bbqX3V0T4qnKaioKRfl1FEWZ8lRfJfP4H5MM9lrw0Ggohil_hzT7-pB3yJxs3_ZgIyd3kP7Pzo7v_HMVcgLFd7srOy$0zoytEr_PHk0kdxPVKYSI-uvk4sr5d0Ae8zLUWrZoQRywfg\"\n",
    "}''')"
   ]
  },
  {
   "cell_type": "code",
   "execution_count": 3,
   "metadata": {
    "collapsed": false
   },
   "outputs": [
    {
     "data": {
      "text/plain": [
       "'04'"
      ]
     },
     "execution_count": 3,
     "metadata": {},
     "output_type": "execute_result"
    }
   ],
   "source": [
    "'%02d' % 4"
   ]
  },
  {
   "cell_type": "code",
   "execution_count": null,
   "metadata": {
    "collapsed": true
   },
   "outputs": [],
   "source": []
  }
 ],
 "metadata": {
  "kernelspec": {
   "display_name": "Python 3",
   "language": "python",
   "name": "python3"
  },
  "language_info": {
   "codemirror_mode": {
    "name": "ipython",
    "version": 3
   },
   "file_extension": ".py",
   "mimetype": "text/x-python",
   "name": "python",
   "nbconvert_exporter": "python",
   "pygments_lexer": "ipython3",
   "version": "3.4.2"
  }
 },
 "nbformat": 4,
 "nbformat_minor": 0
}
