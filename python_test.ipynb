{
 "cells": [
  {
   "cell_type": "code",
   "execution_count": 1,
   "metadata": {
    "collapsed": false
   },
   "outputs": [
    {
     "data": {
      "text/plain": [
       "[0, 0, 0, 0, 0, 0, 0, 0, 0, 0]"
      ]
     },
     "execution_count": 1,
     "metadata": {},
     "output_type": "execute_result"
    }
   ],
   "source": [
    "N = [0 for r in range(10)]\n",
    "N"
   ]
  },
  {
   "cell_type": "code",
   "execution_count": 2,
   "metadata": {
    "collapsed": false
   },
   "outputs": [
    {
     "data": {
      "text/plain": [
       "[None, None, None, None, None, None, None, None, None, None]"
      ]
     },
     "execution_count": 2,
     "metadata": {},
     "output_type": "execute_result"
    }
   ],
   "source": [
    "N = [None for r in range(10)]\n",
    "N"
   ]
  },
  {
   "cell_type": "code",
   "execution_count": 42,
   "metadata": {
    "collapsed": false
   },
   "outputs": [
    {
     "name": "stdout",
     "output_type": "stream",
     "text": [
      "4 6 8 10 10 \n",
      "4 6 8 8 10 \n",
      "4 6 6 8 10 \n",
      "4 5 6 8 10 \n"
     ]
    }
   ],
   "source": [
    "s = 5\n",
    "ar = '4 6 8 10 5'\n",
    "ar = [int(v) for v in ar.split()]\n",
    "v = ar[len(ar)-1]\n",
    "\n",
    "def printAr():\n",
    "    for r in ar: print(r),\n",
    "    print('')\n",
    "\n",
    "for i in range(len(ar)-2, -1, -1):\n",
    "    if ar[i] <= v:\n",
    "        ar[i+1] = v\n",
    "        printAr()\n",
    "        break\n",
    "        \n",
    "    if ar[i] > v:\n",
    "        ar[i+1] = ar[i]\n",
    "        \n",
    "    printAr()"
   ]
  },
  {
   "cell_type": "code",
   "execution_count": 39,
   "metadata": {
    "collapsed": false,
    "scrolled": true
   },
   "outputs": [
    {
     "data": {
      "text/plain": [
       "[1, 2, 3, 4, 10]"
      ]
     },
     "execution_count": 39,
     "metadata": {},
     "output_type": "execute_result"
    }
   ],
   "source": [
    "N = [1, 2, 3, 4]\n",
    "N[5:6] = [10]\n",
    "N"
   ]
  },
  {
   "cell_type": "raw",
   "metadata": {},
   "source": [
    "Insertion Sort\n",
    "--------------------------------"
   ]
  },
  {
   "cell_type": "code",
   "execution_count": 23,
   "metadata": {
    "collapsed": false
   },
   "outputs": [
    {
     "data": {
      "text/plain": [
       "[1, 2.5, 3, 3, 7]"
      ]
     },
     "execution_count": 23,
     "metadata": {},
     "output_type": "execute_result"
    }
   ],
   "source": [
    "def sort(ar):\n",
    "    v = ar[-1]\n",
    "    \n",
    "    for i in range(len(ar)-2, -1, -1):\n",
    "        if ar[i] <= v:\n",
    "            ar[i+1] = v\n",
    "\n",
    "        if ar[i] > v:\n",
    "            ar[i+1] = ar[i]\n",
    "\n",
    "        if ar[i] <= v:\n",
    "            break\n",
    "\n",
    "    if ar[0] > v:\n",
    "        ar[0] = v\n",
    "        \n",
    "    return ar\n",
    "\n",
    "sort([1,3,3,7,2.5])"
   ]
  },
  {
   "cell_type": "code",
   "execution_count": 54,
   "metadata": {
    "collapsed": false,
    "scrolled": false
   },
   "outputs": [
    {
     "data": {
      "text/plain": [
       "[1]"
      ]
     },
     "execution_count": 54,
     "metadata": {},
     "output_type": "execute_result"
    }
   ],
   "source": [
    "N = [1, 2, 3]\n",
    "N[0:1]"
   ]
  },
  {
   "cell_type": "code",
   "execution_count": null,
   "metadata": {
    "collapsed": true
   },
   "outputs": [],
   "source": []
  },
  {
   "cell_type": "code",
   "execution_count": 21,
   "metadata": {
    "collapsed": true
   },
   "outputs": [],
   "source": [
    "def printAr(ar):\n",
    "    # print array as space separated string value\n",
    "    print(\" \".join(map(str,ar)))"
   ]
  },
  {
   "cell_type": "code",
   "execution_count": 29,
   "metadata": {
    "collapsed": false,
    "scrolled": false
   },
   "outputs": [
    {
     "name": "stdout",
     "output_type": "stream",
     "text": [
      "2 4 3 6 5 1\n",
      "2 3 4 6 5 1\n",
      "2 3 4 6 5 1\n",
      "2 3 4 5 6 1\n",
      "1 2 3 4 5 6\n"
     ]
    }
   ],
   "source": [
    "N = [2, 4, 3, 6, 5, 1]\n",
    "for i in range(1, len(N)):\n",
    "    N = sort(N[:i+1]) + N[i+1:]\n",
    "    printAr(N)"
   ]
  },
  {
   "cell_type": "raw",
   "metadata": {},
   "source": [
    "Correctness and the Loop Invariant\n",
    "-------------------------------------"
   ]
  },
  {
   "cell_type": "code",
   "execution_count": 69,
   "metadata": {
    "collapsed": false
   },
   "outputs": [],
   "source": [
    "# input compatibility statement\n",
    "import sys\n",
    "if sys.version[0] == '2': input = raw_input # for compatibility with 2.X"
   ]
  },
  {
   "cell_type": "code",
   "execution_count": 72,
   "metadata": {
    "collapsed": false
   },
   "outputs": [
    {
     "name": "stdout",
     "output_type": "stream",
     "text": [
      "5\n",
      "5 6 3 2 1\n",
      "1 2 3 5 6\n"
     ]
    }
   ],
   "source": [
    "def insertion_sort(l):\n",
    "    for i in range(1, len(l)):\n",
    "        j = i-1\n",
    "        key = l[i]\n",
    "        while (j >= 0) and (l[j] > key):\n",
    "           l[j+1] = l[j]\n",
    "           j -= 1\n",
    "        l[j+1] = key\n",
    "\n",
    "\n",
    "#m = int(input().strip())\n",
    "#ar = [int(i) for i in input().strip().split()]\n",
    "m = int(input().strip())\n",
    "vals = input().strip().split()\n",
    "ar = [int(i) for i in vals]\n",
    "insertion_sort(ar)\n",
    "print(\" \".join(map(str,ar)))"
   ]
  },
  {
   "cell_type": "raw",
   "metadata": {},
   "source": [
    "Quick Sort\n",
    "----------------------------------"
   ]
  },
  {
   "cell_type": "code",
   "execution_count": 75,
   "metadata": {
    "collapsed": false
   },
   "outputs": [
    {
     "data": {
      "text/plain": [
       "[2, 3, 4]"
      ]
     },
     "execution_count": 75,
     "metadata": {},
     "output_type": "execute_result"
    }
   ],
   "source": [
    "N = [3, 4]\n",
    "N.insert(0, 2)\n",
    "N"
   ]
  },
  {
   "cell_type": "code",
   "execution_count": 77,
   "metadata": {
    "collapsed": false
   },
   "outputs": [
    {
     "data": {
      "text/plain": [
       "[1, 2, 3, 4]"
      ]
     },
     "execution_count": 77,
     "metadata": {},
     "output_type": "execute_result"
    }
   ],
   "source": [
    "N[0:0] = [1]; N"
   ]
  },
  {
   "cell_type": "code",
   "execution_count": 92,
   "metadata": {
    "collapsed": false
   },
   "outputs": [
    {
     "data": {
      "text/plain": [
       "4"
      ]
     },
     "execution_count": 92,
     "metadata": {},
     "output_type": "execute_result"
    }
   ],
   "source": [
    "N[-1]"
   ]
  },
  {
   "cell_type": "code",
   "execution_count": 79,
   "metadata": {
    "collapsed": false
   },
   "outputs": [
    {
     "name": "stdout",
     "output_type": "stream",
     "text": [
      "5\n",
      "5 3 7 1 2\n",
      "2 1 3 5 7\n"
     ]
    }
   ],
   "source": [
    "#!/bin/python\n",
    "def partition(ar):\n",
    "    key = ar[0]\n",
    "    \n",
    "    ret = [key]\n",
    "    \n",
    "    for i in range(1, len(ar)):\n",
    "        if ar[i] > key:\n",
    "            ret.append(ar[i])\n",
    "        else:\n",
    "            ret.insert(0, ar[i])\n",
    "    \n",
    "    return ret\n",
    "\n",
    "m = input()\n",
    "ar = [int(i) for i in raw_input().strip().split()]\n",
    "P = partition(ar)\n",
    "print(' '.join(map(str, P)))"
   ]
  },
  {
   "cell_type": "code",
   "execution_count": 89,
   "metadata": {
    "collapsed": false
   },
   "outputs": [
    {
     "name": "stdout",
     "output_type": "stream",
     "text": [
      "7\n",
      "5 8 1 3 7 9 2\n",
      "1 2 3\n",
      "7 8 9\n",
      "1 2 3 5 7 8 9\n"
     ]
    }
   ],
   "source": [
    "# METHOD 1\n",
    "\n",
    "#!/bin/python\n",
    "def quickSort(ar):\n",
    "    \n",
    "    if (len(ar) == 1) or (len(ar) == 0):\n",
    "        return ar\n",
    "    \n",
    "    key = ar[0]\n",
    "    nr = [key]\n",
    "    for i in range(1, len(ar)):\n",
    "        if ar[i] > key:\n",
    "            nr.append(ar[i])\n",
    "        else:\n",
    "            nr.insert(0, ar[i])\n",
    "    \n",
    "    ret = quickSort(nr[:nr.index(key)]) + [key] + quickSort(nr[nr.index(key)+1:])\n",
    "    print(' '.join(map(str, ret)))\n",
    "    \n",
    "    return ret\n",
    "\n",
    "m = input()\n",
    "ar = [int(i) for i in raw_input().strip().split()]\n",
    "P = quickSort(ar)"
   ]
  },
  {
   "cell_type": "code",
   "execution_count": 90,
   "metadata": {
    "collapsed": false,
    "scrolled": true
   },
   "outputs": [
    {
     "name": "stdout",
     "output_type": "stream",
     "text": [
      "7\n",
      "5 8 1 3 7 9 2\n",
      "2 3\n",
      "1 2 3\n",
      "7 8 9\n",
      "1 2 3 5 7 8 9\n"
     ]
    }
   ],
   "source": [
    "# METHOD 2\n",
    "\n",
    "#!/bin/python\n",
    "def quickSort(ar):\n",
    "    \n",
    "    if (len(ar) == 1) or (len(ar) == 0):\n",
    "        return ar\n",
    "    \n",
    "    key = ar[0]\n",
    "    nl = []\n",
    "    nr = []\n",
    "    for i in xrange(1, len(ar)):\n",
    "        if ar[i] > key:\n",
    "            nr.append(ar[i])\n",
    "        else:\n",
    "            nl.append(ar[i])\n",
    "    \n",
    "    ret = quickSort(nl) + [key] + quickSort(nr)\n",
    "    print(' '.join(map(str, ret)))\n",
    "    \n",
    "    return ret\n",
    "\n",
    "m = input()\n",
    "ar = [int(i) for i in raw_input().strip().split()]\n",
    "P = quickSort(ar)"
   ]
  },
  {
   "cell_type": "code",
   "execution_count": 101,
   "metadata": {
    "collapsed": false,
    "scrolled": true
   },
   "outputs": [
    {
     "data": {
      "text/plain": [
       "[]"
      ]
     },
     "execution_count": 101,
     "metadata": {},
     "output_type": "execute_result"
    }
   ],
   "source": [
    "N = []\n",
    "N[-1:]"
   ]
  },
  {
   "cell_type": "raw",
   "metadata": {},
   "source": [
    "Quicksort with Lomuto partition\n",
    "------------------------------------"
   ]
  },
  {
   "cell_type": "code",
   "execution_count": 5,
   "metadata": {
    "collapsed": false
   },
   "outputs": [
    {
     "name": "stdout",
     "output_type": "stream",
     "text": [
      "1\n",
      "1 3 9 8 2 7 5\n",
      "1 3 2 5 9 7 8\n",
      "1 2 3 5 9 7 8\n",
      "1 2 3 5 7 8 9\n"
     ]
    }
   ],
   "source": [
    "def swap(ar, i, j):\n",
    "    t = ar[i]\n",
    "    ar[i] = ar[j]\n",
    "    ar[j] = t\n",
    "    \n",
    "def partition(ar, si, ei):\n",
    "    p = ar[ei]\n",
    "    j = si\n",
    "    for i in xrange(si, ei):\n",
    "        if (ar[i] < p):\n",
    "            swap(ar, i, j)\n",
    "            \n",
    "            j += 1\n",
    "\n",
    "    swap(ar, j, ei)\n",
    "              \n",
    "    return j\n",
    "\n",
    "def quickSort(ar, lo, hi):\n",
    "    if hi > lo:\n",
    "        pi = partition(ar, lo, hi)\n",
    "        print(' '.join(map(str, ar)))\n",
    "        quickSort(ar, lo, pi - 1)\n",
    "        quickSort(ar, pi + 1, hi)\n",
    "\n",
    "m = input()\n",
    "ar = [int(i) for i in raw_input().strip().split()]\n",
    "quickSort(ar, 0, len(ar) - 1)"
   ]
  },
  {
   "cell_type": "code",
   "execution_count": 8,
   "metadata": {
    "collapsed": false,
    "scrolled": true
   },
   "outputs": [
    {
     "name": "stdout",
     "output_type": "stream",
     "text": [
      "1 3 9 8 2 7 5\n",
      "9\n"
     ]
    }
   ],
   "source": [
    "def sort(ar):\n",
    "    global shift_cnt\n",
    "    v = ar[len(ar)-1]\n",
    "    \n",
    "    for i in range(len(ar)-2, -1, -1):\n",
    "        if ar[i] < v:\n",
    "            ar[i+1] = v\n",
    "\n",
    "        if ar[i] > v:\n",
    "            ar[i+1] = ar[i]\n",
    "            shift_cnt += 1\n",
    "\n",
    "        if ar[i] <= v:\n",
    "            break\n",
    "\n",
    "    if ar[0] > v:\n",
    "        ar[0] = v\n",
    "        \n",
    "    return ar\n",
    "\n",
    "def insertionSort(N):\n",
    "    for i in range(1, len(N)):\n",
    "        N = sort(N[:i+1]) + N[i+1:]\n",
    "\n",
    "shift_cnt = 0\n",
    "ar = [int(i) for i in raw_input().strip().split()]\n",
    "insertionSort(ar)\n",
    "\n",
    "print(shift_cnt)"
   ]
  },
  {
   "cell_type": "raw",
   "metadata": {},
   "source": [
    "Counting Sort\n",
    "--------------------------"
   ]
  },
  {
   "cell_type": "code",
   "execution_count": 2,
   "metadata": {
    "collapsed": false,
    "scrolled": false
   },
   "outputs": [
    {
     "name": "stdout",
     "output_type": "stream",
     "text": [
      "63 25 73 1 98 73 56 84 86 57 16 83 8 25 81 56 9 53 98 67 99 12 83 89 80 91 39 86 76 85 74 39 25 90 59 10 94 32 44 3 89 30 27 79 46 96 27 32 18 21 92 69 81 40 40 34 68 78 24 87 42 69 23 41 78 22 6 90 99 89 50 30 20 1 43 3 70 95 33 46 44 9 69 48 33 60 65 16 82 67 61 32 21 79 75 75 13 87 70 33\n",
      "0 2 0 2 0 0 1 0 1 2 1 0 1 1 0 0 2 0 1 0 1 2 1 1 1 3 0 2 0 0 2 0 3 3 1 0 0 0 0 2 2 1 1 1 2 0 2 0 1 0 1 0 0 1 0 0 2 1 0 1 1 1 0 1 0 1 0 2 1 3 2 0 0 2 1 2 1 0 2 2 1 2 1 2 1 1 2 2 0 3 2 1 1 0 1 1 1 0 2 2\n"
     ]
    }
   ],
   "source": [
    "# input compatibility statement\n",
    "import sys\n",
    "if sys.version[0] == '2': input = raw_input\n",
    "\n",
    "n = [0 for v in range(100)]\n",
    "\n",
    "def countSort(ar):\n",
    "    \n",
    "    for v in ar:\n",
    "        n[v] += 1\n",
    "\n",
    "#m = int(input().strip())\n",
    "ar = [int(i) for i in input().strip().split()]\n",
    "countSort(ar)\n",
    "print( ' '.join(map(str, n)) )"
   ]
  },
  {
   "cell_type": "code",
   "execution_count": 7,
   "metadata": {
    "collapsed": false
   },
   "outputs": [
    {
     "data": {
      "text/plain": [
       "[1, 1, 2, 2]"
      ]
     },
     "execution_count": 7,
     "metadata": {},
     "output_type": "execute_result"
    }
   ],
   "source": [
    "t = []\n",
    "t.extend([1 for v in xrange(2)])\n",
    "t.extend([2 for v in xrange(2)])\n",
    "t"
   ]
  },
  {
   "cell_type": "code",
   "execution_count": 14,
   "metadata": {
    "collapsed": false
   },
   "outputs": [
    {
     "name": "stdout",
     "output_type": "stream",
     "text": [
      "4 5 1 7 4\n",
      "1 4 4 5 7\n"
     ]
    }
   ],
   "source": [
    "n = [0 for v in range(100)]\n",
    "ar = [int(i) for i in input().strip().split()]\n",
    "countSort(ar)\n",
    "#print( ' '.join(map(str, n)) )\n",
    "\n",
    "ret = []\n",
    "for i in range(len(n)):\n",
    "    ret.extend([str(i) for v in xrange(n[i])])\n",
    "    \n",
    "print( ' '.join(map(str, ret)) )"
   ]
  },
  {
   "cell_type": "code",
   "execution_count": 22,
   "metadata": {
    "collapsed": false
   },
   "outputs": [
    {
     "data": {
      "text/plain": [
       "[1, 2, 3]"
      ]
     },
     "execution_count": 22,
     "metadata": {},
     "output_type": "execute_result"
    }
   ],
   "source": [
    "N = [(1, 'a'), (2, 'b'), (3, 'c')]\n",
    "[i for (i, v) in N]"
   ]
  },
  {
   "cell_type": "code",
   "execution_count": 36,
   "metadata": {
    "collapsed": false
   },
   "outputs": [
    {
     "name": "stdout",
     "output_type": "stream",
     "text": [
      "6\n",
      "6 a\n",
      "3 a\n",
      "1 a\n",
      "4 a\n",
      "2 a\n",
      "6 a\n",
      "0 1 2 3 4 4 6 6 6 6 6 6 6 6 6 6 6 6 6 6 6 6 6 6 6 6 6 6 6 6 6 6 6 6 6 6 6 6 6 6 6 6 6 6 6 6 6 6 6 6 6 6 6 6 6 6 6 6 6 6 6 6 6 6 6 6 6 6 6 6 6 6 6 6 6 6 6 6 6 6 6 6 6 6 6 6 6 6 6 6 6 6 6 6 6 6 6 6 6 6\n"
     ]
    }
   ],
   "source": [
    "# Enter your code here. Read input from STDIN. Print output to STDOUT\n",
    "# input compatibility statement\n",
    "import sys\n",
    "if sys.version[0] == '2': input = raw_input\n",
    "    \n",
    "def countSort(ar):\n",
    "    n = [0 for v in range(100)]    \n",
    "    for v in ar:\n",
    "        n[v] += 1\n",
    "    return n\n",
    "\n",
    "# read input\n",
    "ar = []\n",
    "m = int(input().strip())\n",
    "for i in xrange(m):\n",
    "    v = input().strip().split()\n",
    "    ar.append( (int(v[0]), v[1]) )\n",
    "\n",
    "# do count\n",
    "n = countSort([i for (i, v) in ar])\n",
    "\n",
    "count = 0\n",
    "for i in range(len(n)):\n",
    "    count += n[i]\n",
    "    n[i] = count\n",
    "    \n",
    "# print output    \n",
    "print( ' '.join(map(str, n)) )"
   ]
  },
  {
   "cell_type": "raw",
   "metadata": {},
   "source": [
    "The Full Counting Sort\n",
    "---------------------------"
   ]
  },
  {
   "cell_type": "code",
   "execution_count": 16,
   "metadata": {
    "collapsed": false
   },
   "outputs": [
    {
     "name": "stdout",
     "output_type": "stream",
     "text": [
      "5\n",
      "0 a\n",
      "2 h\n",
      "4 t\n",
      "0 8\n",
      "3 g\n",
      "- 8 - g t\n"
     ]
    }
   ],
   "source": [
    "###### Enter your code here. Read input from STDIN. Print output to STDOUT\n",
    "# input compatibility statement\n",
    "import sys, time\n",
    "if sys.version[0] == '2': input = raw_input\n",
    "    \n",
    "def countSort(ar):\n",
    "    n = [0 for v in range(100)]\n",
    "    for i, v in ar:\n",
    "        n[i] += 1\n",
    "    return n\n",
    "\n",
    "# read input\n",
    "ar = []\n",
    "m = int(input().strip())\n",
    "for i in range(m):\n",
    "    j, v = input().strip().split()\n",
    "    ar.append( (int(j), v) )\n",
    "    \n",
    "# init var\n",
    "nn = [0 for i in range(100)]\n",
    "ret = [None for i in range(m)]\n",
    "\n",
    "# do count\n",
    "n = countSort(ar)\n",
    "\n",
    "count = 0\n",
    "for i in range(len(n)):\n",
    "    count += n[i]\n",
    "    nn[i] = count\n",
    "\n",
    "#t = time.time()\n",
    "\n",
    "i = 0\n",
    "for j, v in ar:\n",
    "    v = v if i > (m / 2) - 1 else '-'\n",
    "    ret[nn[j] - n[j]] = v\n",
    "    n[j] -= 1\n",
    "    \n",
    "    i += 1\n",
    "\n",
    "#print(\"%.5f\" % (time.time()-t))   \n",
    "\n",
    "print(' '.join(map(str,ret)))"
   ]
  },
  {
   "cell_type": "code",
   "execution_count": 11,
   "metadata": {
    "collapsed": false
   },
   "outputs": [
    {
     "data": {
      "text/plain": [
       "0"
      ]
     },
     "execution_count": 11,
     "metadata": {},
     "output_type": "execute_result"
    }
   ],
   "source": [
    "N = (0,) * 20\n",
    "N[3]"
   ]
  },
  {
   "cell_type": "code",
   "execution_count": 3,
   "metadata": {
    "collapsed": false
   },
   "outputs": [
    {
     "data": {
      "text/plain": [
       "'    #'"
      ]
     },
     "execution_count": 3,
     "metadata": {},
     "output_type": "execute_result"
    }
   ],
   "source": [
    "'#'.rjust(5)"
   ]
  },
  {
   "cell_type": "code",
   "execution_count": 5,
   "metadata": {
    "collapsed": false
   },
   "outputs": [
    {
     "name": "stdout",
     "output_type": "stream",
     "text": [
      "      \n",
      "     #\n",
      "    ##\n",
      "   ###\n",
      "  ####\n",
      " #####\n",
      "######\n"
     ]
    }
   ],
   "source": [
    "m = 6\n",
    "for i in range(6 + 1):\n",
    "    print(('#' * i ).rjust(m))"
   ]
  },
  {
   "cell_type": "code",
   "execution_count": 8,
   "metadata": {
    "collapsed": false
   },
   "outputs": [
    {
     "data": {
      "text/plain": [
       "6"
      ]
     },
     "execution_count": 8,
     "metadata": {},
     "output_type": "execute_result"
    }
   ],
   "source": [
    "sum([1, 2, 3])"
   ]
  },
  {
   "cell_type": "code",
   "execution_count": 15,
   "metadata": {
    "collapsed": false,
    "scrolled": true
   },
   "outputs": [
    {
     "data": {
      "text/plain": [
       "[0, 0, 0, 0, 0, 0, 0, 0, 0, 0]"
      ]
     },
     "execution_count": 15,
     "metadata": {},
     "output_type": "execute_result"
    }
   ],
   "source": [
    "[0 for i in range(10)]"
   ]
  },
  {
   "cell_type": "raw",
   "metadata": {},
   "source": [
    "Closest Numbers\n",
    "----------------------"
   ]
  },
  {
   "cell_type": "code",
   "execution_count": 30,
   "metadata": {
    "collapsed": false,
    "scrolled": true
   },
   "outputs": [
    {
     "data": {
      "text/plain": [
       "[2, 4]"
      ]
     },
     "execution_count": 30,
     "metadata": {},
     "output_type": "execute_result"
    }
   ],
   "source": [
    "sorted((4, 2))"
   ]
  },
  {
   "cell_type": "code",
   "execution_count": null,
   "metadata": {
    "collapsed": true
   },
   "outputs": [],
   "source": [
    "# input compatibility statement\n",
    "import sys, time\n",
    "if sys.version[0] == '2': input = raw_input\n",
    "    \n",
    "def closestNum(ar):\n",
    "    k = None\n",
    "    T = []\n",
    "    \n",
    "    for i in range(len(ar)):\n",
    "        cur = ar[i]\n",
    "        for j in range(i + 1, len(ar)):\n",
    "            v = ar[j]\n",
    "            diff = abs(cur - v)\n",
    "            t = tuple(sorted((cur, v)))\n",
    "            if k == None or diff < k:\n",
    "                T = [t]\n",
    "                k = diff\n",
    "            elif diff == k:\n",
    "                T.append(t)\n",
    "    return T\n",
    "\n",
    "m = int(input().strip())\n",
    "ar = [int(i) for i in input().strip().split()]\n",
    "\n",
    "t = time.time()\n",
    "ret = closestNum(ar)\n",
    "print(\"%.5f\" % (time.time()-t))\n",
    "\n",
    "#print(' '.join(map(str, ['{} {}'.format(j, i) for j, i in ret])))"
   ]
  },
  {
   "cell_type": "code",
   "execution_count": 37,
   "metadata": {
    "collapsed": false
   },
   "outputs": [
    {
     "data": {
      "text/plain": [
       "(2, 4)"
      ]
     },
     "execution_count": 37,
     "metadata": {},
     "output_type": "execute_result"
    }
   ],
   "source": [
    "tuple(sorted((4, 2)))"
   ]
  },
  {
   "cell_type": "code",
   "execution_count": 52,
   "metadata": {
    "collapsed": false
   },
   "outputs": [
    {
     "data": {
      "text/plain": [
       "'3 4 10 20'"
      ]
     },
     "execution_count": 52,
     "metadata": {},
     "output_type": "execute_result"
    }
   ],
   "source": [
    "ar = [(3, 4), (10, 20)]\n",
    "' '.join(map(str, ['{} {}'.format(j, i) for j, i in ar]))"
   ]
  },
  {
   "cell_type": "code",
   "execution_count": 44,
   "metadata": {
    "collapsed": false
   },
   "outputs": [
    {
     "data": {
      "text/plain": [
       "'5 6'"
      ]
     },
     "execution_count": 44,
     "metadata": {},
     "output_type": "execute_result"
    }
   ],
   "source": [
    "'%s %s' % ((5, 6))"
   ]
  },
  {
   "cell_type": "code",
   "execution_count": 5,
   "metadata": {
    "collapsed": false
   },
   "outputs": [
    {
     "name": "stdout",
     "output_type": "stream",
     "text": [
      "3\n",
      "1 2 3\n",
      "4 5 6\n",
      "7 8 9\n",
      "15\n"
     ]
    }
   ],
   "source": [
    "import sys, time\n",
    "if sys.version[0] == '2': input = raw_input\n",
    "    \n",
    "m = int(input())\n",
    "\n",
    "ar = []\n",
    "for i in range(m):\n",
    "    ar.append(tuple(input().strip().split()))\n",
    "\n",
    "def doSum(ar, lo, hi, inc):\n",
    "    s = 0\n",
    "    for i in range(0, m, inc):\n",
    "        s += int(ar[i][i])\n",
    "    return s\n",
    "    \n",
    "print(doSum(ar, 0, m, 1))"
   ]
  },
  {
   "cell_type": "code",
   "execution_count": 17,
   "metadata": {
    "collapsed": false
   },
   "outputs": [
    {
     "name": "stdout",
     "output_type": "stream",
     "text": [
      "0.4000\n",
      "0.5000\n",
      "0.6000\n"
     ]
    }
   ],
   "source": [
    "print('\\n'.join('%.4f' % (v/10.0) for v in [4, 5, 6]))"
   ]
  },
  {
   "cell_type": "code",
   "execution_count": 26,
   "metadata": {
    "collapsed": false
   },
   "outputs": [
    {
     "data": {
      "text/plain": [
       "'----#'"
      ]
     },
     "execution_count": 26,
     "metadata": {},
     "output_type": "execute_result"
    }
   ],
   "source": [
    "'{:->5}'.format('#')"
   ]
  },
  {
   "cell_type": "code",
   "execution_count": 2,
   "metadata": {
    "collapsed": false
   },
   "outputs": [
    {
     "name": "stdout",
     "output_type": "stream",
     "text": [
      "2015-12-27 23:10:05.391067\n"
     ]
    }
   ],
   "source": [
    "from datetime import datetime\n",
    "print(datetime.now())"
   ]
  },
  {
   "cell_type": "code",
   "execution_count": 1,
   "metadata": {
    "collapsed": true
   },
   "outputs": [],
   "source": [
    "import pylog"
   ]
  },
  {
   "cell_type": "code",
   "execution_count": 6,
   "metadata": {
    "collapsed": false
   },
   "outputs": [
    {
     "name": "stdout",
     "output_type": "stream",
     "text": [
      "Setting header...\n"
     ]
    }
   ],
   "source": [
    "pylog.FILE_NAME = 'log2.log'\n",
    "pylog.set_header(['aaa', 'bbb', 'ccc'])"
   ]
  },
  {
   "cell_type": "code",
   "execution_count": 1,
   "metadata": {
    "collapsed": false
   },
   "outputs": [
    {
     "data": {
      "text/plain": [
       "'b'"
      ]
     },
     "execution_count": 1,
     "metadata": {},
     "output_type": "execute_result"
    }
   ],
   "source": [
    "a = { '1': 'a' }\n",
    "a.get('2', 'b')"
   ]
  },
  {
   "cell_type": "code",
   "execution_count": 2,
   "metadata": {
    "collapsed": true
   },
   "outputs": [],
   "source": [
    "from threading import Thread, Event\n",
    "e = Event()"
   ]
  },
  {
   "cell_type": "code",
   "execution_count": 3,
   "metadata": {
    "collapsed": false
   },
   "outputs": [
    {
     "data": {
      "text/plain": [
       "False"
      ]
     },
     "execution_count": 3,
     "metadata": {},
     "output_type": "execute_result"
    }
   ],
   "source": [
    "e.is_set()"
   ]
  },
  {
   "cell_type": "code",
   "execution_count": 4,
   "metadata": {
    "collapsed": false
   },
   "outputs": [
    {
     "data": {
      "text/plain": [
       "True"
      ]
     },
     "execution_count": 4,
     "metadata": {},
     "output_type": "execute_result"
    }
   ],
   "source": [
    "e.set()\n",
    "e.is_set()"
   ]
  },
  {
   "cell_type": "code",
   "execution_count": 5,
   "metadata": {
    "collapsed": false
   },
   "outputs": [
    {
     "data": {
      "text/plain": [
       "False"
      ]
     },
     "execution_count": 5,
     "metadata": {},
     "output_type": "execute_result"
    }
   ],
   "source": [
    "e.clear()\n",
    "e.is_set()"
   ]
  },
  {
   "cell_type": "code",
   "execution_count": 6,
   "metadata": {
    "collapsed": false
   },
   "outputs": [
    {
     "data": {
      "text/plain": [
       "True"
      ]
     },
     "execution_count": 6,
     "metadata": {},
     "output_type": "execute_result"
    }
   ],
   "source": [
    "e.set()\n",
    "e.is_set()"
   ]
  },
  {
   "cell_type": "code",
   "execution_count": 12,
   "metadata": {
    "collapsed": false
   },
   "outputs": [
    {
     "name": "stdout",
     "output_type": "stream",
     "text": [
      "1\n"
     ]
    }
   ],
   "source": [
    "T = (1,)\n",
    "for t in T:\n",
    "    print t"
   ]
  },
  {
   "cell_type": "code",
   "execution_count": 1,
   "metadata": {
    "collapsed": true
   },
   "outputs": [],
   "source": [
    "import pylog, sys"
   ]
  },
  {
   "cell_type": "code",
   "execution_count": 4,
   "metadata": {
    "collapsed": false
   },
   "outputs": [
    {
     "ename": "SyntaxError",
     "evalue": "invalid syntax (<ipython-input-4-4b66f1658973>, line 5)",
     "output_type": "error",
     "traceback": [
      "\u001b[1;36m  File \u001b[1;32m\"<ipython-input-4-4b66f1658973>\"\u001b[1;36m, line \u001b[1;32m5\u001b[0m\n\u001b[1;33m    print('ciao!', sep='')\u001b[0m\n\u001b[1;37m                      ^\u001b[0m\n\u001b[1;31mSyntaxError\u001b[0m\u001b[1;31m:\u001b[0m invalid syntax\n"
     ]
    }
   ],
   "source": [
    "pylog.FILE_NAME = 'log.log'\n",
    "pylog.WRITE_FREQ = 1\n",
    "tmp = sys.stdout\n",
    "sys.stdout = pylog.PyLog()\n",
    "print('ciao!')\n",
    "sys.stdout = tmp"
   ]
  },
  {
   "cell_type": "code",
   "execution_count": 3,
   "metadata": {
    "collapsed": false
   },
   "outputs": [
    {
     "name": "stdout",
     "output_type": "stream",
     "text": [
      "ciao!\n"
     ]
    }
   ],
   "source": [
    "print('ciao!')"
   ]
  },
  {
   "cell_type": "code",
   "execution_count": 4,
   "metadata": {
    "collapsed": false
   },
   "outputs": [],
   "source": [
    "pylog.FILE_NAME = 'log.log'\n",
    "pylog.WRITE_FREQ = 1\n",
    "pylog.log('test')"
   ]
  },
  {
   "cell_type": "code",
   "execution_count": 5,
   "metadata": {
    "collapsed": false
   },
   "outputs": [
    {
     "data": {
      "text/plain": [
       "<pylog.PyLog instance at 0xba3940>"
      ]
     },
     "execution_count": 5,
     "metadata": {},
     "output_type": "execute_result"
    }
   ],
   "source": [
    "log = pylog.PyLog()\n",
    "log"
   ]
  },
  {
   "cell_type": "code",
   "execution_count": 6,
   "metadata": {
    "collapsed": true
   },
   "outputs": [],
   "source": [
    "from __future__ import print_function"
   ]
  },
  {
   "cell_type": "code",
   "execution_count": 7,
   "metadata": {
    "collapsed": false
   },
   "outputs": [],
   "source": [
    "print('test2', file=log)"
   ]
  },
  {
   "cell_type": "code",
   "execution_count": 6,
   "metadata": {
    "collapsed": false
   },
   "outputs": [],
   "source": [
    "log.write('111')"
   ]
  },
  {
   "cell_type": "code",
   "execution_count": 8,
   "metadata": {
    "collapsed": false
   },
   "outputs": [],
   "source": [
    "sys.stdout = log\n",
    "print('2222')"
   ]
  },
  {
   "cell_type": "code",
   "execution_count": 7,
   "metadata": {
    "collapsed": true
   },
   "outputs": [],
   "source": [
    "sys.__stdout__.write('test')"
   ]
  },
  {
   "cell_type": "code",
   "execution_count": 2,
   "metadata": {
    "collapsed": false
   },
   "outputs": [
    {
     "data": {
      "text/plain": [
       "<open file '<stdout>', mode 'w' at 0x76d19078>"
      ]
     },
     "execution_count": 2,
     "metadata": {},
     "output_type": "execute_result"
    }
   ],
   "source": [
    "sys.__stdout__"
   ]
  },
  {
   "cell_type": "code",
   "execution_count": 3,
   "metadata": {
    "collapsed": false
   },
   "outputs": [
    {
     "data": {
      "text/plain": [
       "<ipykernel.iostream.OutStream at 0xca2090>"
      ]
     },
     "execution_count": 3,
     "metadata": {},
     "output_type": "execute_result"
    }
   ],
   "source": [
    "sys.stdout"
   ]
  },
  {
   "cell_type": "code",
   "execution_count": 9,
   "metadata": {
    "collapsed": false
   },
   "outputs": [],
   "source": [
    "sys.stdout.write('123')"
   ]
  },
  {
   "cell_type": "code",
   "execution_count": 1,
   "metadata": {
    "collapsed": true
   },
   "outputs": [],
   "source": [
    "import logging\n",
    "#logger = logging.getLogger(__name__)"
   ]
  },
  {
   "cell_type": "code",
   "execution_count": 7,
   "metadata": {
    "collapsed": false
   },
   "outputs": [
    {
     "name": "stderr",
     "output_type": "stream",
     "text": [
      "DEBUG:__main__:Testing logging module\n"
     ]
    }
   ],
   "source": [
    "logger.setLevel(logging.DEBUG)\n",
    "logger.debug(\"Testing logging module\")"
   ]
  },
  {
   "cell_type": "code",
   "execution_count": 2,
   "metadata": {
    "collapsed": true
   },
   "outputs": [],
   "source": [
    "logging.basicConfig(level=logging.DEBUG)\n",
    "logging.debug(\"This is another test\")"
   ]
  },
  {
   "cell_type": "code",
   "execution_count": 4,
   "metadata": {
    "collapsed": false
   },
   "outputs": [],
   "source": [
    "logging.log(logging.DEBUG, \"Another test\")"
   ]
  },
  {
   "cell_type": "code",
   "execution_count": 8,
   "metadata": {
    "collapsed": false
   },
   "outputs": [
    {
     "data": {
      "text/plain": [
       "(1,)"
      ]
     },
     "execution_count": 8,
     "metadata": {},
     "output_type": "execute_result"
    }
   ],
   "source": [
    "1,"
   ]
  },
  {
   "cell_type": "code",
   "execution_count": 9,
   "metadata": {
    "collapsed": false
   },
   "outputs": [
    {
     "data": {
      "text/plain": [
       "1500.0"
      ]
     },
     "execution_count": 9,
     "metadata": {},
     "output_type": "execute_result"
    }
   ],
   "source": [
    "300/0.2"
   ]
  },
  {
   "cell_type": "code",
   "execution_count": 18,
   "metadata": {
    "collapsed": false
   },
   "outputs": [
    {
     "data": {
      "text/plain": [
       "float"
      ]
     },
     "execution_count": 18,
     "metadata": {},
     "output_type": "execute_result"
    }
   ],
   "source": [
    "300//0.34"
   ]
  },
  {
   "cell_type": "code",
   "execution_count": 19,
   "metadata": {
    "collapsed": false
   },
   "outputs": [
    {
     "data": {
      "text/plain": [
       "0"
      ]
     },
     "execution_count": 19,
     "metadata": {},
     "output_type": "execute_result"
    }
   ],
   "source": [
    "a = []\n",
    "len(a)"
   ]
  },
  {
   "cell_type": "code",
   "execution_count": null,
   "metadata": {
    "collapsed": false,
    "scrolled": true
   },
   "outputs": [],
   "source": [
    "import time, re\n",
    "f = open('log/log.log')\n",
    "f.seek(0, 2)\n",
    "while True:\n",
    "    time.sleep(1)\n",
    "    where = f.tell()\n",
    "    print(where)\n",
    "    line = f.readline()\n",
    "    if not line:\n",
    "        f.seek(where)\n",
    "        time.sleep(1)\n",
    "    else:\n",
    "        match = re.match('Invalid user\\s(.*)\\sfrom\\s([\\d.]*)', line)\n",
    "        print(match.groups())"
   ]
  },
  {
   "cell_type": "code",
   "execution_count": 15,
   "metadata": {
    "collapsed": false,
    "scrolled": true
   },
   "outputs": [
    {
     "data": {
      "text/plain": [
       "([{'ip': '213.96.119.230', 'user': 'guest'},\n",
       "  {'ip': '213.96.119.230', 'user': 'guest'},\n",
       "  {'ip': '213.96.119.230', 'user': 'guest'},\n",
       "  {'ip': '213.96.119.230', 'user': 'guest'},\n",
       "  {'ip': '213.96.119.230', 'user': 'guest'},\n",
       "  {'ip': '213.96.119.230', 'user': 'guest'},\n",
       "  {'ip': '213.96.119.230', 'user': 'guest'},\n",
       "  {'ip': '213.96.119.230', 'user': 'guest'},\n",
       "  {'ip': '213.96.119.230', 'user': 'guest'},\n",
       "  {'ip': '213.96.119.230', 'user': 'guest'},\n",
       "  {'ip': '213.96.119.230', 'user': 'guest'},\n",
       "  {'ip': '213.96.119.230', 'user': 'guest'},\n",
       "  {'ip': '213.96.119.230', 'user': 'guest'},\n",
       "  {'ip': '213.96.119.230', 'user': 'guest'},\n",
       "  {'ip': '213.96.119.230', 'user': 'guest'},\n",
       "  {'ip': '213.96.119.230', 'user': 'guest'},\n",
       "  {'ip': '213.96.119.230', 'user': 'guest'},\n",
       "  {'ip': '213.96.119.230', 'user': 'guest'}],\n",
       " 738L)"
      ]
     },
     "execution_count": 15,
     "metadata": {},
     "output_type": "execute_result"
    }
   ],
   "source": [
    "import re, time\n",
    "\n",
    "f = open('log/log.log')\n",
    "\n",
    "def checkInvalidAuthentication(profile, last_pos):    \n",
    "    ret = [];\n",
    "    \n",
    "    if last_pos:\n",
    "        f.seek(last_pos, 0)\n",
    "    else:\n",
    "        f.seek(0, 2)\n",
    "    \n",
    "    while True:\n",
    "        last_pos = f.tell()\n",
    "        line = f.readline()\n",
    "\n",
    "        if not line:\n",
    "            return ret, last_pos\n",
    "        else:\n",
    "            match = re.match('Invalid user\\s(.*)\\sfrom\\s([\\d.]*)', line)\n",
    "            if match:\n",
    "                ret.append( dict( zip( ('user', 'ip'), match.groups() ) ) )\n",
    "    f.close()\n",
    "    \n",
    "    return ret, last_pos\n",
    "            \n",
    "handleAuthLog(0)"
   ]
  },
  {
   "cell_type": "code",
   "execution_count": 16,
   "metadata": {
    "collapsed": false
   },
   "outputs": [
    {
     "data": {
      "text/plain": [
       "([{'ip': '213.96.119.230', 'user': 'guest'}], 777L)"
      ]
     },
     "execution_count": 16,
     "metadata": {},
     "output_type": "execute_result"
    }
   ],
   "source": [
    "handleAuthLog(738)"
   ]
  },
  {
   "cell_type": "code",
   "execution_count": 18,
   "metadata": {
    "collapsed": false
   },
   "outputs": [
    {
     "data": {
      "text/plain": [
       "('213.96.119.230', 'guest')"
      ]
     },
     "execution_count": 18,
     "metadata": {},
     "output_type": "execute_result"
    }
   ],
   "source": [
    "d = {'ip': '213.96.119.230', 'user': 'guest'}\n",
    "d['ip'], d['user']"
   ]
  },
  {
   "cell_type": "code",
   "execution_count": 24,
   "metadata": {
    "collapsed": false
   },
   "outputs": [
    {
     "name": "stdout",
     "output_type": "stream",
     "text": [
      "[None, <_sre.SRE_Match object at 0x23c8698>]\n"
     ]
    }
   ],
   "source": [
    "import re\n",
    "line = 'Invalid user bread from 123.123.123.123'\n",
    "patterns = ['Failed password for (.*) from\\s([\\d.]*)',\n",
    "           'Invalid user\\s(.*)\\sfrom\\s([\\d.]*)']\n",
    "\n",
    "print [re.match(p, line) for p in patterns]"
   ]
  },
  {
   "cell_type": "code",
   "execution_count": 26,
   "metadata": {
    "collapsed": false
   },
   "outputs": [
    {
     "data": {
      "text/plain": [
       "'2016-01-28 22:03:43.875651'"
      ]
     },
     "execution_count": 26,
     "metadata": {},
     "output_type": "execute_result"
    }
   ],
   "source": [
    "from datetime import datetime\n",
    "str(datetime.now())"
   ]
  },
  {
   "cell_type": "code",
   "execution_count": 1,
   "metadata": {
    "collapsed": false
   },
   "outputs": [
    {
     "data": {
      "text/plain": [
       "['PyLog',\n",
       " '__builtins__',\n",
       " '__doc__',\n",
       " '__file__',\n",
       " '__name__',\n",
       " '__package__',\n",
       " '_init_log',\n",
       " '_log',\n",
       " '_ori_stdout',\n",
       " 'atexit',\n",
       " 'datetime',\n",
       " 'division',\n",
       " 'log',\n",
       " 'log_data',\n",
       " 'logging',\n",
       " 'main',\n",
       " 'os',\n",
       " 'print_function',\n",
       " 'set_header',\n",
       " 'shutil',\n",
       " 'sys',\n",
       " 'write_on_file']"
      ]
     },
     "execution_count": 1,
     "metadata": {},
     "output_type": "execute_result"
    }
   ],
   "source": [
    "import pylog\n",
    "dir(pylog)"
   ]
  },
  {
   "cell_type": "code",
   "execution_count": 4,
   "metadata": {
    "collapsed": false
   },
   "outputs": [],
   "source": [
    "log = pylog.PyLog(create_new=False, filename='log2.log')\n",
    "log.log('test 123')"
   ]
  },
  {
   "cell_type": "code",
   "execution_count": 5,
   "metadata": {
    "collapsed": false
   },
   "outputs": [],
   "source": [
    "log.write_on_file()"
   ]
  },
  {
   "cell_type": "code",
   "execution_count": 10,
   "metadata": {
    "collapsed": false
   },
   "outputs": [],
   "source": [
    "pylog.log('another test 123')"
   ]
  },
  {
   "cell_type": "code",
   "execution_count": 11,
   "metadata": {
    "collapsed": true
   },
   "outputs": [],
   "source": [
    "pylog.write_on_file()"
   ]
  },
  {
   "cell_type": "code",
   "execution_count": 13,
   "metadata": {
    "collapsed": true
   },
   "outputs": [],
   "source": [
    "pylog.FILENAME = 'test.log'\n",
    "pylog.set_header(['aaa', 'bbbb'])"
   ]
  },
  {
   "cell_type": "raw",
   "metadata": {},
   "source": [
    "regular expression\n",
    "-----------------------"
   ]
  },
  {
   "cell_type": "code",
   "execution_count": 26,
   "metadata": {
    "collapsed": true
   },
   "outputs": [],
   "source": [
    "import re\n",
    "p = '.*Invalid user\\s(.*)\\sfrom\\s([\\d.]*)'"
   ]
  },
  {
   "cell_type": "code",
   "execution_count": 27,
   "metadata": {
    "collapsed": false
   },
   "outputs": [
    {
     "data": {
      "text/plain": [
       "('superadmin', '185.106.92.118')"
      ]
     },
     "execution_count": 27,
     "metadata": {},
     "output_type": "execute_result"
    }
   ],
   "source": [
    "match = re.match(p, 'Jan 29 16:27:25 raspi sshd[18164]: Invalid user superadmin from 185.106.92.118')\n",
    "match.groups()"
   ]
  },
  {
   "cell_type": "code",
   "execution_count": 28,
   "metadata": {
    "collapsed": false,
    "scrolled": false
   },
   "outputs": [
    {
     "data": {
      "text/plain": [
       "True"
      ]
     },
     "execution_count": 28,
     "metadata": {},
     "output_type": "execute_result"
    }
   ],
   "source": [
    "bool(re.search(r'\\b(news|headline)\\b', \"NEWS\", re.IGNORECASE))"
   ]
  },
  {
   "cell_type": "code",
   "execution_count": null,
   "metadata": {
    "collapsed": true
   },
   "outputs": [],
   "source": []
  },
  {
   "cell_type": "raw",
   "metadata": {},
   "source": [
    "Testing pkgutil\n",
    "-------------------"
   ]
  },
  {
   "cell_type": "code",
   "execution_count": 7,
   "metadata": {
    "collapsed": false
   },
   "outputs": [
    {
     "data": {
      "text/plain": [
       "instance"
      ]
     },
     "execution_count": 7,
     "metadata": {},
     "output_type": "execute_result"
    }
   ],
   "source": [
    "import pkgutil\n",
    "loader = pkgutil.get_loader('psutil')\n",
    "type(loader)"
   ]
  },
  {
   "cell_type": "code",
   "execution_count": 8,
   "metadata": {
    "collapsed": false
   },
   "outputs": [
    {
     "data": {
      "text/plain": [
       "'/home/pi/python_example/ipython/lib/python2.7/site-packages/psutil/__init__.py'"
      ]
     },
     "execution_count": 8,
     "metadata": {},
     "output_type": "execute_result"
    }
   ],
   "source": [
    "loader.get_filename()"
   ]
  },
  {
   "cell_type": "code",
   "execution_count": 13,
   "metadata": {
    "collapsed": false
   },
   "outputs": [
    {
     "name": "stdout",
     "output_type": "stream",
     "text": [
      "<type 'datetime.datetime'>\n"
     ]
    }
   ],
   "source": [
    "import datetime\n",
    "d = datetime.datetime.strptime('2016-01-17 19:12:05.658471', '%Y-%m-%d %H:%M:%S.%f')\n",
    "print type(d)\n",
    "#print type(datetime.datetime.now())"
   ]
  },
  {
   "cell_type": "code",
   "execution_count": 12,
   "metadata": {
    "collapsed": false
   },
   "outputs": [
    {
     "name": "stdout",
     "output_type": "stream",
     "text": [
      "4 6 1\n",
      "1 5 2\n",
      "[4, 6, 1] [1, 5, 2]\n",
      "<zip object at 0x7156b198>\n",
      "4 1\n",
      "6 5\n",
      "1 2\n",
      "[2, 1]\n"
     ]
    }
   ],
   "source": [
    "# -----------------------------------------------------------\n",
    "\n",
    "\n",
    "import sys\n",
    "if sys.version[0] == '2': input = raw_input\n",
    "\n",
    "#fast a = [int(v) for v in input().strip().split(' ')]\n",
    "#fast b = [int(v) for v in input().strip().split(' ')]\n",
    "a = input().strip().split(' ')\n",
    "a = list(map(int, a))\n",
    "b = input().strip().split(' ')\n",
    "b = list(map(int, b))\n",
    "print(a, b)\n",
    "\n",
    "t = zip(a, b)\n",
    "print(t)\n",
    "\n",
    "score = [0,0]\n",
    "\n",
    "for a,b in t:\n",
    "    print(a, b)\n",
    "    if a > b:\n",
    "        score[0] = score[0] + 1\n",
    "    if b > a:\n",
    "        score[1] = score[1] + 1\n",
    "        \n",
    "print( score )"
   ]
  }
 ],
 "metadata": {
  "kernelspec": {
   "display_name": "Python 3",
   "language": "python",
   "name": "python3"
  },
  "language_info": {
   "codemirror_mode": {
    "name": "ipython",
    "version": 3
   },
   "file_extension": ".py",
   "mimetype": "text/x-python",
   "name": "python",
   "nbconvert_exporter": "python",
   "pygments_lexer": "ipython3",
   "version": "3.4.2"
  }
 },
 "nbformat": 4,
 "nbformat_minor": 0
}
