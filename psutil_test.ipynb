{
 "cells": [
  {
   "cell_type": "code",
   "execution_count": 2,
   "metadata": {
    "collapsed": false
   },
   "outputs": [],
   "source": [
    "import psutil"
   ]
  },
  {
   "cell_type": "code",
   "execution_count": 10,
   "metadata": {
    "collapsed": false
   },
   "outputs": [
    {
     "data": {
      "text/plain": [
       "sdiskio(read_count=105439, write_count=1234762, read_bytes=1957898240, write_bytes=11203032064L, read_time=250180, write_time=17415020)"
      ]
     },
     "execution_count": 10,
     "metadata": {},
     "output_type": "execute_result"
    }
   ],
   "source": [
    "psutil.disk_io_counters()"
   ]
  },
  {
   "cell_type": "code",
   "execution_count": 3,
   "metadata": {
    "collapsed": false
   },
   "outputs": [
    {
     "data": {
      "text/plain": [
       "16.7"
      ]
     },
     "execution_count": 3,
     "metadata": {},
     "output_type": "execute_result"
    }
   ],
   "source": [
    "psutil.cpu_percent()"
   ]
  },
  {
   "cell_type": "code",
   "execution_count": 7,
   "metadata": {
    "collapsed": false
   },
   "outputs": [
    {
     "ename": "SyntaxError",
     "evalue": "invalid syntax (<ipython-input-7-801bd0358bba>, line 1)",
     "output_type": "error",
     "traceback": [
      "\u001b[1;36m  File \u001b[1;32m\"<ipython-input-7-801bd0358bba>\"\u001b[1;36m, line \u001b[1;32m1\u001b[0m\n\u001b[1;33m    None || 1\u001b[0m\n\u001b[1;37m          ^\u001b[0m\n\u001b[1;31mSyntaxError\u001b[0m\u001b[1;31m:\u001b[0m invalid syntax\n"
     ]
    }
   ],
   "source": [
    "None || 1"
   ]
  },
  {
   "cell_type": "code",
   "execution_count": 5,
   "metadata": {
    "collapsed": false
   },
   "outputs": [
    {
     "data": {
      "text/plain": [
       "[scputimes(user=76964.7, nice=0.0, system=32793.59, idle=2978432.85, iowait=820.58, irq=19.48, softirq=1190.62, steal=0.0, guest=0.0, guest_nice=0.0),\n",
       " scputimes(user=81996.73, nice=0.0, system=28375.02, idle=2997574.27, iowait=159.76, irq=0.47, softirq=113.5, steal=0.0, guest=0.0, guest_nice=0.0),\n",
       " scputimes(user=77602.27, nice=0.0, system=28573.61, idle=3003212.27, iowait=161.01, irq=0.31, softirq=119.03, steal=0.0, guest=0.0, guest_nice=0.0),\n",
       " scputimes(user=81120.63, nice=0.0, system=27578.99, idle=3000491.86, iowait=166.74, irq=0.34, softirq=108.02, steal=0.0, guest=0.0, guest_nice=0.0)]"
      ]
     },
     "execution_count": 5,
     "metadata": {},
     "output_type": "execute_result"
    }
   ],
   "source": [
    "psutil.cpu_times(percpu=True)"
   ]
  },
  {
   "cell_type": "code",
   "execution_count": null,
   "metadata": {
    "collapsed": true
   },
   "outputs": [],
   "source": []
  }
 ],
 "metadata": {
  "kernelspec": {
   "display_name": "Python 2",
   "language": "python",
   "name": "python2"
  },
  "language_info": {
   "codemirror_mode": {
    "name": "ipython",
    "version": 2
   },
   "file_extension": ".py",
   "mimetype": "text/x-python",
   "name": "python",
   "nbconvert_exporter": "python",
   "pygments_lexer": "ipython2",
   "version": "2.7.3"
  }
 },
 "nbformat": 4,
 "nbformat_minor": 0
}
