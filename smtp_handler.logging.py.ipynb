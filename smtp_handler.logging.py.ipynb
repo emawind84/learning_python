{
 "cells": [
  {
   "cell_type": "code",
   "execution_count": 1,
   "metadata": {
    "collapsed": true
   },
   "outputs": [],
   "source": [
    "import logging\n",
    "from logging.handlers import SMTPHandler"
   ]
  },
  {
   "cell_type": "code",
   "execution_count": 2,
   "metadata": {
    "collapsed": true
   },
   "outputs": [],
   "source": [
    "# mail server settings\n",
    "MAIL_SERVER = 'srv56.hosting24.com'\n",
    "MAIL_PORT = 587\n",
    "MAIL_USERNAME = 'emanuele.disco@emawind.com'\n",
    "MAIL_PASSWORD = 'fHre5sdhyJg1'\n",
    "\n",
    "# administrator list\n",
    "ADMINS = ['emanuele.disco@emawind.com']"
   ]
  },
  {
   "cell_type": "code",
   "execution_count": 3,
   "metadata": {
    "collapsed": false
   },
   "outputs": [],
   "source": [
    "credentials = (MAIL_USERNAME, MAIL_PASSWORD)\n",
    "mail_handler = SMTPHandler(\n",
    "    (MAIL_SERVER, MAIL_PORT), \n",
    "    'no-reply@emawind.com', ADMINS, \n",
    "    'microblog failure', \n",
    "    credentials=credentials,\n",
    "    secure=(),\n",
    "    timeout=5.0)"
   ]
  },
  {
   "cell_type": "code",
   "execution_count": 4,
   "metadata": {
    "collapsed": false
   },
   "outputs": [],
   "source": [
    "mail_handler.setLevel(logging.INFO)\n",
    "_logger = logging.getLogger(__name__)\n",
    "_logger.setLevel(logging.INFO)\n",
    "_logger.addHandler(mail_handler)"
   ]
  },
  {
   "cell_type": "code",
   "execution_count": 5,
   "metadata": {
    "collapsed": false
   },
   "outputs": [
    {
     "name": "stderr",
     "output_type": "stream",
     "text": [
      "--- Logging error ---\n",
      "Traceback (most recent call last):\n",
      "  File \"/usr/lib/python3.4/logging/handlers.py\", line 983, in emit\n",
      "    smtp.login(self.username, self.password)\n",
      "  File \"/usr/lib/python3.4/smtplib.py\", line 613, in login\n",
      "    raise SMTPException(\"SMTP AUTH extension not supported by server.\")\n",
      "smtplib.SMTPException: SMTP AUTH extension not supported by server.\n",
      "Call stack:\n",
      "  File \"/usr/lib/python3.4/runpy.py\", line 170, in _run_module_as_main\n",
      "    \"__main__\", mod_spec)\n",
      "  File \"/usr/lib/python3.4/runpy.py\", line 85, in _run_code\n",
      "    exec(code, run_globals)\n",
      "  File \"/home/pi/jupyter/env/lib/python3.4/site-packages/ipykernel/__main__.py\", line 3, in <module>\n",
      "    app.launch_new_instance()\n",
      "  File \"/home/pi/jupyter/env/lib/python3.4/site-packages/traitlets/config/application.py\", line 596, in launch_instance\n",
      "    app.start()\n",
      "  File \"/home/pi/jupyter/env/lib/python3.4/site-packages/ipykernel/kernelapp.py\", line 442, in start\n",
      "    ioloop.IOLoop.instance().start()\n",
      "  File \"/home/pi/jupyter/env/lib/python3.4/site-packages/zmq/eventloop/ioloop.py\", line 162, in start\n",
      "    super(ZMQIOLoop, self).start()\n",
      "  File \"/home/pi/jupyter/env/lib/python3.4/site-packages/tornado/ioloop.py\", line 883, in start\n",
      "    handler_func(fd_obj, events)\n",
      "  File \"/home/pi/jupyter/env/lib/python3.4/site-packages/tornado/stack_context.py\", line 275, in null_wrapper\n",
      "    return fn(*args, **kwargs)\n",
      "  File \"/home/pi/jupyter/env/lib/python3.4/site-packages/zmq/eventloop/zmqstream.py\", line 440, in _handle_events\n",
      "    self._handle_recv()\n",
      "  File \"/home/pi/jupyter/env/lib/python3.4/site-packages/zmq/eventloop/zmqstream.py\", line 472, in _handle_recv\n",
      "    self._run_callback(callback, msg)\n",
      "  File \"/home/pi/jupyter/env/lib/python3.4/site-packages/zmq/eventloop/zmqstream.py\", line 414, in _run_callback\n",
      "    callback(*args, **kwargs)\n",
      "  File \"/home/pi/jupyter/env/lib/python3.4/site-packages/tornado/stack_context.py\", line 275, in null_wrapper\n",
      "    return fn(*args, **kwargs)\n",
      "  File \"/home/pi/jupyter/env/lib/python3.4/site-packages/ipykernel/kernelbase.py\", line 276, in dispatcher\n",
      "    return self.dispatch_shell(stream, msg)\n",
      "  File \"/home/pi/jupyter/env/lib/python3.4/site-packages/ipykernel/kernelbase.py\", line 228, in dispatch_shell\n",
      "    handler(stream, idents, msg)\n",
      "  File \"/home/pi/jupyter/env/lib/python3.4/site-packages/ipykernel/kernelbase.py\", line 391, in execute_request\n",
      "    user_expressions, allow_stdin)\n",
      "  File \"/home/pi/jupyter/env/lib/python3.4/site-packages/ipykernel/ipkernel.py\", line 199, in do_execute\n",
      "    shell.run_cell(code, store_history=store_history, silent=silent)\n",
      "  File \"/home/pi/jupyter/env/lib/python3.4/site-packages/IPython/core/interactiveshell.py\", line 2723, in run_cell\n",
      "    interactivity=interactivity, compiler=compiler, result=result)\n",
      "  File \"/home/pi/jupyter/env/lib/python3.4/site-packages/IPython/core/interactiveshell.py\", line 2831, in run_ast_nodes\n",
      "    if self.run_code(code, result):\n",
      "  File \"/home/pi/jupyter/env/lib/python3.4/site-packages/IPython/core/interactiveshell.py\", line 2885, in run_code\n",
      "    exec(code_obj, self.user_global_ns, self.user_ns)\n",
      "  File \"<ipython-input-5-ae6f5247be12>\", line 1, in <module>\n",
      "    _logger.info('TEST')\n",
      "Message: 'TEST'\n",
      "Arguments: ()\n"
     ]
    }
   ],
   "source": [
    "_logger.info('TEST')"
   ]
  },
  {
   "cell_type": "code",
   "execution_count": null,
   "metadata": {
    "collapsed": true
   },
   "outputs": [],
   "source": []
  }
 ],
 "metadata": {
  "kernelspec": {
   "display_name": "Python 3",
   "language": "python",
   "name": "python3"
  },
  "language_info": {
   "codemirror_mode": {
    "name": "ipython",
    "version": 3
   },
   "file_extension": ".py",
   "mimetype": "text/x-python",
   "name": "python",
   "nbconvert_exporter": "python",
   "pygments_lexer": "ipython3",
   "version": "3.4.2"
  }
 },
 "nbformat": 4,
 "nbformat_minor": 0
}
