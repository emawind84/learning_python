{
 "cells": [
  {
   "cell_type": "code",
   "execution_count": 17,
   "metadata": {},
   "outputs": [
    {
     "name": "stderr",
     "output_type": "stream",
     "text": [
      "/home/pi/jupyter/env/lib/python3.4/site-packages/requests/packages/urllib3/connectionpool.py:852: InsecureRequestWarning: Unverified HTTPS request is being made. Adding certificate verification is strongly advised. See: https://urllib3.readthedocs.io/en/latest/advanced-usage.html#ssl-warnings\n",
      "  InsecureRequestWarning)\n"
     ]
    },
    {
     "name": "stdout",
     "output_type": "stream",
     "text": [
      "[{\"index\":\"logstash-2017.06.28\"},{\"index\":\"logstash-2017.06.29\"},{\"index\":\"logstash-2017.06.30\"},{\"index\":\"logstash-2017.07.01\"},{\"index\":\"logstash-2017.07.02\"},{\"index\":\"logstash-2017.07.03\"},{\"index\":\"logstash-2017.07.04\"},{\"index\":\"logstash-2017.07.05\"},{\"index\":\"logstash-2017.07.06\"},{\"index\":\"logstash-2017.07.07\"},{\"index\":\"logstash-2017.07.08\"},{\"index\":\"logstash-2017.07.09\"},{\"index\":\"logstash-2017.07.10\"},{\"index\":\"logstash-2017.07.11\"},{\"index\":\"logstash-2017.07.12\"},{\"index\":\"logstash-2017.07.13\"},{\"index\":\"logstash-2017.07.14\"},{\"index\":\"logstash-2017.07.15\"},{\"index\":\"logstash-2017.07.16\"},{\"index\":\"logstash-2017.07.17\"},{\"index\":\"logstash-2017.07.18\"},{\"index\":\"logstash-2017.07.19\"},{\"index\":\"logstash-2017.07.20\"},{\"index\":\"logstash-2017.07.21\"},{\"index\":\"logstash-2017.07.22\"},{\"index\":\"logstash-2017.07.23\"},{\"index\":\"logstash-2017.07.24\"},{\"index\":\"logstash-2017.07.25\"},{\"index\":\"logstash-2017.07.26\"},{\"index\":\"logstash-2017.07.27\"},{\"index\":\"logstash-2017.07.28\"},{\"index\":\"logstash-2017.07.29\"},{\"index\":\"logstash-2017.07.30\"},{\"index\":\"logstash-2017.07.31\"},{\"index\":\"logstash-2017.08.01\"},{\"index\":\"logstash-2017.08.02\"},{\"index\":\"logstash-2017.08.03\"},{\"index\":\"logstash-2017.08.04\"},{\"index\":\"logstash-2017.08.05\"},{\"index\":\"logstash-2017.08.06\"},{\"index\":\"logstash-2017.08.07\"},{\"index\":\"logstash-2017.08.08\"},{\"index\":\"logstash-2017.08.09\"},{\"index\":\"logstash-2017.08.10\"},{\"index\":\"logstash-2017.08.11\"},{\"index\":\"logstash-2017.08.12\"},{\"index\":\"logstash-2017.08.13\"},{\"index\":\"logstash-2017.08.14\"},{\"index\":\"logstash-2017.08.15\"},{\"index\":\"logstash-2017.08.16\"},{\"index\":\"logstash-2017.08.17\"},{\"index\":\"logstash-2017.08.18\"},{\"index\":\"logstash-2017.08.19\"},{\"index\":\"logstash-2017.08.20\"},{\"index\":\"logstash-2017.08.21\"},{\"index\":\"logstash-2017.08.22\"},{\"index\":\"logstash-2017.08.23\"},{\"index\":\"logstash-2017.08.24\"},{\"index\":\"logstash-2017.08.25\"},{\"index\":\"logstash-2017.08.26\"},{\"index\":\"logstash-2017.08.27\"},{\"index\":\"logstash-2017.08.28\"},{\"index\":\"logstash-2017.08.29\"},{\"index\":\"logstash-2017.08.30\"},{\"index\":\"logstash-2017.08.31\"},{\"index\":\"logstash-2017.09.01\"},{\"index\":\"logstash-2017.09.02\"},{\"index\":\"logstash-2017.09.03\"},{\"index\":\"logstash-2017.09.04\"},{\"index\":\"logstash-2017.09.05\"},{\"index\":\"logstash-2017.09.06\"},{\"index\":\"logstash-2017.09.07\"},{\"index\":\"logstash-2017.09.08\"},{\"index\":\"logstash-2017.09.09\"},{\"index\":\"logstash-2017.09.10\"},{\"index\":\"logstash-2017.09.11\"},{\"index\":\"logstash-2017.09.12\"},{\"index\":\"logstash-2017.09.13\"},{\"index\":\"logstash-2017.09.14\"},{\"index\":\"logstash-2017.09.15\"},{\"index\":\"logstash-2017.09.16\"},{\"index\":\"logstash-2017.09.17\"},{\"index\":\"logstash-2017.09.18\"},{\"index\":\"logstash-2017.09.19\"},{\"index\":\"logstash-2017.09.20\"},{\"index\":\"logstash-2017.09.21\"},{\"index\":\"logstash-2017.09.22\"},{\"index\":\"logstash-2017.09.23\"},{\"index\":\"logstash-2017.09.24\"},{\"index\":\"logstash-2017.09.25\"},{\"index\":\"logstash-2017.09.26\"}]\n"
     ]
    }
   ],
   "source": [
    "from requests.auth import HTTPBasicAuth\n",
    "import json, csv, requests, logging, argparse\n",
    "import dateutil.parser\n",
    "import certifi\n",
    "\n",
    "# ElasticSearch parameters\n",
    "ES_HOST = 'dev.log.sangah.com'\n",
    "ES_PORT = '9200'\n",
    "ES_INDEX = 'logstash'\n",
    "ES_USER=''\n",
    "ES_PWD=''\n",
    "\n",
    "# Lets make some logs!\n",
    "logging.basicConfig(format='%(asctime)s - %(levelname)s: %(message)s')\n",
    "_logger = logging.getLogger(__name__)\n",
    "_logger.setLevel(logging.INFO)\n",
    "\n",
    "def main():\n",
    "    data = {}\n",
    "    \n",
    "    s = requests.Session()\n",
    "    \n",
    "    r = s.get( \"https://%s:%s/_cat/indices/%s-2017*?h=index&format=json&s=index\" % \n",
    "              (ES_HOST, ES_PORT, ES_INDEX), \n",
    "              data=json.dumps(data), \n",
    "              auth=HTTPBasicAuth('sangah', 'tkddkpmisV2'), \n",
    "              verify=False\n",
    "             )\n",
    "    \n",
    "    print(r.text)\n",
    "      \n",
    "# if __name__=='__main__':   \n",
    "#     _parser = argparse.ArgumentParser()\n",
    "#     _parser.add_argument('-p', action='store', dest='params', type=str, help='Data to send to elasticsearch')\n",
    "#     _parser.add_argument('-d', '--debug', action='store_true', dest='debug', help='More logging on console')\n",
    "#     _args = _parser.parse_args()\n",
    "    \n",
    "#     if _args.debug:\n",
    "#         _logger.setLevel(logging.DEBUG)\n",
    "\n",
    "#     _logger.debug(\"data: %s\" % _args.params)\n",
    "    \n",
    "#     main()\n",
    "\n",
    "main()"
   ]
  },
  {
   "cell_type": "code",
   "execution_count": null,
   "metadata": {
    "collapsed": true
   },
   "outputs": [],
   "source": []
  }
 ],
 "metadata": {
  "kernelspec": {
   "display_name": "Python 3",
   "language": "python",
   "name": "python3"
  },
  "language_info": {
   "codemirror_mode": {
    "name": "ipython",
    "version": 3
   },
   "file_extension": ".py",
   "mimetype": "text/x-python",
   "name": "python",
   "nbconvert_exporter": "python",
   "pygments_lexer": "ipython3",
   "version": "3.4.2"
  }
 },
 "nbformat": 4,
 "nbformat_minor": 1
}
