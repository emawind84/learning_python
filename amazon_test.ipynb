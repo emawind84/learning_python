{
 "cells": [
  {
   "cell_type": "markdown",
   "metadata": {},
   "source": [
    "# Disco Emanuele - Amazon Test - Problem 2\n",
    "\n",
    "### Test ID: 23280666246462"
   ]
  },
  {
   "cell_type": "code",
   "execution_count": 1,
   "metadata": {
    "collapsed": true
   },
   "outputs": [],
   "source": [
    "# RETURN \"None\" IF THERE IS NO CLOSEST COMMON MANAGER \n",
    "# OR THE GIVEN EMPLOYEES ARE NOT THE PART OF THE COMPANY\n",
    "class Employee:\n",
    "    \n",
    "    r_id = None\n",
    "    name = None\n",
    "    reporters = []\n",
    "    \n",
    "    def __init__(self, r_id, name, reporters):\n",
    "        self.r_id = r_id\n",
    "        self.name = name\n",
    "        self.reporters = reporters\n",
    "        \n",
    "    def get_id(self):\n",
    "        return self.r_id\n",
    "    \n",
    "    def get_name(self):\n",
    "        return self.name\n",
    "    \n",
    "    def get_reports(self):\n",
    "        return self.reporters\n",
    "    \n",
    "def closestCommonManager(ceo, employee1, employee2):\n",
    "    m1 = findClosestManager(ceo, employee1)\n",
    "    m2 = findClosestManager(ceo, employee2)\n",
    "    \n",
    "    # THE GIVEN EMPLOYEES ARE NOT THE PART OF THE COMPANY\n",
    "    if m1 == None or m2 == None: return None\n",
    "    \n",
    "    if m1 == m2:  # employee1's manager is equal to employee2's manager\n",
    "        return m1\n",
    "    elif m1 == employee2:  # employee2 is equal to employee1's manager\n",
    "        return m1\n",
    "    elif m2 == employee1:  # employee1 is equal to employee2's manager\n",
    "        return m2\n",
    "    \n",
    "    if ceo != m1:\n",
    "        # traverse the tree along employee1's path\n",
    "        _m = closestCommonManager(ceo, m1, employee2)\n",
    "        if _m != None: return _m\n",
    "        \n",
    "    if ceo != m2:\n",
    "        # traverse the tree along employee2's path\n",
    "        _m = closestCommonManager(ceo, employee1, m2) \n",
    "        if _m != None: return _m\n",
    "        \n",
    "    # traverse the tree using employee1's path and employee2's path\n",
    "    return closestCommonManager(ceo, m1, m2)\n",
    "\n",
    "\n",
    "def findClosestManager(root, employee):\n",
    "    if root == employee or employee in root.get_reports():\n",
    "        return root\n",
    "    \n",
    "    for p in root.get_reports():\n",
    "        _manager = findClosestManager(p, employee)\n",
    "        if _manager != None: return _manager\n",
    "        \n",
    "    return None;"
   ]
  },
  {
   "cell_type": "markdown",
   "metadata": {},
   "source": [
    "Test\n",
    "--------------------"
   ]
  },
  {
   "cell_type": "code",
   "execution_count": 2,
   "metadata": {
    "collapsed": true
   },
   "outputs": [],
   "source": [
    "# TEST DATA\n",
    "luca = r6 = Employee(6, 'Luca', [])\n",
    "dario = r4 = Employee(4, 'Dario', [])\n",
    "pietro = Employee(9, 'Pietro', [])\n",
    "giulia = Employee(8, 'Giulia', [pietro])\n",
    "charlie = r5 = Employee(5, 'Charlie', [giulia])\n",
    "verdi = r3 = Employee(3, 'Verdi', [dario, charlie])\n",
    "rossi = r2 = Employee(2, 'Rossi', [luca])\n",
    "ceo = marco = r1 = Employee(1, 'Marco', [rossi, verdi])\n",
    "giuseppe = r7 = Employee(7, 'Giuseppe', [])"
   ]
  },
  {
   "cell_type": "code",
   "execution_count": 3,
   "metadata": {
    "collapsed": false
   },
   "outputs": [
    {
     "name": "stdout",
     "output_type": "stream",
     "text": [
      "Verdi\n"
     ]
    }
   ],
   "source": [
    "p = findClosestManager(ceo, charlie)\n",
    "print(p.get_name())"
   ]
  },
  {
   "cell_type": "code",
   "execution_count": 4,
   "metadata": {
    "collapsed": false
   },
   "outputs": [
    {
     "name": "stdout",
     "output_type": "stream",
     "text": [
      "Rossi\n"
     ]
    }
   ],
   "source": [
    "p = findClosestManager(ceo, luca)\n",
    "print(p.get_name())"
   ]
  },
  {
   "cell_type": "code",
   "execution_count": 5,
   "metadata": {
    "collapsed": false
   },
   "outputs": [
    {
     "name": "stdout",
     "output_type": "stream",
     "text": [
      "None\n"
     ]
    }
   ],
   "source": [
    "p = findClosestManager(ceo, giuseppe)\n",
    "print(p)"
   ]
  },
  {
   "cell_type": "code",
   "execution_count": 6,
   "metadata": {
    "collapsed": false
   },
   "outputs": [
    {
     "name": "stdout",
     "output_type": "stream",
     "text": [
      "Marco\n"
     ]
    }
   ],
   "source": [
    "p = closestCommonManager(ceo, charlie, luca)\n",
    "print(p.get_name())"
   ]
  },
  {
   "cell_type": "code",
   "execution_count": 7,
   "metadata": {
    "collapsed": false
   },
   "outputs": [
    {
     "name": "stdout",
     "output_type": "stream",
     "text": [
      "Charlie\n"
     ]
    }
   ],
   "source": [
    "p = closestCommonManager(ceo, pietro, charlie)\n",
    "print(p.get_name())"
   ]
  },
  {
   "cell_type": "code",
   "execution_count": 8,
   "metadata": {
    "collapsed": false
   },
   "outputs": [
    {
     "name": "stdout",
     "output_type": "stream",
     "text": [
      "Giulia\n"
     ]
    }
   ],
   "source": [
    "p = closestCommonManager(ceo, pietro, giulia)\n",
    "print(p.get_name())"
   ]
  },
  {
   "cell_type": "code",
   "execution_count": 9,
   "metadata": {
    "collapsed": false
   },
   "outputs": [
    {
     "name": "stdout",
     "output_type": "stream",
     "text": [
      "None\n"
     ]
    }
   ],
   "source": [
    "# giuseppe is not part of the company: return None\n",
    "p = closestCommonManager(ceo, pietro, giuseppe)\n",
    "print(p)"
   ]
  },
  {
   "cell_type": "code",
   "execution_count": 10,
   "metadata": {
    "collapsed": false
   },
   "outputs": [
    {
     "name": "stdout",
     "output_type": "stream",
     "text": [
      "Charlie\n"
     ]
    }
   ],
   "source": [
    "p = closestCommonManager(ceo, charlie, giulia)\n",
    "print(p.get_name())"
   ]
  },
  {
   "cell_type": "code",
   "execution_count": 11,
   "metadata": {
    "collapsed": false
   },
   "outputs": [
    {
     "name": "stdout",
     "output_type": "stream",
     "text": [
      "Verdi\n"
     ]
    }
   ],
   "source": [
    "p = closestCommonManager(ceo, dario, giulia)\n",
    "print(p.get_name())"
   ]
  },
  {
   "cell_type": "code",
   "execution_count": null,
   "metadata": {
    "collapsed": true
   },
   "outputs": [],
   "source": []
  }
 ],
 "metadata": {
  "kernelspec": {
   "display_name": "Python 3",
   "language": "python",
   "name": "python3"
  },
  "language_info": {
   "codemirror_mode": {
    "name": "ipython",
    "version": 3
   },
   "file_extension": ".py",
   "mimetype": "text/x-python",
   "name": "python",
   "nbconvert_exporter": "python",
   "pygments_lexer": "ipython3",
   "version": "3.4.2"
  }
 },
 "nbformat": 4,
 "nbformat_minor": 0
}
