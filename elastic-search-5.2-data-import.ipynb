{
 "cells": [
  {
   "cell_type": "code",
   "execution_count": 8,
   "metadata": {
    "collapsed": false
   },
   "outputs": [],
   "source": [
    "#!/usr/bin/env python3\n",
    "\n",
    "import json, csv, requests, logging, argparse\n",
    "import dateutil.parser\n",
    "\n",
    "# ElasticSearch parameters\n",
    "ES_HOST = '127.0.0.1'\n",
    "ES_PORT = '9200'\n",
    "ES_INDEX = 'test'\n",
    "ES_TYPE = 'test'\n",
    "\n",
    "# Lets make some logs!\n",
    "logging.basicConfig(format='%(asctime)s - %(levelname)s: %(message)s')\n",
    "_logger = logging.getLogger(__name__)\n",
    "_logger.setLevel(logging.INFO)\n",
    "\n",
    "def main(datastr):\n",
    "    data = json.loads(datastr)\n",
    "    \n",
    "    s = requests.Session()\n",
    "    \n",
    "    #r = s.delete( \"http://%s:%s/%s/\" % (ES_HOST, ES_PORT, ES_INDEX) )\n",
    "    #_logger.debug(r.text)\n",
    "    \n",
    "    #data = { \"data1\": \"test\", \"data2\": \"test2\" }\n",
    "\n",
    "    # let's prevent es from overwriting (creating new version) the same data if already exists\n",
    "    # add the querystring: \"op_type=create\" to prevent from creating new version\n",
    "    # https://www.elastic.co/guide/en/elasticsearch/guide/current/create-doc.html#create-doc\n",
    "    r = s.post( \"http://%s:%s/%s/%s?op_type=create\" % \n",
    "              (ES_HOST, ES_PORT, ES_INDEX, ES_TYPE), \n",
    "              data=json.dumps(data))\n",
    "    _logger.debug(r.text)\n",
    "      \n",
    "# if __name__=='__main__':   \n",
    "#     _parser = argparse.ArgumentParser()\n",
    "#     _parser.add_argument('-p', action='store', dest='params', type=str, help='Data to send to elasticsearch')\n",
    "#     _parser.add_argument('-d', '--debug', action='store_true', dest='debug', help='More logging on console')\n",
    "#     _args = _parser.parse_args()\n",
    "    \n",
    "#     if _args.debug:\n",
    "#         _logger.setLevel(logging.DEBUG)\n",
    "\n",
    "#     _logger.debug(\"data: %s\" % _args.params)\n",
    "    \n",
    "#     main()\n",
    "\n",
    "main(\"{ \\\"data1\\\": \\\"test\\\", \\\"data3\\\": \\\"test3\\\" }\")"
   ]
  },
  {
   "cell_type": "code",
   "execution_count": null,
   "metadata": {
    "collapsed": true
   },
   "outputs": [],
   "source": []
  }
 ],
 "metadata": {
  "kernelspec": {
   "display_name": "Python 3",
   "language": "python",
   "name": "python3"
  },
  "language_info": {
   "codemirror_mode": {
    "name": "ipython",
    "version": 3
   },
   "file_extension": ".py",
   "mimetype": "text/x-python",
   "name": "python",
   "nbconvert_exporter": "python",
   "pygments_lexer": "ipython3",
   "version": "3.4.2"
  }
 },
 "nbformat": 4,
 "nbformat_minor": 0
}
