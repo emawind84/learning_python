{
 "cells": [
  {
   "cell_type": "code",
   "execution_count": 20,
   "metadata": {},
   "outputs": [],
   "source": [
    "import valve.source.a2s\n",
    "import json\n",
    "\n",
    "SERVER_ADDRESS = ('192.168.0.9', 27016)"
   ]
  },
  {
   "cell_type": "code",
   "execution_count": 31,
   "metadata": {},
   "outputs": [
    {
     "name": "stdout",
     "output_type": "stream",
     "text": [
      "{\"player_count\": 2, \"version\": \"1186301\"}\n"
     ]
    }
   ],
   "source": [
    "with valve.source.a2s.ServerQuerier(SERVER_ADDRESS, timeout=5) as server:\n",
    "    info = server.info()\n",
    "    \n",
    "infodict = {\n",
    "    'player_count': info['player_count'],\n",
    "    'version': info['version']\n",
    "}\n",
    "\n",
    "print(json.dumps(infodict))"
   ]
  },
  {
   "cell_type": "code",
   "execution_count": null,
   "metadata": {
    "collapsed": true
   },
   "outputs": [],
   "source": []
  }
 ],
 "metadata": {
  "kernelspec": {
   "display_name": "Python 3",
   "language": "python",
   "name": "python3"
  },
  "language_info": {
   "codemirror_mode": {
    "name": "ipython",
    "version": 3
   },
   "file_extension": ".py",
   "mimetype": "text/x-python",
   "name": "python",
   "nbconvert_exporter": "python",
   "pygments_lexer": "ipython3",
   "version": "3.4.2"
  }
 },
 "nbformat": 4,
 "nbformat_minor": 2
}
