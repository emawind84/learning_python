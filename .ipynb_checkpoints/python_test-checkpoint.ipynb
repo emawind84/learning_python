{
 "cells": [
  {
   "cell_type": "code",
   "execution_count": 1,
   "metadata": {
    "collapsed": false
   },
   "outputs": [
    {
     "data": {
      "text/plain": [
       "[0, 0, 0, 0, 0, 0, 0, 0, 0, 0]"
      ]
     },
     "execution_count": 1,
     "metadata": {},
     "output_type": "execute_result"
    }
   ],
   "source": [
    "N = [0 for r in range(10)]\n",
    "N"
   ]
  },
  {
   "cell_type": "code",
   "execution_count": 2,
   "metadata": {
    "collapsed": false
   },
   "outputs": [
    {
     "data": {
      "text/plain": [
       "[None, None, None, None, None, None, None, None, None, None]"
      ]
     },
     "execution_count": 2,
     "metadata": {},
     "output_type": "execute_result"
    }
   ],
   "source": [
    "N = [None for r in range(10)]\n",
    "N"
   ]
  },
  {
   "cell_type": "code",
   "execution_count": 42,
   "metadata": {
    "collapsed": false
   },
   "outputs": [
    {
     "name": "stdout",
     "output_type": "stream",
     "text": [
      "4 6 8 10 10 \n",
      "4 6 8 8 10 \n",
      "4 6 6 8 10 \n",
      "4 5 6 8 10 \n"
     ]
    }
   ],
   "source": [
    "s = 5\n",
    "ar = '4 6 8 10 5'\n",
    "ar = [int(v) for v in ar.split()]\n",
    "v = ar[len(ar)-1]\n",
    "\n",
    "def printAr():\n",
    "    for r in ar: print(r),\n",
    "    print('')\n",
    "\n",
    "for i in range(len(ar)-2, -1, -1):\n",
    "    if ar[i] <= v:\n",
    "        ar[i+1] = v\n",
    "        printAr()\n",
    "        break\n",
    "        \n",
    "    if ar[i] > v:\n",
    "        ar[i+1] = ar[i]\n",
    "        \n",
    "    printAr()"
   ]
  },
  {
   "cell_type": "code",
   "execution_count": 39,
   "metadata": {
    "collapsed": false,
    "scrolled": true
   },
   "outputs": [
    {
     "data": {
      "text/plain": [
       "[1, 2, 3, 4, 10]"
      ]
     },
     "execution_count": 39,
     "metadata": {},
     "output_type": "execute_result"
    }
   ],
   "source": [
    "N = [1, 2, 3, 4]\n",
    "N[5:6] = [10]\n",
    "N"
   ]
  },
  {
   "cell_type": "raw",
   "metadata": {},
   "source": [
    "Insertion Sort\n",
    "--------------------------------"
   ]
  },
  {
   "cell_type": "code",
   "execution_count": 47,
   "metadata": {
    "collapsed": false
   },
   "outputs": [
    {
     "data": {
      "text/plain": [
       "[1, 2.5, 3, 3, 7]"
      ]
     },
     "execution_count": 47,
     "metadata": {},
     "output_type": "execute_result"
    }
   ],
   "source": [
    "def sort(ar):\n",
    "    v = ar[len(ar)-1]\n",
    "    \n",
    "    for i in range(len(ar)-2, -1, -1):\n",
    "        if ar[i] <= v:\n",
    "            ar[i+1] = v\n",
    "\n",
    "        if ar[i] > v:\n",
    "            ar[i+1] = ar[i]\n",
    "\n",
    "        if ar[i] <= v:\n",
    "            break\n",
    "\n",
    "    if ar[0] > v:\n",
    "        ar[0] = v\n",
    "        \n",
    "    return ar\n",
    "\n",
    "sort([1,3,3,7,2.5])"
   ]
  },
  {
   "cell_type": "code",
   "execution_count": 54,
   "metadata": {
    "collapsed": false,
    "scrolled": false
   },
   "outputs": [
    {
     "data": {
      "text/plain": [
       "[1]"
      ]
     },
     "execution_count": 54,
     "metadata": {},
     "output_type": "execute_result"
    }
   ],
   "source": [
    "N = [1, 2, 3]\n",
    "N[0:1]"
   ]
  },
  {
   "cell_type": "code",
   "execution_count": null,
   "metadata": {
    "collapsed": true
   },
   "outputs": [],
   "source": []
  },
  {
   "cell_type": "code",
   "execution_count": 60,
   "metadata": {
    "collapsed": true
   },
   "outputs": [],
   "source": [
    "def printAr(ar):\n",
    "    # print array as space separated string value\n",
    "    print(\" \".join(map(str,ar)))"
   ]
  },
  {
   "cell_type": "code",
   "execution_count": 61,
   "metadata": {
    "collapsed": false,
    "scrolled": false
   },
   "outputs": [
    {
     "name": "stdout",
     "output_type": "stream",
     "text": [
      "2 4 3 5 6 1\n",
      "2 3 4 5 6 1\n",
      "2 3 4 5 6 1\n",
      "2 3 4 5 6 1\n",
      "1 2 3 4 5 6\n"
     ]
    }
   ],
   "source": [
    "N = [2, 4, 3, 5, 6, 1]\n",
    "SN = []\n",
    "for i in range(1, len(N)):\n",
    "    N = sort(N[:i+1]) + N[i+1:]\n",
    "    printAr(N)"
   ]
  },
  {
   "cell_type": "raw",
   "metadata": {},
   "source": [
    "Correctness and the Loop Invariant\n",
    "-------------------------------------"
   ]
  },
  {
   "cell_type": "code",
   "execution_count": 69,
   "metadata": {
    "collapsed": false
   },
   "outputs": [],
   "source": [
    "# input compatibility statement\n",
    "import sys\n",
    "if sys.version[0] == '2': input = raw_input # for compatibility with 2.X"
   ]
  },
  {
   "cell_type": "code",
   "execution_count": 72,
   "metadata": {
    "collapsed": false
   },
   "outputs": [
    {
     "name": "stdout",
     "output_type": "stream",
     "text": [
      "5\n",
      "5 6 3 2 1\n",
      "1 2 3 5 6\n"
     ]
    }
   ],
   "source": [
    "def insertion_sort(l):\n",
    "    for i in range(1, len(l)):\n",
    "        j = i-1\n",
    "        key = l[i]\n",
    "        while (j >= 0) and (l[j] > key):\n",
    "           l[j+1] = l[j]\n",
    "           j -= 1\n",
    "        l[j+1] = key\n",
    "\n",
    "\n",
    "#m = int(input().strip())\n",
    "#ar = [int(i) for i in input().strip().split()]\n",
    "m = int(input().strip())\n",
    "vals = input().strip().split()\n",
    "ar = [int(i) for i in vals]\n",
    "insertion_sort(ar)\n",
    "print(\" \".join(map(str,ar)))"
   ]
  },
  {
   "cell_type": "raw",
   "metadata": {},
   "source": [
    "Quick Sort\n",
    "----------------------------------"
   ]
  },
  {
   "cell_type": "code",
   "execution_count": 75,
   "metadata": {
    "collapsed": false
   },
   "outputs": [
    {
     "data": {
      "text/plain": [
       "[2, 3, 4]"
      ]
     },
     "execution_count": 75,
     "metadata": {},
     "output_type": "execute_result"
    }
   ],
   "source": [
    "N = [3, 4]\n",
    "N.insert(0, 2)\n",
    "N"
   ]
  },
  {
   "cell_type": "code",
   "execution_count": 77,
   "metadata": {
    "collapsed": false
   },
   "outputs": [
    {
     "data": {
      "text/plain": [
       "[1, 2, 3, 4]"
      ]
     },
     "execution_count": 77,
     "metadata": {},
     "output_type": "execute_result"
    }
   ],
   "source": [
    "N[0:0] = [1]; N"
   ]
  },
  {
   "cell_type": "code",
   "execution_count": 92,
   "metadata": {
    "collapsed": false
   },
   "outputs": [
    {
     "data": {
      "text/plain": [
       "4"
      ]
     },
     "execution_count": 92,
     "metadata": {},
     "output_type": "execute_result"
    }
   ],
   "source": [
    "N[-1]"
   ]
  },
  {
   "cell_type": "code",
   "execution_count": 79,
   "metadata": {
    "collapsed": false
   },
   "outputs": [
    {
     "name": "stdout",
     "output_type": "stream",
     "text": [
      "5\n",
      "5 3 7 1 2\n",
      "2 1 3 5 7\n"
     ]
    }
   ],
   "source": [
    "#!/bin/python\n",
    "def partition(ar):\n",
    "    key = ar[0]\n",
    "    \n",
    "    ret = [key]\n",
    "    \n",
    "    for i in range(1, len(ar)):\n",
    "        if ar[i] > key:\n",
    "            ret.append(ar[i])\n",
    "        else:\n",
    "            ret.insert(0, ar[i])\n",
    "    \n",
    "    return ret\n",
    "\n",
    "m = input()\n",
    "ar = [int(i) for i in raw_input().strip().split()]\n",
    "P = partition(ar)\n",
    "print(' '.join(map(str, P)))"
   ]
  },
  {
   "cell_type": "code",
   "execution_count": 89,
   "metadata": {
    "collapsed": false
   },
   "outputs": [
    {
     "name": "stdout",
     "output_type": "stream",
     "text": [
      "7\n",
      "5 8 1 3 7 9 2\n",
      "1 2 3\n",
      "7 8 9\n",
      "1 2 3 5 7 8 9\n"
     ]
    }
   ],
   "source": [
    "# METHOD 1\n",
    "\n",
    "#!/bin/python\n",
    "def quickSort(ar):\n",
    "    \n",
    "    if (len(ar) == 1) or (len(ar) == 0):\n",
    "        return ar\n",
    "    \n",
    "    key = ar[0]\n",
    "    nr = [key]\n",
    "    for i in range(1, len(ar)):\n",
    "        if ar[i] > key:\n",
    "            nr.append(ar[i])\n",
    "        else:\n",
    "            nr.insert(0, ar[i])\n",
    "    \n",
    "    ret = quickSort(nr[:nr.index(key)]) + [key] + quickSort(nr[nr.index(key)+1:])\n",
    "    print(' '.join(map(str, ret)))\n",
    "    \n",
    "    return ret\n",
    "\n",
    "m = input()\n",
    "ar = [int(i) for i in raw_input().strip().split()]\n",
    "P = quickSort(ar)"
   ]
  },
  {
   "cell_type": "code",
   "execution_count": 90,
   "metadata": {
    "collapsed": false,
    "scrolled": true
   },
   "outputs": [
    {
     "name": "stdout",
     "output_type": "stream",
     "text": [
      "7\n",
      "5 8 1 3 7 9 2\n",
      "2 3\n",
      "1 2 3\n",
      "7 8 9\n",
      "1 2 3 5 7 8 9\n"
     ]
    }
   ],
   "source": [
    "# METHOD 2\n",
    "\n",
    "#!/bin/python\n",
    "def quickSort(ar):\n",
    "    \n",
    "    if (len(ar) == 1) or (len(ar) == 0):\n",
    "        return ar\n",
    "    \n",
    "    key = ar[0]\n",
    "    nl = []\n",
    "    nr = []\n",
    "    for i in xrange(1, len(ar)):\n",
    "        if ar[i] > key:\n",
    "            nr.append(ar[i])\n",
    "        else:\n",
    "            nl.append(ar[i])\n",
    "    \n",
    "    ret = quickSort(nl) + [key] + quickSort(nr)\n",
    "    print(' '.join(map(str, ret)))\n",
    "    \n",
    "    return ret\n",
    "\n",
    "m = input()\n",
    "ar = [int(i) for i in raw_input().strip().split()]\n",
    "P = quickSort(ar)"
   ]
  },
  {
   "cell_type": "code",
   "execution_count": 101,
   "metadata": {
    "collapsed": false,
    "scrolled": true
   },
   "outputs": [
    {
     "data": {
      "text/plain": [
       "[]"
      ]
     },
     "execution_count": 101,
     "metadata": {},
     "output_type": "execute_result"
    }
   ],
   "source": [
    "N = []\n",
    "N[-1:]"
   ]
  },
  {
   "cell_type": "raw",
   "metadata": {},
   "source": [
    "Quicksort with Lomuto partition\n",
    "------------------------------------"
   ]
  },
  {
   "cell_type": "code",
   "execution_count": 5,
   "metadata": {
    "collapsed": false
   },
   "outputs": [
    {
     "name": "stdout",
     "output_type": "stream",
     "text": [
      "1\n",
      "1 3 9 8 2 7 5\n",
      "1 3 2 5 9 7 8\n",
      "1 2 3 5 9 7 8\n",
      "1 2 3 5 7 8 9\n"
     ]
    }
   ],
   "source": [
    "def swap(ar, i, j):\n",
    "    t = ar[i]\n",
    "    ar[i] = ar[j]\n",
    "    ar[j] = t\n",
    "    \n",
    "def partition(ar, si, ei):\n",
    "    p = ar[ei]\n",
    "    j = si\n",
    "    for i in xrange(si, ei):\n",
    "        if (ar[i] < p):\n",
    "            swap(ar, i, j)\n",
    "            \n",
    "            j += 1\n",
    "\n",
    "    swap(ar, j, ei)\n",
    "              \n",
    "    return j\n",
    "\n",
    "def quickSort(ar, lo, hi):\n",
    "    if hi > lo:\n",
    "        pi = partition(ar, lo, hi)\n",
    "        print(' '.join(map(str, ar)))\n",
    "        quickSort(ar, lo, pi - 1)\n",
    "        quickSort(ar, pi + 1, hi)\n",
    "\n",
    "m = input()\n",
    "ar = [int(i) for i in raw_input().strip().split()]\n",
    "quickSort(ar, 0, len(ar) - 1)"
   ]
  },
  {
   "cell_type": "code",
   "execution_count": 8,
   "metadata": {
    "collapsed": false,
    "scrolled": true
   },
   "outputs": [
    {
     "name": "stdout",
     "output_type": "stream",
     "text": [
      "1 3 9 8 2 7 5\n",
      "9\n"
     ]
    }
   ],
   "source": [
    "def sort(ar):\n",
    "    global shift_cnt\n",
    "    v = ar[len(ar)-1]\n",
    "    \n",
    "    for i in range(len(ar)-2, -1, -1):\n",
    "        if ar[i] < v:\n",
    "            ar[i+1] = v\n",
    "\n",
    "        if ar[i] > v:\n",
    "            ar[i+1] = ar[i]\n",
    "            shift_cnt += 1\n",
    "\n",
    "        if ar[i] <= v:\n",
    "            break\n",
    "\n",
    "    if ar[0] > v:\n",
    "        ar[0] = v\n",
    "        \n",
    "    return ar\n",
    "\n",
    "def insertionSort(N):\n",
    "    for i in range(1, len(N)):\n",
    "        N = sort(N[:i+1]) + N[i+1:]\n",
    "\n",
    "shift_cnt = 0\n",
    "ar = [int(i) for i in raw_input().strip().split()]\n",
    "insertionSort(ar)\n",
    "\n",
    "print(shift_cnt)"
   ]
  },
  {
   "cell_type": "raw",
   "metadata": {},
   "source": [
    "Counting Sort\n",
    "--------------------------"
   ]
  },
  {
   "cell_type": "code",
   "execution_count": 2,
   "metadata": {
    "collapsed": false,
    "scrolled": false
   },
   "outputs": [
    {
     "name": "stdout",
     "output_type": "stream",
     "text": [
      "63 25 73 1 98 73 56 84 86 57 16 83 8 25 81 56 9 53 98 67 99 12 83 89 80 91 39 86 76 85 74 39 25 90 59 10 94 32 44 3 89 30 27 79 46 96 27 32 18 21 92 69 81 40 40 34 68 78 24 87 42 69 23 41 78 22 6 90 99 89 50 30 20 1 43 3 70 95 33 46 44 9 69 48 33 60 65 16 82 67 61 32 21 79 75 75 13 87 70 33\n",
      "0 2 0 2 0 0 1 0 1 2 1 0 1 1 0 0 2 0 1 0 1 2 1 1 1 3 0 2 0 0 2 0 3 3 1 0 0 0 0 2 2 1 1 1 2 0 2 0 1 0 1 0 0 1 0 0 2 1 0 1 1 1 0 1 0 1 0 2 1 3 2 0 0 2 1 2 1 0 2 2 1 2 1 2 1 1 2 2 0 3 2 1 1 0 1 1 1 0 2 2\n"
     ]
    }
   ],
   "source": [
    "# input compatibility statement\n",
    "import sys\n",
    "if sys.version[0] == '2': input = raw_input\n",
    "\n",
    "n = [0 for v in range(100)]\n",
    "\n",
    "def countSort(ar):\n",
    "    \n",
    "    for v in ar:\n",
    "        n[v] += 1\n",
    "\n",
    "#m = int(input().strip())\n",
    "ar = [int(i) for i in input().strip().split()]\n",
    "countSort(ar)\n",
    "print( ' '.join(map(str, n)) )"
   ]
  },
  {
   "cell_type": "code",
   "execution_count": 7,
   "metadata": {
    "collapsed": false
   },
   "outputs": [
    {
     "data": {
      "text/plain": [
       "[1, 1, 2, 2]"
      ]
     },
     "execution_count": 7,
     "metadata": {},
     "output_type": "execute_result"
    }
   ],
   "source": [
    "t = []\n",
    "t.extend([1 for v in xrange(2)])\n",
    "t.extend([2 for v in xrange(2)])\n",
    "t"
   ]
  },
  {
   "cell_type": "code",
   "execution_count": 14,
   "metadata": {
    "collapsed": false
   },
   "outputs": [
    {
     "name": "stdout",
     "output_type": "stream",
     "text": [
      "4 5 1 7 4\n",
      "1 4 4 5 7\n"
     ]
    }
   ],
   "source": [
    "n = [0 for v in range(100)]\n",
    "ar = [int(i) for i in input().strip().split()]\n",
    "countSort(ar)\n",
    "#print( ' '.join(map(str, n)) )\n",
    "\n",
    "ret = []\n",
    "for i in range(len(n)):\n",
    "    ret.extend([str(i) for v in xrange(n[i])])\n",
    "    \n",
    "print( ' '.join(map(str, ret)) )"
   ]
  },
  {
   "cell_type": "code",
   "execution_count": 22,
   "metadata": {
    "collapsed": false
   },
   "outputs": [
    {
     "data": {
      "text/plain": [
       "[1, 2, 3]"
      ]
     },
     "execution_count": 22,
     "metadata": {},
     "output_type": "execute_result"
    }
   ],
   "source": [
    "N = [(1, 'a'), (2, 'b'), (3, 'c')]\n",
    "[i for (i, v) in N]"
   ]
  },
  {
   "cell_type": "code",
   "execution_count": 36,
   "metadata": {
    "collapsed": false
   },
   "outputs": [
    {
     "name": "stdout",
     "output_type": "stream",
     "text": [
      "6\n",
      "6 a\n",
      "3 a\n",
      "1 a\n",
      "4 a\n",
      "2 a\n",
      "6 a\n",
      "0 1 2 3 4 4 6 6 6 6 6 6 6 6 6 6 6 6 6 6 6 6 6 6 6 6 6 6 6 6 6 6 6 6 6 6 6 6 6 6 6 6 6 6 6 6 6 6 6 6 6 6 6 6 6 6 6 6 6 6 6 6 6 6 6 6 6 6 6 6 6 6 6 6 6 6 6 6 6 6 6 6 6 6 6 6 6 6 6 6 6 6 6 6 6 6 6 6 6 6\n"
     ]
    }
   ],
   "source": [
    "# Enter your code here. Read input from STDIN. Print output to STDOUT\n",
    "# input compatibility statement\n",
    "import sys\n",
    "if sys.version[0] == '2': input = raw_input\n",
    "    \n",
    "def countSort(ar):\n",
    "    n = [0 for v in range(100)]    \n",
    "    for v in ar:\n",
    "        n[v] += 1\n",
    "    return n\n",
    "\n",
    "# read input\n",
    "ar = []\n",
    "m = int(input().strip())\n",
    "for i in xrange(m):\n",
    "    v = input().strip().split()\n",
    "    ar.append( (int(v[0]), v[1]) )\n",
    "\n",
    "# do count\n",
    "n = countSort([i for (i, v) in ar])\n",
    "\n",
    "count = 0\n",
    "for i in range(len(n)):\n",
    "    count += n[i]\n",
    "    n[i] = count\n",
    "    \n",
    "# print output    \n",
    "print( ' '.join(map(str, n)) )"
   ]
  },
  {
   "cell_type": "raw",
   "metadata": {},
   "source": [
    "The Full Counting Sort\n",
    "---------------------------"
   ]
  },
  {
   "cell_type": "markdown",
   "metadata": {},
   "source": [
    "###### Enter your code here. Read input from STDIN. Print output to STDOUT\n",
    "# input compatibility statement\n",
    "import sys\n",
    "if sys.version[0] == '2': input = raw_input\n",
    "    \n",
    "def countSort(ar):\n",
    "    n = [0 for v in range(100)]    \n",
    "    for v in ar:\n",
    "        n[v] += 1\n",
    "    return n\n",
    "\n",
    "# read input\n",
    "ar = []\n",
    "m = int(input().strip())\n",
    "for i in xrange(m):\n",
    "    v = input().strip().split()\n",
    "    ar.append( (int(v[0]), v[1]) )\n",
    "\n",
    "# do count\n",
    "n = countSort([i for (i, v) in ar])\n",
    "\n",
    "count = 0\n",
    "for i in range(len(n)):\n",
    "    count += n[i]\n",
    "    n[i] = count\n",
    "    \n",
    "# print output    \n",
    "print( ' '.join(map(str, n)) )\n",
    "\n",
    "def putValue(ret, v, lo, hi):\n",
    "    for i in range(lo, hi):\n",
    "        if ret[i] == None:\n",
    "            ret[i] = v\n",
    "            break\n",
    "        \n",
    "\n",
    "ret = [None for v in range(m)]\n",
    "for i in range(m):\n",
    "    i, v = ar[i]\n",
    "    v = v if i > (m / 2) - 1 else '-'\n",
    "    putValue(ret, v, n[i - 1], n[i])\n",
    "    \n",
    "print ret"
   ]
  },
  {
   "cell_type": "code",
   "execution_count": null,
   "metadata": {
    "collapsed": true
   },
   "outputs": [],
   "source": []
  }
 ],
 "metadata": {
  "kernelspec": {
   "display_name": "Python 2",
   "language": "python",
   "name": "python2"
  },
  "language_info": {
   "codemirror_mode": {
    "name": "ipython",
    "version": 2
   },
   "file_extension": ".py",
   "mimetype": "text/x-python",
   "name": "python",
   "nbconvert_exporter": "python",
   "pygments_lexer": "ipython2",
   "version": "2.7.3"
  }
 },
 "nbformat": 4,
 "nbformat_minor": 0
}
